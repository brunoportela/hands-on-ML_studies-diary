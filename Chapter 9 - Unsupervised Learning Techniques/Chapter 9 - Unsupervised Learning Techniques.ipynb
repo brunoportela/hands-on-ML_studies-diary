{
 "cells": [
  {
   "cell_type": "markdown",
   "metadata": {},
   "source": [
    "Quick round-up before we get into details:\n",
    "- Clustering\n",
    "\n",
    "The goal is to group similar instances together into clusters. Clustering is a great tool for data analysis, customer segmentation, recommender systems, search engines, image segmentation, semi-supervised learning, dimensionality reduction, and more.\n",
    "- Anomaly detection\n",
    "\n",
    "The objective is to learn what “normal” data looks like, and then use that to detect abnormal instances, such as defective items on a production line or a new trend in a time series.\n",
    "- Density estimation\n",
    "\n",
    "This is the task of estimating the probability density function (PDF) of the random process that generated the dataset. Density estimation is commonly used for anomaly detection: instances located in very low-density regions are likely to be anomalies. It is also useful for data analysis and visualization."
   ]
  },
  {
   "cell_type": "markdown",
   "metadata": {},
   "source": [
    "## Clustering\n",
    "Identifying similar instances and assigning them to clusters, or groups of similar instances."
   ]
  },
  {
   "cell_type": "markdown",
   "metadata": {},
   "source": [
    "Uses:\n",
    "##### Customer Segmentation:\n",
    "Cluster customer based on purchases or activity on the website. Useful to apply marketing campaings for each segment. Recommend products to customers based on the data.\n",
    "##### Data Analysis:\n",
    "Separate data in cluster and then analyse clusters separately.\n",
    "##### Dimensionality Reduction Technique:\n",
    "After clustering, it is (usually) possible to measure each instance's affinity with each cluster.\n",
    "##### Anomaly Detection (outlier detection):\n",
    "Any instance that have low affinity to all the clusters is likely to be an anomaly. Useful for fraud detection or defects in manufacturing.\n",
    "##### Semi-supervised Learning:\n",
    "If you only have a few labels, you can perform a clustering and propagate the labels to all instances in the same cluster. This can increase the number of labels available for subsequent supervised learning algorithms, improving its performance.\n",
    "##### Search Engines:\n",
    "Search images that are similar to an image uploaded. This is done by applying clustering to all images in the database first. Then, apply it to the image uploaded and compare the results with the database. Similar images will be on the same clusters.\n",
    "##### To segment an image:\n",
    "Clustering pixels according to their color and replacing each pixel's color with the mean color of its cluster. You can considerably reduce the number of colors of an image. It makes easier to detect the contour of each object, for example."
   ]
  },
  {
   "cell_type": "markdown",
   "metadata": {},
   "source": [
    "### K-Means"
   ]
  },
  {
   "cell_type": "code",
   "execution_count": null,
   "metadata": {},
   "outputs": [],
   "source": []
  }
 ],
 "metadata": {
  "kernelspec": {
   "display_name": "Python 3",
   "language": "python",
   "name": "python3"
  },
  "language_info": {
   "codemirror_mode": {
    "name": "ipython",
    "version": 3
   },
   "file_extension": ".py",
   "mimetype": "text/x-python",
   "name": "python",
   "nbconvert_exporter": "python",
   "pygments_lexer": "ipython3",
   "version": "3.7.7"
  }
 },
 "nbformat": 4,
 "nbformat_minor": 4
}
