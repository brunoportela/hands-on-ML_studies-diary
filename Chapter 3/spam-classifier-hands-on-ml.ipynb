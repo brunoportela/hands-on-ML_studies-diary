{
 "cells": [
  {
   "cell_type": "markdown",
   "metadata": {},
   "source": [
    "Setup"
   ]
  },
  {
   "cell_type": "code",
   "execution_count": 1,
   "metadata": {},
   "outputs": [],
   "source": [
    "# Python ≥3.5 is required\n",
    "import sys\n",
    "assert sys.version_info >= (3, 5)\n",
    "\n",
    "# Scikit-Learn ≥0.20 is required\n",
    "import sklearn\n",
    "assert sklearn.__version__ >= \"0.20\"\n",
    "\n",
    "# Common imports\n",
    "import numpy as np\n",
    "import os\n",
    "\n",
    "# to make this notebook's output stable across runs\n",
    "np.random.seed(42)\n",
    "\n",
    "# To plot pretty figures\n",
    "%matplotlib inline\n",
    "import matplotlib as mpl\n",
    "import matplotlib.pyplot as plt\n",
    "mpl.rc('axes', labelsize=14)\n",
    "mpl.rc('xtick', labelsize=12)\n",
    "mpl.rc('ytick', labelsize=12)"
   ]
  },
  {
   "cell_type": "markdown",
   "metadata": {},
   "source": [
    "Fetch the data"
   ]
  },
  {
   "cell_type": "code",
   "execution_count": 2,
   "metadata": {},
   "outputs": [],
   "source": [
    "\n",
    "import os\n",
    "import tarfile\n",
    "import urllib\n",
    "\n",
    "DOWNLOAD_ROOT = \"http://spamassassin.apache.org/old/publiccorpus/\"\n",
    "HAM_URL = DOWNLOAD_ROOT + \"20030228_easy_ham.tar.bz2\"\n",
    "SPAM_URL = DOWNLOAD_ROOT + \"20030228_spam.tar.bz2\"\n",
    "SPAM_PATH = os.path.join(\"datasets\", \"spam\")\n",
    "\n",
    "def fetch_spam_data(spam_url=SPAM_URL, spam_path=SPAM_PATH):\n",
    "    if not os.path.isdir(spam_path):\n",
    "        os.makedirs(spam_path)\n",
    "    for filename, url in ((\"ham.tar.bz2\", HAM_URL), (\"spam.tar.bz2\", SPAM_URL)):\n",
    "        path = os.path.join(spam_path, filename)\n",
    "        if not os.path.isfile(path):\n",
    "            urllib.request.urlretrieve(url, path)\n",
    "        tar_bz2_file = tarfile.open(path)\n",
    "        tar_bz2_file.extractall(path=SPAM_PATH)\n",
    "        tar_bz2_file.close()"
   ]
  },
  {
   "cell_type": "code",
   "execution_count": 3,
   "metadata": {},
   "outputs": [],
   "source": [
    "fetch_spam_data()"
   ]
  },
  {
   "cell_type": "markdown",
   "metadata": {},
   "source": [
    "Load the emails"
   ]
  },
  {
   "cell_type": "code",
   "execution_count": 4,
   "metadata": {},
   "outputs": [],
   "source": [
    "HAM_DIR = os.path.join(SPAM_PATH, \"easy_ham\")\n",
    "SPAM_DIR = os.path.join(SPAM_PATH, \"spam\")\n",
    "ham_filenames = [name for name in sorted(os.listdir(HAM_DIR)) if len(name) > 20]\n",
    "spam_filenames = [name for name in sorted(os.listdir(SPAM_DIR)) if len(name) > 20]"
   ]
  },
  {
   "cell_type": "code",
   "execution_count": 5,
   "metadata": {},
   "outputs": [
    {
     "data": {
      "text/plain": [
       "2500"
      ]
     },
     "execution_count": 5,
     "metadata": {},
     "output_type": "execute_result"
    }
   ],
   "source": [
    "len(ham_filenames)"
   ]
  },
  {
   "cell_type": "code",
   "execution_count": 6,
   "metadata": {},
   "outputs": [
    {
     "data": {
      "text/plain": [
       "500"
      ]
     },
     "execution_count": 6,
     "metadata": {},
     "output_type": "execute_result"
    }
   ],
   "source": [
    "len(spam_filenames)"
   ]
  },
  {
   "cell_type": "markdown",
   "metadata": {},
   "source": [
    "Parse emails using python module"
   ]
  },
  {
   "cell_type": "code",
   "execution_count": 7,
   "metadata": {},
   "outputs": [],
   "source": [
    "import email\n",
    "import email.policy\n",
    "\n",
    "def load_email(is_spam, filename, spam_path=SPAM_PATH):\n",
    "    directory = \"spam\" if is_spam else \"easy_ham\"\n",
    "    with open(os.path.join(spam_path, directory, filename), \"rb\") as f:\n",
    "        return email.parser.BytesParser(policy=email.policy.default).parse(f)"
   ]
  },
  {
   "cell_type": "code",
   "execution_count": 8,
   "metadata": {},
   "outputs": [],
   "source": [
    "ham_emails = [load_email(is_spam=False, filename=name) for name in ham_filenames]\n",
    "spam_emails = [load_email(is_spam=True, filename=name) for name in spam_filenames]"
   ]
  },
  {
   "cell_type": "markdown",
   "metadata": {},
   "source": [
    "Explore on example of ham and one example of spam\n",
    "\n",
    "Ham:"
   ]
  },
  {
   "cell_type": "code",
   "execution_count": 9,
   "metadata": {},
   "outputs": [
    {
     "name": "stdout",
     "output_type": "stream",
     "text": [
      "Martin A posted:\n",
      "Tassos Papadopoulos, the Greek sculptor behind the plan, judged that the\n",
      " limestone of Mount Kerdylio, 70 miles east of Salonika and not far from the\n",
      " Mount Athos monastic community, was ideal for the patriotic sculpture. \n",
      " \n",
      " As well as Alexander's granite features, 240 ft high and 170 ft wide, a\n",
      " museum, a restored amphitheatre and car park for admiring crowds are\n",
      "planned\n",
      "---------------------\n",
      "So is this mountain limestone or granite?\n",
      "If it's limestone, it'll weather pretty fast.\n",
      "\n",
      "------------------------ Yahoo! Groups Sponsor ---------------------~-->\n",
      "4 DVDs Free +s&p Join Now\n",
      "http://us.click.yahoo.com/pt6YBB/NXiEAA/mG3HAA/7gSolB/TM\n",
      "---------------------------------------------------------------------~->\n",
      "\n",
      "To unsubscribe from this group, send an email to:\n",
      "forteana-unsubscribe@egroups.com\n",
      "\n",
      " \n",
      "\n",
      "Your use of Yahoo! Groups is subject to http://docs.yahoo.com/info/terms/\n"
     ]
    }
   ],
   "source": [
    "print(ham_emails[1].get_content().strip())"
   ]
  },
  {
   "cell_type": "markdown",
   "metadata": {},
   "source": [
    "Spam:"
   ]
  },
  {
   "cell_type": "code",
   "execution_count": 10,
   "metadata": {},
   "outputs": [
    {
     "name": "stdout",
     "output_type": "stream",
     "text": [
      "Help wanted.  We are a 14 year old fortune 500 company, that is\n",
      "growing at a tremendous rate.  We are looking for individuals who\n",
      "want to work from home.\n",
      "\n",
      "This is an opportunity to make an excellent income.  No experience\n",
      "is required.  We will train you.\n",
      "\n",
      "So if you are looking to be employed from home with a career that has\n",
      "vast opportunities, then go:\n",
      "\n",
      "http://www.basetel.com/wealthnow\n",
      "\n",
      "We are looking for energetic and self motivated people.  If that is you\n",
      "than click on the link and fill out the form, and one of our\n",
      "employement specialist will contact you.\n",
      "\n",
      "To be removed from our link simple go to:\n",
      "\n",
      "http://www.basetel.com/remove.html\n",
      "\n",
      "\n",
      "4139vOLW7-758DoDY1425FRhM1-764SMFc8513fCsLl40\n"
     ]
    }
   ],
   "source": [
    "print(spam_emails[6].get_content().strip())"
   ]
  },
  {
   "cell_type": "markdown",
   "metadata": {},
   "source": [
    "Some emails have multiple structures (images, attachments...)"
   ]
  },
  {
   "cell_type": "code",
   "execution_count": 11,
   "metadata": {},
   "outputs": [],
   "source": [
    "def get_email_structure(email):\n",
    "    if isinstance(email, str):\n",
    "        return email\n",
    "    payload = email.get_payload()\n",
    "    if isinstance(payload, list):\n",
    "        return \"multipart({})\".format(\", \".join([\n",
    "            get_email_structure(sub_email)\n",
    "            for sub_email in payload\n",
    "        ]))\n",
    "    else:\n",
    "        return email.get_content_type()"
   ]
  },
  {
   "cell_type": "code",
   "execution_count": 12,
   "metadata": {},
   "outputs": [],
   "source": [
    "from collections import Counter\n",
    "\n",
    "def structures_counter(emails):\n",
    "    structures = Counter()\n",
    "    for email in emails:\n",
    "        structure = get_email_structure(email)\n",
    "        structures[structure] += 1\n",
    "    return structures"
   ]
  },
  {
   "cell_type": "code",
   "execution_count": 13,
   "metadata": {},
   "outputs": [
    {
     "data": {
      "text/plain": [
       "[('text/plain', 2408),\n",
       " ('multipart(text/plain, application/pgp-signature)', 66),\n",
       " ('multipart(text/plain, text/html)', 8),\n",
       " ('multipart(text/plain, text/plain)', 4),\n",
       " ('multipart(text/plain)', 3),\n",
       " ('multipart(text/plain, application/octet-stream)', 2),\n",
       " ('multipart(text/plain, text/enriched)', 1),\n",
       " ('multipart(text/plain, application/ms-tnef, text/plain)', 1),\n",
       " ('multipart(multipart(text/plain, text/plain, text/plain), application/pgp-signature)',\n",
       "  1),\n",
       " ('multipart(text/plain, video/mng)', 1),\n",
       " ('multipart(text/plain, multipart(text/plain))', 1),\n",
       " ('multipart(text/plain, application/x-pkcs7-signature)', 1),\n",
       " ('multipart(text/plain, multipart(text/plain, text/plain), text/rfc822-headers)',\n",
       "  1),\n",
       " ('multipart(text/plain, multipart(text/plain, text/plain), multipart(multipart(text/plain, application/x-pkcs7-signature)))',\n",
       "  1),\n",
       " ('multipart(text/plain, application/x-java-applet)', 1)]"
      ]
     },
     "execution_count": 13,
     "metadata": {},
     "output_type": "execute_result"
    }
   ],
   "source": [
    "structures_counter(ham_emails).most_common()"
   ]
  },
  {
   "cell_type": "code",
   "execution_count": 14,
   "metadata": {},
   "outputs": [
    {
     "data": {
      "text/plain": [
       "[('text/plain', 218),\n",
       " ('text/html', 183),\n",
       " ('multipart(text/plain, text/html)', 45),\n",
       " ('multipart(text/html)', 20),\n",
       " ('multipart(text/plain)', 19),\n",
       " ('multipart(multipart(text/html))', 5),\n",
       " ('multipart(text/plain, image/jpeg)', 3),\n",
       " ('multipart(text/html, application/octet-stream)', 2),\n",
       " ('multipart(text/plain, application/octet-stream)', 1),\n",
       " ('multipart(text/html, text/plain)', 1),\n",
       " ('multipart(multipart(text/html), application/octet-stream, image/jpeg)', 1),\n",
       " ('multipart(multipart(text/plain, text/html), image/gif)', 1),\n",
       " ('multipart/alternative', 1)]"
      ]
     },
     "execution_count": 14,
     "metadata": {},
     "output_type": "execute_result"
    }
   ],
   "source": [
    "structures_counter(spam_emails).most_common()"
   ]
  },
  {
   "cell_type": "markdown",
   "metadata": {},
   "source": [
    "It seems that the ham emails are more often plain text, while spam has quite a lot of HTML. Moreover, quite a few ham emails are signed using PGP, while no spam is. In short, it seems that the email structure is useful information to have."
   ]
  },
  {
   "cell_type": "markdown",
   "metadata": {},
   "source": [
    "Now let's take a look at the email headers:"
   ]
  },
  {
   "cell_type": "code",
   "execution_count": 15,
   "metadata": {},
   "outputs": [
    {
     "name": "stdout",
     "output_type": "stream",
     "text": [
      "Return-Path : <12a1mailbot1@web.de>\n",
      "Delivered-To : zzzz@localhost.spamassassin.taint.org\n",
      "Received : from localhost (localhost [127.0.0.1])\tby phobos.labs.spamassassin.taint.org (Postfix) with ESMTP id 136B943C32\tfor <zzzz@localhost>; Thu, 22 Aug 2002 08:17:21 -0400 (EDT)\n",
      "Received : from mail.webnote.net [193.120.211.219]\tby localhost with POP3 (fetchmail-5.9.0)\tfor zzzz@localhost (single-drop); Thu, 22 Aug 2002 13:17:21 +0100 (IST)\n",
      "Received : from dd_it7 ([210.97.77.167])\tby webnote.net (8.9.3/8.9.3) with ESMTP id NAA04623\tfor <zzzz@spamassassin.taint.org>; Thu, 22 Aug 2002 13:09:41 +0100\n",
      "From : 12a1mailbot1@web.de\n",
      "Received : from r-smtp.korea.com - 203.122.2.197 by dd_it7  with Microsoft SMTPSVC(5.5.1775.675.6);\t Sat, 24 Aug 2002 09:42:10 +0900\n",
      "To : dcek1a1@netsgo.com\n",
      "Subject : Life Insurance - Why Pay More?\n",
      "Date : Wed, 21 Aug 2002 20:31:57 -1600\n",
      "MIME-Version : 1.0\n",
      "Message-ID : <0103c1042001882DD_IT7@dd_it7>\n",
      "Content-Type : text/html; charset=\"iso-8859-1\"\n",
      "Content-Transfer-Encoding : quoted-printable\n"
     ]
    }
   ],
   "source": [
    "for header, value in spam_emails[0].items():\n",
    "    print(header,\":\",value)"
   ]
  },
  {
   "cell_type": "code",
   "execution_count": 16,
   "metadata": {},
   "outputs": [
    {
     "data": {
      "text/plain": [
       "'Life Insurance - Why Pay More?'"
      ]
     },
     "execution_count": 16,
     "metadata": {},
     "output_type": "execute_result"
    }
   ],
   "source": [
    "spam_emails[0][\"Subject\"]"
   ]
  },
  {
   "cell_type": "markdown",
   "metadata": {},
   "source": [
    "Split the data"
   ]
  },
  {
   "cell_type": "code",
   "execution_count": 17,
   "metadata": {},
   "outputs": [
    {
     "name": "stderr",
     "output_type": "stream",
     "text": [
      "/usr/local/lib/python3.7/site-packages/ipykernel_launcher.py:4: VisibleDeprecationWarning: Creating an ndarray from ragged nested sequences (which is a list-or-tuple of lists-or-tuples-or ndarrays with different lengths or shapes) is deprecated. If you meant to do this, you must specify 'dtype=object' when creating the ndarray\n",
      "  after removing the cwd from sys.path.\n"
     ]
    }
   ],
   "source": [
    "import numpy as np\n",
    "from sklearn.model_selection import train_test_split\n",
    "\n",
    "X = np.array(ham_emails + spam_emails)\n",
    "y = np.array([0] * len(ham_emails) + [1] * len(spam_emails))\n",
    "\n",
    "X_train, X_test, y_train, y_test = train_test_split(X, y, test_size=0.2, random_state=42)"
   ]
  },
  {
   "cell_type": "code",
   "execution_count": 18,
   "metadata": {},
   "outputs": [
    {
     "data": {
      "text/plain": [
       "array([<email.message.EmailMessage object at 0x127718450>,\n",
       "       <email.message.EmailMessage object at 0x12727cf10>,\n",
       "       <email.message.EmailMessage object at 0x1277289d0>,\n",
       "       <email.message.EmailMessage object at 0x126911d90>,\n",
       "       <email.message.EmailMessage object at 0x127a1f050>,\n",
       "       <email.message.EmailMessage object at 0x1271a0e10>,\n",
       "       <email.message.EmailMessage object at 0x127493e50>,\n",
       "       <email.message.EmailMessage object at 0x127842b50>,\n",
       "       <email.message.EmailMessage object at 0x126a84e50>,\n",
       "       <email.message.EmailMessage object at 0x127add5d0>,\n",
       "       <email.message.EmailMessage object at 0x1278d7f90>,\n",
       "       <email.message.EmailMessage object at 0x126732350>,\n",
       "       <email.message.EmailMessage object at 0x126caeb10>,\n",
       "       <email.message.EmailMessage object at 0x1276eddd0>,\n",
       "       <email.message.EmailMessage object at 0x127c224d0>,\n",
       "       <email.message.EmailMessage object at 0x126f34d10>,\n",
       "       <email.message.EmailMessage object at 0x127128950>,\n",
       "       <email.message.EmailMessage object at 0x126b17650>,\n",
       "       <email.message.EmailMessage object at 0x127bef750>,\n",
       "       <email.message.EmailMessage object at 0x127a59610>,\n",
       "       <email.message.EmailMessage object at 0x125dd8f50>,\n",
       "       <email.message.EmailMessage object at 0x12696bc10>,\n",
       "       <email.message.EmailMessage object at 0x126f4fd50>,\n",
       "       <email.message.EmailMessage object at 0x12782de50>,\n",
       "       <email.message.EmailMessage object at 0x12741d150>,\n",
       "       <email.message.EmailMessage object at 0x127d94550>,\n",
       "       <email.message.EmailMessage object at 0x127afb1d0>,\n",
       "       <email.message.EmailMessage object at 0x1272d7bd0>,\n",
       "       <email.message.EmailMessage object at 0x12697c890>,\n",
       "       <email.message.EmailMessage object at 0x1272f6f90>,\n",
       "       <email.message.EmailMessage object at 0x127072fd0>,\n",
       "       <email.message.EmailMessage object at 0x1276b9790>,\n",
       "       <email.message.EmailMessage object at 0x126dbb690>,\n",
       "       <email.message.EmailMessage object at 0x127d14b90>,\n",
       "       <email.message.EmailMessage object at 0x12696fd10>,\n",
       "       <email.message.EmailMessage object at 0x126e0ef90>,\n",
       "       <email.message.EmailMessage object at 0x127867a50>,\n",
       "       <email.message.EmailMessage object at 0x1269bc810>,\n",
       "       <email.message.EmailMessage object at 0x12697cf50>,\n",
       "       <email.message.EmailMessage object at 0x1273878d0>,\n",
       "       <email.message.EmailMessage object at 0x12685d350>,\n",
       "       <email.message.EmailMessage object at 0x126745fd0>,\n",
       "       <email.message.EmailMessage object at 0x126a62d50>,\n",
       "       <email.message.EmailMessage object at 0x126d95e90>,\n",
       "       <email.message.EmailMessage object at 0x12762fdd0>,\n",
       "       <email.message.EmailMessage object at 0x1275b9050>,\n",
       "       <email.message.EmailMessage object at 0x12796f990>,\n",
       "       <email.message.EmailMessage object at 0x12617e550>,\n",
       "       <email.message.EmailMessage object at 0x127ac6a90>,\n",
       "       <email.message.EmailMessage object at 0x12765a6d0>,\n",
       "       <email.message.EmailMessage object at 0x127148a50>,\n",
       "       <email.message.EmailMessage object at 0x127842550>,\n",
       "       <email.message.EmailMessage object at 0x1268aec50>,\n",
       "       <email.message.EmailMessage object at 0x12796b350>,\n",
       "       <email.message.EmailMessage object at 0x1267fe710>,\n",
       "       <email.message.EmailMessage object at 0x127d9b1d0>,\n",
       "       <email.message.EmailMessage object at 0x12741d090>,\n",
       "       <email.message.EmailMessage object at 0x126df6e50>,\n",
       "       <email.message.EmailMessage object at 0x127b68150>,\n",
       "       <email.message.EmailMessage object at 0x127072c10>,\n",
       "       <email.message.EmailMessage object at 0x126d861d0>,\n",
       "       <email.message.EmailMessage object at 0x126c65f90>,\n",
       "       <email.message.EmailMessage object at 0x126eb5050>,\n",
       "       <email.message.EmailMessage object at 0x126934710>,\n",
       "       <email.message.EmailMessage object at 0x126732510>,\n",
       "       <email.message.EmailMessage object at 0x127277ed0>,\n",
       "       <email.message.EmailMessage object at 0x127342b50>,\n",
       "       <email.message.EmailMessage object at 0x127546750>,\n",
       "       <email.message.EmailMessage object at 0x127629750>,\n",
       "       <email.message.EmailMessage object at 0x126b876d0>,\n",
       "       <email.message.EmailMessage object at 0x1276c26d0>,\n",
       "       <email.message.EmailMessage object at 0x127b51dd0>,\n",
       "       <email.message.EmailMessage object at 0x127be4550>,\n",
       "       <email.message.EmailMessage object at 0x127796fd0>,\n",
       "       <email.message.EmailMessage object at 0x12679c950>,\n",
       "       <email.message.EmailMessage object at 0x126d215d0>,\n",
       "       <email.message.EmailMessage object at 0x12791cb50>,\n",
       "       <email.message.EmailMessage object at 0x127bb2ed0>,\n",
       "       <email.message.EmailMessage object at 0x1278e0fd0>,\n",
       "       <email.message.EmailMessage object at 0x1279ee390>,\n",
       "       <email.message.EmailMessage object at 0x12774ca90>,\n",
       "       <email.message.EmailMessage object at 0x127738410>,\n",
       "       <email.message.EmailMessage object at 0x126e41bd0>,\n",
       "       <email.message.EmailMessage object at 0x127731cd0>,\n",
       "       <email.message.EmailMessage object at 0x1277e2ed0>,\n",
       "       <email.message.EmailMessage object at 0x1267edfd0>,\n",
       "       <email.message.EmailMessage object at 0x127a36dd0>,\n",
       "       <email.message.EmailMessage object at 0x1273d5710>,\n",
       "       <email.message.EmailMessage object at 0x1279d3590>,\n",
       "       <email.message.EmailMessage object at 0x127d7c850>,\n",
       "       <email.message.EmailMessage object at 0x1269a7e50>,\n",
       "       <email.message.EmailMessage object at 0x127324fd0>,\n",
       "       <email.message.EmailMessage object at 0x127967790>,\n",
       "       <email.message.EmailMessage object at 0x12733c990>,\n",
       "       <email.message.EmailMessage object at 0x1276e35d0>,\n",
       "       <email.message.EmailMessage object at 0x126a9a410>,\n",
       "       <email.message.EmailMessage object at 0x127b18fd0>,\n",
       "       <email.message.EmailMessage object at 0x1278f2f50>,\n",
       "       <email.message.EmailMessage object at 0x126822f50>,\n",
       "       <email.message.EmailMessage object at 0x1276d6910>,\n",
       "       <email.message.EmailMessage object at 0x12788d950>,\n",
       "       <email.message.EmailMessage object at 0x126725510>,\n",
       "       <email.message.EmailMessage object at 0x126d06790>,\n",
       "       <email.message.EmailMessage object at 0x1276616d0>,\n",
       "       <email.message.EmailMessage object at 0x1272c29d0>,\n",
       "       <email.message.EmailMessage object at 0x126ee0250>,\n",
       "       <email.message.EmailMessage object at 0x1277c1610>,\n",
       "       <email.message.EmailMessage object at 0x1269d01d0>,\n",
       "       <email.message.EmailMessage object at 0x126790910>,\n",
       "       <email.message.EmailMessage object at 0x1276acb10>,\n",
       "       <email.message.EmailMessage object at 0x127e20810>,\n",
       "       <email.message.EmailMessage object at 0x126b63450>,\n",
       "       <email.message.EmailMessage object at 0x127d9f690>,\n",
       "       <email.message.EmailMessage object at 0x12780f910>,\n",
       "       <email.message.EmailMessage object at 0x126b467d0>,\n",
       "       <email.message.EmailMessage object at 0x127865250>,\n",
       "       <email.message.EmailMessage object at 0x1266aa050>,\n",
       "       <email.message.EmailMessage object at 0x1269a7090>,\n",
       "       <email.message.EmailMessage object at 0x127348510>,\n",
       "       <email.message.EmailMessage object at 0x1277b0ed0>,\n",
       "       <email.message.EmailMessage object at 0x127df8c90>,\n",
       "       <email.message.EmailMessage object at 0x1273b46d0>,\n",
       "       <email.message.EmailMessage object at 0x126dcfdd0>,\n",
       "       <email.message.EmailMessage object at 0x1276f3110>,\n",
       "       <email.message.EmailMessage object at 0x127290f90>,\n",
       "       <email.message.EmailMessage object at 0x12788d650>,\n",
       "       <email.message.EmailMessage object at 0x1277e04d0>,\n",
       "       <email.message.EmailMessage object at 0x126f02150>,\n",
       "       <email.message.EmailMessage object at 0x126deeed0>,\n",
       "       <email.message.EmailMessage object at 0x126f76a90>,\n",
       "       <email.message.EmailMessage object at 0x127943a50>,\n",
       "       <email.message.EmailMessage object at 0x12743ba90>,\n",
       "       <email.message.EmailMessage object at 0x127723350>,\n",
       "       <email.message.EmailMessage object at 0x1277183d0>,\n",
       "       <email.message.EmailMessage object at 0x126f76fd0>,\n",
       "       <email.message.EmailMessage object at 0x126ac5750>,\n",
       "       <email.message.EmailMessage object at 0x12685dc90>,\n",
       "       <email.message.EmailMessage object at 0x1276e5ad0>,\n",
       "       <email.message.EmailMessage object at 0x127107d10>,\n",
       "       <email.message.EmailMessage object at 0x12792e9d0>,\n",
       "       <email.message.EmailMessage object at 0x127a3fcd0>,\n",
       "       <email.message.EmailMessage object at 0x12733ca10>,\n",
       "       <email.message.EmailMessage object at 0x127919210>,\n",
       "       <email.message.EmailMessage object at 0x127c2c050>,\n",
       "       <email.message.EmailMessage object at 0x1278b8250>,\n",
       "       <email.message.EmailMessage object at 0x126ae3dd0>,\n",
       "       <email.message.EmailMessage object at 0x127873790>,\n",
       "       <email.message.EmailMessage object at 0x1279455d0>,\n",
       "       <email.message.EmailMessage object at 0x1277ec450>,\n",
       "       <email.message.EmailMessage object at 0x12693cc50>,\n",
       "       <email.message.EmailMessage object at 0x12774c750>,\n",
       "       <email.message.EmailMessage object at 0x127dc4810>,\n",
       "       <email.message.EmailMessage object at 0x12702fc50>,\n",
       "       <email.message.EmailMessage object at 0x127873d90>,\n",
       "       <email.message.EmailMessage object at 0x1269fe850>,\n",
       "       <email.message.EmailMessage object at 0x1277571d0>,\n",
       "       <email.message.EmailMessage object at 0x12620fa50>,\n",
       "       <email.message.EmailMessage object at 0x127bd7790>,\n",
       "       <email.message.EmailMessage object at 0x12767e7d0>,\n",
       "       <email.message.EmailMessage object at 0x127be9fd0>,\n",
       "       <email.message.EmailMessage object at 0x1276c9a10>,\n",
       "       <email.message.EmailMessage object at 0x12775bfd0>,\n",
       "       <email.message.EmailMessage object at 0x126905fd0>,\n",
       "       <email.message.EmailMessage object at 0x126bd6690>,\n",
       "       <email.message.EmailMessage object at 0x1276e1ed0>,\n",
       "       <email.message.EmailMessage object at 0x127417fd0>,\n",
       "       <email.message.EmailMessage object at 0x126748bd0>,\n",
       "       <email.message.EmailMessage object at 0x127b12fd0>,\n",
       "       <email.message.EmailMessage object at 0x1278e5b50>,\n",
       "       <email.message.EmailMessage object at 0x126b9aa50>,\n",
       "       <email.message.EmailMessage object at 0x127d39f50>,\n",
       "       <email.message.EmailMessage object at 0x127bb3650>,\n",
       "       <email.message.EmailMessage object at 0x127563950>,\n",
       "       <email.message.EmailMessage object at 0x126dd29d0>,\n",
       "       <email.message.EmailMessage object at 0x127bf3a10>,\n",
       "       <email.message.EmailMessage object at 0x1272a9d90>,\n",
       "       <email.message.EmailMessage object at 0x1278cba50>,\n",
       "       <email.message.EmailMessage object at 0x12770e4d0>,\n",
       "       <email.message.EmailMessage object at 0x126ba6410>,\n",
       "       <email.message.EmailMessage object at 0x1276e1a90>,\n",
       "       <email.message.EmailMessage object at 0x126b016d0>,\n",
       "       <email.message.EmailMessage object at 0x127b64850>,\n",
       "       <email.message.EmailMessage object at 0x127742f50>,\n",
       "       <email.message.EmailMessage object at 0x127d23a90>,\n",
       "       <email.message.EmailMessage object at 0x1267cfd50>,\n",
       "       <email.message.EmailMessage object at 0x126830650>,\n",
       "       <email.message.EmailMessage object at 0x126856fd0>,\n",
       "       <email.message.EmailMessage object at 0x127906e90>,\n",
       "       <email.message.EmailMessage object at 0x1274af5d0>,\n",
       "       <email.message.EmailMessage object at 0x1276c0f90>,\n",
       "       <email.message.EmailMessage object at 0x126db1e50>,\n",
       "       <email.message.EmailMessage object at 0x1270cfb10>,\n",
       "       <email.message.EmailMessage object at 0x1277c17d0>,\n",
       "       <email.message.EmailMessage object at 0x126b1ca10>,\n",
       "       <email.message.EmailMessage object at 0x1270c0650>,\n",
       "       <email.message.EmailMessage object at 0x127afae90>,\n",
       "       <email.message.EmailMessage object at 0x126a1e8d0>,\n",
       "       <email.message.EmailMessage object at 0x127a3c050>,\n",
       "       <email.message.EmailMessage object at 0x126eb5fd0>,\n",
       "       <email.message.EmailMessage object at 0x12691add0>,\n",
       "       <email.message.EmailMessage object at 0x1272cd590>,\n",
       "       <email.message.EmailMessage object at 0x1277e0750>,\n",
       "       <email.message.EmailMessage object at 0x1268bccd0>,\n",
       "       <email.message.EmailMessage object at 0x127b77290>,\n",
       "       <email.message.EmailMessage object at 0x1277b62d0>,\n",
       "       <email.message.EmailMessage object at 0x127420310>,\n",
       "       <email.message.EmailMessage object at 0x127871f90>,\n",
       "       <email.message.EmailMessage object at 0x1278795d0>,\n",
       "       <email.message.EmailMessage object at 0x126beda90>,\n",
       "       <email.message.EmailMessage object at 0x1278ab850>,\n",
       "       <email.message.EmailMessage object at 0x127836e10>,\n",
       "       <email.message.EmailMessage object at 0x1276bc650>,\n",
       "       <email.message.EmailMessage object at 0x12732ebd0>,\n",
       "       <email.message.EmailMessage object at 0x127859e50>,\n",
       "       <email.message.EmailMessage object at 0x126e4c9d0>,\n",
       "       <email.message.EmailMessage object at 0x12676df90>,\n",
       "       <email.message.EmailMessage object at 0x12670d4d0>,\n",
       "       <email.message.EmailMessage object at 0x126a8ce50>,\n",
       "       <email.message.EmailMessage object at 0x127717d90>,\n",
       "       <email.message.EmailMessage object at 0x1278b1050>,\n",
       "       <email.message.EmailMessage object at 0x1273c1090>,\n",
       "       <email.message.EmailMessage object at 0x127602690>,\n",
       "       <email.message.EmailMessage object at 0x126e156d0>,\n",
       "       <email.message.EmailMessage object at 0x127e1ccd0>,\n",
       "       <email.message.EmailMessage object at 0x127493f10>,\n",
       "       <email.message.EmailMessage object at 0x126af5910>,\n",
       "       <email.message.EmailMessage object at 0x125dd8d90>,\n",
       "       <email.message.EmailMessage object at 0x1278b8ed0>,\n",
       "       <email.message.EmailMessage object at 0x1270b6190>,\n",
       "       <email.message.EmailMessage object at 0x126782e10>,\n",
       "       <email.message.EmailMessage object at 0x1274d2e10>,\n",
       "       <email.message.EmailMessage object at 0x127738790>,\n",
       "       <email.message.EmailMessage object at 0x127ad3150>,\n",
       "       <email.message.EmailMessage object at 0x126916550>,\n",
       "       <email.message.EmailMessage object at 0x126c53b90>,\n",
       "       <email.message.EmailMessage object at 0x1270eaa10>,\n",
       "       <email.message.EmailMessage object at 0x126bebe90>,\n",
       "       <email.message.EmailMessage object at 0x1276d7790>,\n",
       "       <email.message.EmailMessage object at 0x127a54f90>,\n",
       "       <email.message.EmailMessage object at 0x126ed6a10>,\n",
       "       <email.message.EmailMessage object at 0x1279d5450>,\n",
       "       <email.message.EmailMessage object at 0x126e7b510>,\n",
       "       <email.message.EmailMessage object at 0x1277fbb10>,\n",
       "       <email.message.EmailMessage object at 0x127757550>,\n",
       "       <email.message.EmailMessage object at 0x1267ed790>,\n",
       "       <email.message.EmailMessage object at 0x126ad2490>,\n",
       "       <email.message.EmailMessage object at 0x127253250>,\n",
       "       <email.message.EmailMessage object at 0x126b36810>,\n",
       "       <email.message.EmailMessage object at 0x126efff10>,\n",
       "       <email.message.EmailMessage object at 0x127ac5f50>,\n",
       "       <email.message.EmailMessage object at 0x12714d790>,\n",
       "       <email.message.EmailMessage object at 0x127387890>,\n",
       "       <email.message.EmailMessage object at 0x126836590>,\n",
       "       <email.message.EmailMessage object at 0x127165d10>,\n",
       "       <email.message.EmailMessage object at 0x127b99ed0>,\n",
       "       <email.message.EmailMessage object at 0x127d10090>,\n",
       "       <email.message.EmailMessage object at 0x1277c1090>,\n",
       "       <email.message.EmailMessage object at 0x127b68d50>,\n",
       "       <email.message.EmailMessage object at 0x127841a50>,\n",
       "       <email.message.EmailMessage object at 0x127879fd0>,\n",
       "       <email.message.EmailMessage object at 0x1275e2510>,\n",
       "       <email.message.EmailMessage object at 0x1276bb510>,\n",
       "       <email.message.EmailMessage object at 0x126830710>,\n",
       "       <email.message.EmailMessage object at 0x12713d250>,\n",
       "       <email.message.EmailMessage object at 0x126c40e90>,\n",
       "       <email.message.EmailMessage object at 0x127892710>,\n",
       "       <email.message.EmailMessage object at 0x127a3f6d0>,\n",
       "       <email.message.EmailMessage object at 0x127b54310>,\n",
       "       <email.message.EmailMessage object at 0x127c35190>,\n",
       "       <email.message.EmailMessage object at 0x126b27790>,\n",
       "       <email.message.EmailMessage object at 0x1277c1ad0>,\n",
       "       <email.message.EmailMessage object at 0x12710aed0>,\n",
       "       <email.message.EmailMessage object at 0x1278e0b50>,\n",
       "       <email.message.EmailMessage object at 0x126ba3990>,\n",
       "       <email.message.EmailMessage object at 0x12717fe50>,\n",
       "       <email.message.EmailMessage object at 0x127189810>,\n",
       "       <email.message.EmailMessage object at 0x127dbab10>,\n",
       "       <email.message.EmailMessage object at 0x1271a0f90>,\n",
       "       <email.message.EmailMessage object at 0x126f98b50>,\n",
       "       <email.message.EmailMessage object at 0x12681a290>,\n",
       "       <email.message.EmailMessage object at 0x1275d6810>,\n",
       "       <email.message.EmailMessage object at 0x126ffddd0>,\n",
       "       <email.message.EmailMessage object at 0x126b13c90>,\n",
       "       <email.message.EmailMessage object at 0x126eb9550>,\n",
       "       <email.message.EmailMessage object at 0x12706ea50>,\n",
       "       <email.message.EmailMessage object at 0x12778a9d0>,\n",
       "       <email.message.EmailMessage object at 0x12617e2d0>,\n",
       "       <email.message.EmailMessage object at 0x127d87f10>,\n",
       "       <email.message.EmailMessage object at 0x126a95f10>,\n",
       "       <email.message.EmailMessage object at 0x126b6bed0>,\n",
       "       <email.message.EmailMessage object at 0x127bbf310>,\n",
       "       <email.message.EmailMessage object at 0x127befbd0>,\n",
       "       <email.message.EmailMessage object at 0x12746ca50>,\n",
       "       <email.message.EmailMessage object at 0x12762fe10>,\n",
       "       <email.message.EmailMessage object at 0x12779ff90>,\n",
       "       <email.message.EmailMessage object at 0x127a09d90>,\n",
       "       <email.message.EmailMessage object at 0x126e1e810>,\n",
       "       <email.message.EmailMessage object at 0x127b321d0>,\n",
       "       <email.message.EmailMessage object at 0x127a36d90>,\n",
       "       <email.message.EmailMessage object at 0x126a79c50>,\n",
       "       <email.message.EmailMessage object at 0x126abedd0>,\n",
       "       <email.message.EmailMessage object at 0x12720ced0>,\n",
       "       <email.message.EmailMessage object at 0x125dd8310>,\n",
       "       <email.message.EmailMessage object at 0x1275aca50>,\n",
       "       <email.message.EmailMessage object at 0x127ba0c90>,\n",
       "       <email.message.EmailMessage object at 0x126c7a850>,\n",
       "       <email.message.EmailMessage object at 0x1274bbc50>,\n",
       "       <email.message.EmailMessage object at 0x1275e8650>,\n",
       "       <email.message.EmailMessage object at 0x1275fbbd0>,\n",
       "       <email.message.EmailMessage object at 0x1269c1a50>,\n",
       "       <email.message.EmailMessage object at 0x1269cdbd0>,\n",
       "       <email.message.EmailMessage object at 0x127460b10>,\n",
       "       <email.message.EmailMessage object at 0x126caebd0>,\n",
       "       <email.message.EmailMessage object at 0x1278c7450>,\n",
       "       <email.message.EmailMessage object at 0x1275a08d0>,\n",
       "       <email.message.EmailMessage object at 0x127873490>,\n",
       "       <email.message.EmailMessage object at 0x126bb7890>,\n",
       "       <email.message.EmailMessage object at 0x127de3b90>,\n",
       "       <email.message.EmailMessage object at 0x12772bb50>,\n",
       "       <email.message.EmailMessage object at 0x1276954d0>,\n",
       "       <email.message.EmailMessage object at 0x127258990>,\n",
       "       <email.message.EmailMessage object at 0x126cf4f50>,\n",
       "       <email.message.EmailMessage object at 0x127841750>,\n",
       "       <email.message.EmailMessage object at 0x1277fbc50>,\n",
       "       <email.message.EmailMessage object at 0x1276b6750>,\n",
       "       <email.message.EmailMessage object at 0x1276ac310>,\n",
       "       <email.message.EmailMessage object at 0x1268f0f50>,\n",
       "       <email.message.EmailMessage object at 0x127859ed0>,\n",
       "       <email.message.EmailMessage object at 0x127b0bdd0>,\n",
       "       <email.message.EmailMessage object at 0x1278f2a50>,\n",
       "       <email.message.EmailMessage object at 0x126dee790>,\n",
       "       <email.message.EmailMessage object at 0x1271bf390>,\n",
       "       <email.message.EmailMessage object at 0x12777e090>,\n",
       "       <email.message.EmailMessage object at 0x1271a0710>,\n",
       "       <email.message.EmailMessage object at 0x127169d10>,\n",
       "       <email.message.EmailMessage object at 0x127d10610>,\n",
       "       <email.message.EmailMessage object at 0x12791c550>,\n",
       "       <email.message.EmailMessage object at 0x127420050>,\n",
       "       <email.message.EmailMessage object at 0x127913a90>,\n",
       "       <email.message.EmailMessage object at 0x12748eb50>,\n",
       "       <email.message.EmailMessage object at 0x127a40610>,\n",
       "       <email.message.EmailMessage object at 0x1269cdb50>,\n",
       "       <email.message.EmailMessage object at 0x1271890d0>,\n",
       "       <email.message.EmailMessage object at 0x127aebd50>,\n",
       "       <email.message.EmailMessage object at 0x126bbf990>,\n",
       "       <email.message.EmailMessage object at 0x127529ed0>,\n",
       "       <email.message.EmailMessage object at 0x127bb3550>,\n",
       "       <email.message.EmailMessage object at 0x126c25fd0>,\n",
       "       <email.message.EmailMessage object at 0x1275da910>,\n",
       "       <email.message.EmailMessage object at 0x126a8cf90>,\n",
       "       <email.message.EmailMessage object at 0x127107cd0>,\n",
       "       <email.message.EmailMessage object at 0x1279d7c50>,\n",
       "       <email.message.EmailMessage object at 0x1267b0490>,\n",
       "       <email.message.EmailMessage object at 0x1277fcfd0>,\n",
       "       <email.message.EmailMessage object at 0x127b98c90>,\n",
       "       <email.message.EmailMessage object at 0x1269b2c10>,\n",
       "       <email.message.EmailMessage object at 0x127b8ae50>,\n",
       "       <email.message.EmailMessage object at 0x126eae6d0>,\n",
       "       <email.message.EmailMessage object at 0x127ddae10>,\n",
       "       <email.message.EmailMessage object at 0x127400b10>,\n",
       "       <email.message.EmailMessage object at 0x127c6f610>,\n",
       "       <email.message.EmailMessage object at 0x127942390>,\n",
       "       <email.message.EmailMessage object at 0x127771890>,\n",
       "       <email.message.EmailMessage object at 0x126cfaf50>,\n",
       "       <email.message.EmailMessage object at 0x126d7d290>,\n",
       "       <email.message.EmailMessage object at 0x126e1af90>,\n",
       "       <email.message.EmailMessage object at 0x127728310>,\n",
       "       <email.message.EmailMessage object at 0x1273fc490>,\n",
       "       <email.message.EmailMessage object at 0x12775e9d0>,\n",
       "       <email.message.EmailMessage object at 0x127826310>,\n",
       "       <email.message.EmailMessage object at 0x126abab90>,\n",
       "       <email.message.EmailMessage object at 0x126be6f10>,\n",
       "       <email.message.EmailMessage object at 0x1276e30d0>,\n",
       "       <email.message.EmailMessage object at 0x1276fcb50>,\n",
       "       <email.message.EmailMessage object at 0x12675b9d0>,\n",
       "       <email.message.EmailMessage object at 0x127706cd0>,\n",
       "       <email.message.EmailMessage object at 0x1272e0a10>,\n",
       "       <email.message.EmailMessage object at 0x127578210>,\n",
       "       <email.message.EmailMessage object at 0x125dd83d0>,\n",
       "       <email.message.EmailMessage object at 0x127654d90>,\n",
       "       <email.message.EmailMessage object at 0x126cb42d0>,\n",
       "       <email.message.EmailMessage object at 0x12788de50>,\n",
       "       <email.message.EmailMessage object at 0x126f2aa10>,\n",
       "       <email.message.EmailMessage object at 0x126e0c7d0>,\n",
       "       <email.message.EmailMessage object at 0x12699b4d0>,\n",
       "       <email.message.EmailMessage object at 0x127958c50>,\n",
       "       <email.message.EmailMessage object at 0x1276d7ed0>,\n",
       "       <email.message.EmailMessage object at 0x126f4b5d0>,\n",
       "       <email.message.EmailMessage object at 0x126c44890>,\n",
       "       <email.message.EmailMessage object at 0x127258910>,\n",
       "       <email.message.EmailMessage object at 0x1278fbf50>,\n",
       "       <email.message.EmailMessage object at 0x1276dd950>,\n",
       "       <email.message.EmailMessage object at 0x12722f9d0>,\n",
       "       <email.message.EmailMessage object at 0x127572b90>,\n",
       "       <email.message.EmailMessage object at 0x127841890>,\n",
       "       <email.message.EmailMessage object at 0x1276214d0>,\n",
       "       <email.message.EmailMessage object at 0x126bf5a90>,\n",
       "       <email.message.EmailMessage object at 0x126bceed0>,\n",
       "       <email.message.EmailMessage object at 0x126f94510>,\n",
       "       <email.message.EmailMessage object at 0x127e26f50>,\n",
       "       <email.message.EmailMessage object at 0x126efb7d0>,\n",
       "       <email.message.EmailMessage object at 0x127e14b50>,\n",
       "       <email.message.EmailMessage object at 0x12760ce10>,\n",
       "       <email.message.EmailMessage object at 0x127b54050>,\n",
       "       <email.message.EmailMessage object at 0x127b18c50>,\n",
       "       <email.message.EmailMessage object at 0x1275da9d0>,\n",
       "       <email.message.EmailMessage object at 0x1267c3c10>,\n",
       "       <email.message.EmailMessage object at 0x127b4ad90>,\n",
       "       <email.message.EmailMessage object at 0x126e638d0>,\n",
       "       <email.message.EmailMessage object at 0x127893ad0>,\n",
       "       <email.message.EmailMessage object at 0x1276878d0>,\n",
       "       <email.message.EmailMessage object at 0x1269a1890>,\n",
       "       <email.message.EmailMessage object at 0x1275f2fd0>,\n",
       "       <email.message.EmailMessage object at 0x125b95110>,\n",
       "       <email.message.EmailMessage object at 0x126b60ad0>,\n",
       "       <email.message.EmailMessage object at 0x1273df510>,\n",
       "       <email.message.EmailMessage object at 0x127449d10>,\n",
       "       <email.message.EmailMessage object at 0x1267ad090>,\n",
       "       <email.message.EmailMessage object at 0x127621d90>,\n",
       "       <email.message.EmailMessage object at 0x126a8f110>,\n",
       "       <email.message.EmailMessage object at 0x1268bfe10>,\n",
       "       <email.message.EmailMessage object at 0x127842e50>,\n",
       "       <email.message.EmailMessage object at 0x12739d1d0>,\n",
       "       <email.message.EmailMessage object at 0x127148910>,\n",
       "       <email.message.EmailMessage object at 0x126de0ad0>,\n",
       "       <email.message.EmailMessage object at 0x126f54990>,\n",
       "       <email.message.EmailMessage object at 0x126e637d0>,\n",
       "       <email.message.EmailMessage object at 0x126acb890>,\n",
       "       <email.message.EmailMessage object at 0x126bb7b90>,\n",
       "       <email.message.EmailMessage object at 0x126b2dc50>,\n",
       "       <email.message.EmailMessage object at 0x1279b4e90>,\n",
       "       <email.message.EmailMessage object at 0x126a47d10>,\n",
       "       <email.message.EmailMessage object at 0x127db0350>,\n",
       "       <email.message.EmailMessage object at 0x127283150>,\n",
       "       <email.message.EmailMessage object at 0x1272e2090>,\n",
       "       <email.message.EmailMessage object at 0x1272ad850>,\n",
       "       <email.message.EmailMessage object at 0x127342a90>,\n",
       "       <email.message.EmailMessage object at 0x1277b05d0>,\n",
       "       <email.message.EmailMessage object at 0x1279061d0>,\n",
       "       <email.message.EmailMessage object at 0x126f79c10>,\n",
       "       <email.message.EmailMessage object at 0x1267e02d0>,\n",
       "       <email.message.EmailMessage object at 0x1277003d0>,\n",
       "       <email.message.EmailMessage object at 0x1278852d0>,\n",
       "       <email.message.EmailMessage object at 0x1275013d0>,\n",
       "       <email.message.EmailMessage object at 0x1278de250>,\n",
       "       <email.message.EmailMessage object at 0x126a1bcd0>,\n",
       "       <email.message.EmailMessage object at 0x1277fcc50>,\n",
       "       <email.message.EmailMessage object at 0x127d90b10>,\n",
       "       <email.message.EmailMessage object at 0x12670a290>,\n",
       "       <email.message.EmailMessage object at 0x127a09210>,\n",
       "       <email.message.EmailMessage object at 0x127df89d0>,\n",
       "       <email.message.EmailMessage object at 0x1270ea790>,\n",
       "       <email.message.EmailMessage object at 0x127d7cdd0>,\n",
       "       <email.message.EmailMessage object at 0x1274a5950>,\n",
       "       <email.message.EmailMessage object at 0x127546f50>,\n",
       "       <email.message.EmailMessage object at 0x125dd8e90>,\n",
       "       <email.message.EmailMessage object at 0x1271bb110>,\n",
       "       <email.message.EmailMessage object at 0x12684ab10>,\n",
       "       <email.message.EmailMessage object at 0x126aa0f10>,\n",
       "       <email.message.EmailMessage object at 0x1268268d0>,\n",
       "       <email.message.EmailMessage object at 0x127444810>,\n",
       "       <email.message.EmailMessage object at 0x126afb650>,\n",
       "       <email.message.EmailMessage object at 0x12671ffd0>,\n",
       "       <email.message.EmailMessage object at 0x12677cdd0>,\n",
       "       <email.message.EmailMessage object at 0x1273bc510>,\n",
       "       <email.message.EmailMessage object at 0x1276e1110>,\n",
       "       <email.message.EmailMessage object at 0x126d392d0>,\n",
       "       <email.message.EmailMessage object at 0x126f44090>,\n",
       "       <email.message.EmailMessage object at 0x126950f10>,\n",
       "       <email.message.EmailMessage object at 0x1279b2350>,\n",
       "       <email.message.EmailMessage object at 0x126d1d510>,\n",
       "       <email.message.EmailMessage object at 0x127836550>,\n",
       "       <email.message.EmailMessage object at 0x12781ea10>,\n",
       "       <email.message.EmailMessage object at 0x12691d690>,\n",
       "       <email.message.EmailMessage object at 0x127b37e10>,\n",
       "       <email.message.EmailMessage object at 0x127aebdd0>,\n",
       "       <email.message.EmailMessage object at 0x127993710>,\n",
       "       <email.message.EmailMessage object at 0x127d7d890>,\n",
       "       <email.message.EmailMessage object at 0x1272bce10>,\n",
       "       <email.message.EmailMessage object at 0x1270e21d0>,\n",
       "       <email.message.EmailMessage object at 0x1279ae6d0>,\n",
       "       <email.message.EmailMessage object at 0x1267ef190>,\n",
       "       <email.message.EmailMessage object at 0x1276dd1d0>,\n",
       "       <email.message.EmailMessage object at 0x127933b10>,\n",
       "       <email.message.EmailMessage object at 0x12795c290>,\n",
       "       <email.message.EmailMessage object at 0x127991f90>,\n",
       "       <email.message.EmailMessage object at 0x127842850>,\n",
       "       <email.message.EmailMessage object at 0x127967f90>,\n",
       "       <email.message.EmailMessage object at 0x1267e0cd0>,\n",
       "       <email.message.EmailMessage object at 0x127dc3f90>,\n",
       "       <email.message.EmailMessage object at 0x126e96490>,\n",
       "       <email.message.EmailMessage object at 0x127718c90>,\n",
       "       <email.message.EmailMessage object at 0x127dc7610>,\n",
       "       <email.message.EmailMessage object at 0x127e18750>,\n",
       "       <email.message.EmailMessage object at 0x12777a910>,\n",
       "       <email.message.EmailMessage object at 0x126ee0510>,\n",
       "       <email.message.EmailMessage object at 0x126b96190>,\n",
       "       <email.message.EmailMessage object at 0x1278b4290>,\n",
       "       <email.message.EmailMessage object at 0x126aa0e90>,\n",
       "       <email.message.EmailMessage object at 0x127be4410>,\n",
       "       <email.message.EmailMessage object at 0x1276e3e90>,\n",
       "       <email.message.EmailMessage object at 0x126c5fb50>,\n",
       "       <email.message.EmailMessage object at 0x126fb5d10>,\n",
       "       <email.message.EmailMessage object at 0x127c5e650>,\n",
       "       <email.message.EmailMessage object at 0x1268cd890>,\n",
       "       <email.message.EmailMessage object at 0x127795e50>,\n",
       "       <email.message.EmailMessage object at 0x127965e10>,\n",
       "       <email.message.EmailMessage object at 0x1270cfad0>,\n",
       "       <email.message.EmailMessage object at 0x127b3cf90>,\n",
       "       <email.message.EmailMessage object at 0x126f7df50>,\n",
       "       <email.message.EmailMessage object at 0x127a5de50>,\n",
       "       <email.message.EmailMessage object at 0x12682cd10>,\n",
       "       <email.message.EmailMessage object at 0x126beb810>,\n",
       "       <email.message.EmailMessage object at 0x1277bc510>,\n",
       "       <email.message.EmailMessage object at 0x126e6d2d0>,\n",
       "       <email.message.EmailMessage object at 0x127b77b90>,\n",
       "       <email.message.EmailMessage object at 0x126ff2410>,\n",
       "       <email.message.EmailMessage object at 0x126b89e50>,\n",
       "       <email.message.EmailMessage object at 0x127493b90>,\n",
       "       <email.message.EmailMessage object at 0x12766cf10>,\n",
       "       <email.message.EmailMessage object at 0x126943cd0>,\n",
       "       <email.message.EmailMessage object at 0x126f6bf50>,\n",
       "       <email.message.EmailMessage object at 0x1276ddd90>,\n",
       "       <email.message.EmailMessage object at 0x126eae410>,\n",
       "       <email.message.EmailMessage object at 0x126fe48d0>,\n",
       "       <email.message.EmailMessage object at 0x127687750>,\n",
       "       <email.message.EmailMessage object at 0x127e31250>,\n",
       "       <email.message.EmailMessage object at 0x127913790>,\n",
       "       <email.message.EmailMessage object at 0x12778bad0>,\n",
       "       <email.message.EmailMessage object at 0x127af0810>,\n",
       "       <email.message.EmailMessage object at 0x1277fbe50>,\n",
       "       <email.message.EmailMessage object at 0x127179150>,\n",
       "       <email.message.EmailMessage object at 0x1273786d0>,\n",
       "       <email.message.EmailMessage object at 0x127d76b10>,\n",
       "       <email.message.EmailMessage object at 0x12681cd50>,\n",
       "       <email.message.EmailMessage object at 0x1279434d0>,\n",
       "       <email.message.EmailMessage object at 0x1275190d0>,\n",
       "       <email.message.EmailMessage object at 0x127c0b950>,\n",
       "       <email.message.EmailMessage object at 0x127473f90>,\n",
       "       <email.message.EmailMessage object at 0x1272dedd0>,\n",
       "       <email.message.EmailMessage object at 0x1278c3e10>,\n",
       "       <email.message.EmailMessage object at 0x1276dd150>,\n",
       "       <email.message.EmailMessage object at 0x126a1ec90>,\n",
       "       <email.message.EmailMessage object at 0x1278e4b90>,\n",
       "       <email.message.EmailMessage object at 0x126eddf50>,\n",
       "       <email.message.EmailMessage object at 0x127391a10>,\n",
       "       <email.message.EmailMessage object at 0x1269fb6d0>,\n",
       "       <email.message.EmailMessage object at 0x12795cd90>,\n",
       "       <email.message.EmailMessage object at 0x127a102d0>,\n",
       "       <email.message.EmailMessage object at 0x12702ae50>,\n",
       "       <email.message.EmailMessage object at 0x12774e8d0>,\n",
       "       <email.message.EmailMessage object at 0x127942c90>,\n",
       "       <email.message.EmailMessage object at 0x126b50c90>,\n",
       "       <email.message.EmailMessage object at 0x127697f90>,\n",
       "       <email.message.EmailMessage object at 0x1268aee90>,\n",
       "       <email.message.EmailMessage object at 0x1279d52d0>,\n",
       "       <email.message.EmailMessage object at 0x126c4d950>,\n",
       "       <email.message.EmailMessage object at 0x1268d6a50>,\n",
       "       <email.message.EmailMessage object at 0x126a16f90>,\n",
       "       <email.message.EmailMessage object at 0x126c0d590>,\n",
       "       <email.message.EmailMessage object at 0x127d0cd50>,\n",
       "       <email.message.EmailMessage object at 0x12788f210>,\n",
       "       <email.message.EmailMessage object at 0x1277f4690>,\n",
       "       <email.message.EmailMessage object at 0x126eda8d0>,\n",
       "       <email.message.EmailMessage object at 0x126a84690>,\n",
       "       <email.message.EmailMessage object at 0x127796990>,\n",
       "       <email.message.EmailMessage object at 0x12766ce10>,\n",
       "       <email.message.EmailMessage object at 0x126cf8f10>,\n",
       "       <email.message.EmailMessage object at 0x127332190>,\n",
       "       <email.message.EmailMessage object at 0x127958ed0>,\n",
       "       <email.message.EmailMessage object at 0x126d191d0>,\n",
       "       <email.message.EmailMessage object at 0x12617eb10>,\n",
       "       <email.message.EmailMessage object at 0x127d2de50>,\n",
       "       <email.message.EmailMessage object at 0x127283ad0>,\n",
       "       <email.message.EmailMessage object at 0x1278c3f50>,\n",
       "       <email.message.EmailMessage object at 0x126a95890>,\n",
       "       <email.message.EmailMessage object at 0x126cdd150>,\n",
       "       <email.message.EmailMessage object at 0x126e6c210>,\n",
       "       <email.message.EmailMessage object at 0x127157f90>,\n",
       "       <email.message.EmailMessage object at 0x125b95350>,\n",
       "       <email.message.EmailMessage object at 0x12695f410>,\n",
       "       <email.message.EmailMessage object at 0x125dd8150>,\n",
       "       <email.message.EmailMessage object at 0x127baded0>,\n",
       "       <email.message.EmailMessage object at 0x127d23950>,\n",
       "       <email.message.EmailMessage object at 0x125de1150>,\n",
       "       <email.message.EmailMessage object at 0x12763c0d0>,\n",
       "       <email.message.EmailMessage object at 0x127ac5f10>,\n",
       "       <email.message.EmailMessage object at 0x127661890>,\n",
       "       <email.message.EmailMessage object at 0x126cf81d0>,\n",
       "       <email.message.EmailMessage object at 0x127769290>,\n",
       "       <email.message.EmailMessage object at 0x127c2f110>,\n",
       "       <email.message.EmailMessage object at 0x127d29590>,\n",
       "       <email.message.EmailMessage object at 0x127ae8990>,\n",
       "       <email.message.EmailMessage object at 0x127473790>,\n",
       "       <email.message.EmailMessage object at 0x1274372d0>,\n",
       "       <email.message.EmailMessage object at 0x1267a1a50>,\n",
       "       <email.message.EmailMessage object at 0x127829b50>,\n",
       "       <email.message.EmailMessage object at 0x126c45fd0>,\n",
       "       <email.message.EmailMessage object at 0x1276e5590>,\n",
       "       <email.message.EmailMessage object at 0x1273c5050>], dtype=object)"
      ]
     },
     "execution_count": 18,
     "metadata": {},
     "output_type": "execute_result"
    }
   ],
   "source": [
    "X_test"
   ]
  },
  {
   "cell_type": "markdown",
   "metadata": {},
   "source": [
    "Okay, let's start writing the preprocessing functions. First, we will need a function to convert HTML to plain text. Arguably the best way to do this would be to use the great BeautifulSoup library, but I would like to avoid adding another dependency to this project, so let's hack a quick & dirty solution using regular expressions.\n",
    "\n",
    "The following function first drops the <.head.> section, then converts all <.a.> tags to the word HYPERLINK, then it gets rid of all HTML tags, leaving only the plain text. For readability, it also replaces multiple newlines with single newlines, and finally it unescapes html entities (such as &gt; or &nbsp;):"
   ]
  },
  {
   "cell_type": "code",
   "execution_count": 19,
   "metadata": {},
   "outputs": [],
   "source": [
    "import re\n",
    "from html import unescape\n",
    "\n",
    "def html_to_plain_text(html):\n",
    "    text = re.sub('<head.*?>.*?</head>', '', html, flags=re.M | re.S | re.I)\n",
    "    text = re.sub('<a\\s.*?>', ' HYPERLINK ', text, flags=re.M | re.S | re.I)\n",
    "    text = re.sub('<.*?>', '', text, flags=re.M | re.S)\n",
    "    text = re.sub(r'(\\s*\\n)+', '\\n', text, flags=re.M | re.S)\n",
    "    return unescape(text)"
   ]
  },
  {
   "cell_type": "markdown",
   "metadata": {},
   "source": [
    "Let's see if it works. This is HTML spam:"
   ]
  },
  {
   "cell_type": "code",
   "execution_count": 20,
   "metadata": {},
   "outputs": [
    {
     "name": "stdout",
     "output_type": "stream",
     "text": [
      "<HTML><HEAD><TITLE></TITLE><META http-equiv=\"Content-Type\" content=\"text/html; charset=windows-1252\"><STYLE>A:link {TEX-DECORATION: none}A:active {TEXT-DECORATION: none}A:visited {TEXT-DECORATION: none}A:hover {COLOR: #0033ff; TEXT-DECORATION: underline}</STYLE><META content=\"MSHTML 6.00.2713.1100\" name=\"GENERATOR\"></HEAD>\n",
      "<BODY text=\"#000000\" vLink=\"#0033ff\" link=\"#0033ff\" bgColor=\"#CCCC99\"><TABLE borderColor=\"#660000\" cellSpacing=\"0\" cellPadding=\"0\" border=\"0\" width=\"100%\"><TR><TD bgColor=\"#CCCC99\" valign=\"top\" colspan=\"2\" height=\"27\">\n",
      "<font size=\"6\" face=\"Arial, Helvetica, sans-serif\" color=\"#660000\">\n",
      "<b>OTC</b></font></TD></TR><TR><TD height=\"2\" bgcolor=\"#6a694f\">\n",
      "<font size=\"5\" face=\"Times New Roman, Times, serif\" color=\"#FFFFFF\">\n",
      "<b>&nbsp;Newsletter</b></font></TD><TD height=\"2\" bgcolor=\"#6a694f\"><div align=\"right\"><font color=\"#FFFFFF\">\n",
      "<b>Discover Tomorrow's Winners&nbsp;</b></font></div></TD></TR><TR><TD height=\"25\" colspan=\"2\" bgcolor=\"#CCCC99\"><table width=\"100%\" border=\"0\"  ...\n"
     ]
    }
   ],
   "source": [
    "html_spam_emails = [email for email in X_train[y_train==1]\n",
    "                    if get_email_structure(email) == \"text/html\"]\n",
    "sample_html_spam = html_spam_emails[7]\n",
    "print(sample_html_spam.get_content().strip()[:1000], \"...\")"
   ]
  },
  {
   "cell_type": "markdown",
   "metadata": {},
   "source": [
    "And this is the resulting plain text:"
   ]
  },
  {
   "cell_type": "code",
   "execution_count": 21,
   "metadata": {},
   "outputs": [
    {
     "name": "stdout",
     "output_type": "stream",
     "text": [
      "\n",
      "OTC\n",
      " Newsletter\n",
      "Discover Tomorrow's Winners \n",
      "For Immediate Release\n",
      "Cal-Bay (Stock Symbol: CBYI)\n",
      "Watch for analyst \"Strong Buy Recommendations\" and several advisory newsletters picking CBYI.  CBYI has filed to be traded on the OTCBB, share prices historically INCREASE when companies get listed on this larger trading exchange. CBYI is trading around 25 cents and should skyrocket to $2.66 - $3.25 a share in the near future.\n",
      "Put CBYI on your watch list, acquire a position TODAY.\n",
      "REASONS TO INVEST IN CBYI\n",
      "A profitable company and is on track to beat ALL earnings estimates!\n",
      "One of the FASTEST growing distributors in environmental & safety equipment instruments.\n",
      "Excellent management team, several EXCLUSIVE contracts.  IMPRESSIVE client list including the U.S. Air Force, Anheuser-Busch, Chevron Refining and Mitsubishi Heavy Industries, GE-Energy & Environmental Research.\n",
      "RAPIDLY GROWING INDUSTRY\n",
      "Industry revenues exceed $900 million, estimates indicate that there could be as much as $25 billi ...\n"
     ]
    }
   ],
   "source": [
    "print(html_to_plain_text(sample_html_spam.get_content())[:1000], \"...\")"
   ]
  },
  {
   "cell_type": "markdown",
   "metadata": {},
   "source": [
    "Great! Now let's write a function that takes an email as input and returns its content as plain text, whatever its format is:"
   ]
  },
  {
   "cell_type": "code",
   "execution_count": 22,
   "metadata": {},
   "outputs": [],
   "source": [
    "def email_to_text(email):\n",
    "    html = None\n",
    "    for part in email.walk():\n",
    "        ctype = part.get_content_type()\n",
    "        if not ctype in (\"text/plain\", \"text/html\"):\n",
    "            continue\n",
    "        try:\n",
    "            content = part.get_content()\n",
    "        except: # in case of encoding issues\n",
    "            content = str(part.get_payload())\n",
    "        if ctype == \"text/plain\":\n",
    "            return content\n",
    "        else:\n",
    "            html = content\n",
    "    if html:\n",
    "        return html_to_plain_text(html)"
   ]
  },
  {
   "cell_type": "code",
   "execution_count": 23,
   "metadata": {},
   "outputs": [
    {
     "name": "stdout",
     "output_type": "stream",
     "text": [
      "\n",
      "OTC\n",
      " Newsletter\n",
      "Discover Tomorrow's Winners \n",
      "For Immediate Release\n",
      "Cal-Bay (Stock Symbol: CBYI)\n",
      "Watch for analyst \"Strong Buy Recommendations\" and several advisory newsletters picking CBYI.  CBYI has filed to be traded on the OTCBB, share prices historically INCREASE when companies get listed on this larger trading exchange. CBYI is trading around 25 cents and should skyrocket to $2.66 - $3.25 a share in the near future.\n",
      "Put CBYI on your watch list, acquire a position TODAY.\n",
      "REASONS TO INVEST IN CBYI\n",
      "A profitable company and is on track to beat ALL earnings estimates!\n",
      "One of the FASTEST growing distributors in environmental & safety equipment instruments.\n",
      "Excellent management team, several EXCLUSIVE contracts.  IMPRESSIVE client list including the U.S. Air Force, Anheuser-Busch, Chevron Refining and Mitsubishi Heavy Industries, GE-Energy & Environmental Research.\n",
      "RAPIDLY GROWING INDUSTRY\n",
      "Industry revenues exceed $900 million, estimates indicate that there could be as much as $25 billion from \"smell technology\" by the end of 2003.\n",
      "!!!!!CONGRATULATIONS!!!!!Our last recommendation to buy ORBT at $1.29 rallied and is holding steady at $3.50! Congratulations to all our subscribers that took advantage of this recommendation.\n",
      "ALL removes HONORED. Please allow 7 days to be removed and send ALL addresses to:\n",
      " HYPERLINK GoneForGood@btamail.net.cn\n",
      " \n",
      "Certain statements contained in this news release may be forward-looking statements within the meaning of The Private Securities Litigation Reform Act of 1995. These statements may be identified by such terms as \"expect\", \"believe\", \"may\", \"will\", and \"intend\" or similar terms. We are NOT a registered investment advisor or a broker dealer. This is NOT an offer to buy or sell securities. No recommendation that the securities of the companies profiled should be purchased, sold or held by individuals or entities that learn of the profiled companies. We were paid $27,000 in cash by a third party to publish this report. Investing in companies profiled is high-risk and use of this information is for reading purposes only. If anyone decides to act as an investor, then it will be that investor's sole risk. Investors are advised NOT to invest without the proper advisement from an attorney or a registered financial broker. Do not rely solely on the information presented, do additional independent research to form your own opinion and decision regarding investing in the profiled companies. Be advised that the purchase of such high-risk securities may result in the loss of your entire investment.  Not intended for recipients or residents of CA,CO,CT,DE,ID, IL,IA,LA,MO,NV,NC,OK,OH,PA,RI,TN,VA,WA,WV,WI. Void where prohibited.  The owners of this publication may already own free trading shares in CBYI and may immediately sell all or a portion of these shares into the open market at or about the time this report is published.  Factual statements are made as of the date stated and are subject to change without notice.\n",
      "Copyright c 2001\n",
      "≡\n",
      "OTC\n",
      "≡\n",
      "***\n",
      "\n"
     ]
    }
   ],
   "source": [
    "print(email_to_text(sample_html_spam))"
   ]
  },
  {
   "cell_type": "markdown",
   "metadata": {},
   "source": [
    "Let's use Natural Language Toolkit (NLTK)"
   ]
  },
  {
   "cell_type": "code",
   "execution_count": 24,
   "metadata": {},
   "outputs": [
    {
     "name": "stdout",
     "output_type": "stream",
     "text": [
      "Computations => comput\n",
      "Computation => comput\n",
      "Computing => comput\n",
      "Computed => comput\n",
      "Compute => comput\n",
      "Compulsive => compuls\n"
     ]
    }
   ],
   "source": [
    "try:\n",
    "    import nltk\n",
    "\n",
    "    stemmer = nltk.PorterStemmer()\n",
    "    for word in (\"Computations\", \"Computation\", \"Computing\", \"Computed\", \"Compute\", \"Compulsive\"):\n",
    "        print(word, \"=>\", stemmer.stem(word))\n",
    "except ImportError:\n",
    "    print(\"Error: stemming requires the NLTK module.\")\n",
    "    stemmer = None"
   ]
  },
  {
   "cell_type": "code",
   "execution_count": 30,
   "metadata": {},
   "outputs": [],
   "source": [
    "# Install a pip package in the current Jupyter kernel\n",
    "import sys\n",
    "!{sys.executable} -m pip install -q -U urlextract"
   ]
  },
  {
   "cell_type": "code",
   "execution_count": 31,
   "metadata": {},
   "outputs": [
    {
     "name": "stdout",
     "output_type": "stream",
     "text": [
      "['github.com', 'https://youtu.be/7Pq-S557XQU?t=3m32s']\n"
     ]
    }
   ],
   "source": [
    "try:\n",
    "    import urlextract # may require an Internet connection to download root domain names\n",
    "    \n",
    "    url_extractor = urlextract.URLExtract()\n",
    "    print(url_extractor.find_urls(\"Will it detect github.com and https://youtu.be/7Pq-S557XQU?t=3m32s\"))\n",
    "except ImportError:\n",
    "    print(\"Error: replacing URLs requires the urlextract module.\")\n",
    "    url_extractor = None"
   ]
  },
  {
   "cell_type": "markdown",
   "metadata": {},
   "source": [
    "We are ready to put all this together into a transformer that we will use to convert emails to word counters. Note that we split sentences into words using Python's split() method, which uses whitespaces for word boundaries. This works for many written languages, but not all. For example, Chinese and Japanese scripts generally don't use spaces between words, and Vietnamese often uses spaces even between syllables. It's okay here, because the dataset is (mostly) in English.\n"
   ]
  },
  {
   "cell_type": "code",
   "execution_count": 32,
   "metadata": {},
   "outputs": [],
   "source": [
    "from sklearn.base import BaseEstimator, TransformerMixin\n",
    "\n",
    "class EmailToWordCounterTransformer(BaseEstimator, TransformerMixin):\n",
    "    def __init__(self, strip_headers=True, lower_case=True, remove_punctuation=True,\n",
    "                 replace_urls=True, replace_numbers=True, stemming=True):\n",
    "        self.strip_headers = strip_headers\n",
    "        self.lower_case = lower_case\n",
    "        self.remove_punctuation = remove_punctuation\n",
    "        self.replace_urls = replace_urls\n",
    "        self.replace_numbers = replace_numbers\n",
    "        self.stemming = stemming\n",
    "    def fit(self, X, y=None):\n",
    "        return self\n",
    "    def transform(self, X, y=None):\n",
    "        X_transformed = []\n",
    "        for email in X:\n",
    "            text = email_to_text(email) or \"\"\n",
    "            if self.lower_case:\n",
    "                text = text.lower()\n",
    "            if self.replace_urls and url_extractor is not None:\n",
    "                urls = list(set(url_extractor.find_urls(text)))\n",
    "                urls.sort(key=lambda url: len(url), reverse=True)\n",
    "                for url in urls:\n",
    "                    text = text.replace(url, \" URL \")\n",
    "            if self.replace_numbers:\n",
    "                text = re.sub(r'\\d+(?:\\.\\d*(?:[eE]\\d+))?', 'NUMBER', text)\n",
    "            if self.remove_punctuation:\n",
    "                text = re.sub(r'\\W+', ' ', text, flags=re.M)\n",
    "            word_counts = Counter(text.split())\n",
    "            if self.stemming and stemmer is not None:\n",
    "                stemmed_word_counts = Counter()\n",
    "                for word, count in word_counts.items():\n",
    "                    stemmed_word = stemmer.stem(word)\n",
    "                    stemmed_word_counts[stemmed_word] += count\n",
    "                word_counts = stemmed_word_counts\n",
    "            X_transformed.append(word_counts)\n",
    "        return np.array(X_transformed)"
   ]
  },
  {
   "cell_type": "markdown",
   "metadata": {},
   "source": [
    "Let's try this transformer on a few emails:\n"
   ]
  },
  {
   "cell_type": "code",
   "execution_count": 33,
   "metadata": {},
   "outputs": [
    {
     "data": {
      "text/plain": [
       "array([Counter({'chuck': 1, 'murcko': 1, 'wrote': 1, 'stuff': 1, 'yawn': 1, 'r': 1}),\n",
       "       Counter({'the': 11, 'of': 9, 'and': 8, 'all': 3, 'christian': 3, 'to': 3, 'by': 3, 'jefferson': 2, 'i': 2, 'have': 2, 'superstit': 2, 'one': 2, 'on': 2, 'been': 2, 'ha': 2, 'half': 2, 'rogueri': 2, 'teach': 2, 'jesu': 2, 'some': 1, 'interest': 1, 'quot': 1, 'url': 1, 'thoma': 1, 'examin': 1, 'known': 1, 'word': 1, 'do': 1, 'not': 1, 'find': 1, 'in': 1, 'our': 1, 'particular': 1, 'redeem': 1, 'featur': 1, 'they': 1, 'are': 1, 'alik': 1, 'found': 1, 'fabl': 1, 'mytholog': 1, 'million': 1, 'innoc': 1, 'men': 1, 'women': 1, 'children': 1, 'sinc': 1, 'introduct': 1, 'burnt': 1, 'tortur': 1, 'fine': 1, 'imprison': 1, 'what': 1, 'effect': 1, 'thi': 1, 'coercion': 1, 'make': 1, 'world': 1, 'fool': 1, 'other': 1, 'hypocrit': 1, 'support': 1, 'error': 1, 'over': 1, 'earth': 1, 'six': 1, 'histor': 1, 'american': 1, 'john': 1, 'e': 1, 'remsburg': 1, 'letter': 1, 'william': 1, 'short': 1, 'again': 1, 'becom': 1, 'most': 1, 'pervert': 1, 'system': 1, 'that': 1, 'ever': 1, 'shone': 1, 'man': 1, 'absurd': 1, 'untruth': 1, 'were': 1, 'perpetr': 1, 'upon': 1, 'a': 1, 'larg': 1, 'band': 1, 'dupe': 1, 'import': 1, 'led': 1, 'paul': 1, 'first': 1, 'great': 1, 'corrupt': 1}),\n",
       "       Counter({'url': 4, 's': 3, 'group': 3, 'to': 3, 'in': 2, 'forteana': 2, 'martin': 2, 'an': 2, 'and': 2, 'we': 2, 'is': 2, 'yahoo': 2, 'unsubscrib': 2, 'y': 1, 'adamson': 1, 'wrote': 1, 'for': 1, 'altern': 1, 'rather': 1, 'more': 1, 'factual': 1, 'base': 1, 'rundown': 1, 'on': 1, 'hamza': 1, 'career': 1, 'includ': 1, 'hi': 1, 'belief': 1, 'that': 1, 'all': 1, 'non': 1, 'muslim': 1, 'yemen': 1, 'should': 1, 'be': 1, 'murder': 1, 'outright': 1, 'know': 1, 'how': 1, 'unbias': 1, 'memri': 1, 'don': 1, 't': 1, 'html': 1, 'rob': 1, 'sponsor': 1, 'number': 1, 'dvd': 1, 'free': 1, 'p': 1, 'join': 1, 'now': 1, 'from': 1, 'thi': 1, 'send': 1, 'email': 1, 'egroup': 1, 'com': 1, 'your': 1, 'use': 1, 'of': 1, 'subject': 1})],\n",
       "      dtype=object)"
      ]
     },
     "execution_count": 33,
     "metadata": {},
     "output_type": "execute_result"
    }
   ],
   "source": [
    "X_few = X_train[:3]\n",
    "X_few_wordcounts = EmailToWordCounterTransformer().fit_transform(X_few)\n",
    "X_few_wordcounts"
   ]
  },
  {
   "cell_type": "markdown",
   "metadata": {},
   "source": [
    "This looks about right!\n",
    "\n",
    "Now we have the word counts, and we need to convert them to vectors. For this, we will build another transformer whose fit() method will build the vocabulary (an ordered list of the most common words) and whose transform() method will use the vocabulary to convert word counts to vectors. The output is a sparse matrix."
   ]
  },
  {
   "cell_type": "code",
   "execution_count": 34,
   "metadata": {},
   "outputs": [],
   "source": [
    "from scipy.sparse import csr_matrix\n",
    "\n",
    "class WordCounterToVectorTransformer(BaseEstimator, TransformerMixin):\n",
    "    def __init__(self, vocabulary_size=1000):\n",
    "        self.vocabulary_size = vocabulary_size\n",
    "    def fit(self, X, y=None):\n",
    "        total_count = Counter()\n",
    "        for word_count in X:\n",
    "            for word, count in word_count.items():\n",
    "                total_count[word] += min(count, 10)\n",
    "        most_common = total_count.most_common()[:self.vocabulary_size]\n",
    "        self.most_common_ = most_common\n",
    "        self.vocabulary_ = {word: index + 1 for index, (word, count) in enumerate(most_common)}\n",
    "        return self\n",
    "    def transform(self, X, y=None):\n",
    "        rows = []\n",
    "        cols = []\n",
    "        data = []\n",
    "        for row, word_count in enumerate(X):\n",
    "            for word, count in word_count.items():\n",
    "                rows.append(row)\n",
    "                cols.append(self.vocabulary_.get(word, 0))\n",
    "                data.append(count)\n",
    "        return csr_matrix((data, (rows, cols)), shape=(len(X), self.vocabulary_size + 1))"
   ]
  },
  {
   "cell_type": "code",
   "execution_count": 35,
   "metadata": {},
   "outputs": [
    {
     "data": {
      "text/plain": [
       "<3x11 sparse matrix of type '<class 'numpy.int64'>'\n",
       "\twith 20 stored elements in Compressed Sparse Row format>"
      ]
     },
     "execution_count": 35,
     "metadata": {},
     "output_type": "execute_result"
    }
   ],
   "source": [
    "vocab_transformer = WordCounterToVectorTransformer(vocabulary_size=10)\n",
    "X_few_vectors = vocab_transformer.fit_transform(X_few_wordcounts)\n",
    "X_few_vectors"
   ]
  },
  {
   "cell_type": "code",
   "execution_count": 36,
   "metadata": {},
   "outputs": [
    {
     "data": {
      "text/plain": [
       "array([[ 6,  0,  0,  0,  0,  0,  0,  0,  0,  0,  0],\n",
       "       [99, 11,  9,  8,  3,  1,  3,  1,  3,  2,  3],\n",
       "       [67,  0,  1,  2,  3,  4,  1,  2,  0,  1,  0]])"
      ]
     },
     "execution_count": 36,
     "metadata": {},
     "output_type": "execute_result"
    }
   ],
   "source": [
    "X_few_vectors.toarray()"
   ]
  },
  {
   "cell_type": "markdown",
   "metadata": {},
   "source": [
    "What does this matrix mean? Well, the 99 in the second row, first column, means that the second email contains 99 words that are not part of the vocabulary. The 11 next to it means that the first word in the vocabulary is present 11 times in this email. The 9 next to it means that the second word is present 9 times, and so on. You can look at the vocabulary to know which words we are talking about. The first word is \"the\", the second word is \"of\", etc."
   ]
  },
  {
   "cell_type": "code",
   "execution_count": 37,
   "metadata": {},
   "outputs": [
    {
     "data": {
      "text/plain": [
       "{'the': 1,\n",
       " 'of': 2,\n",
       " 'and': 3,\n",
       " 'to': 4,\n",
       " 'url': 5,\n",
       " 'all': 6,\n",
       " 'in': 7,\n",
       " 'christian': 8,\n",
       " 'on': 9,\n",
       " 'by': 10}"
      ]
     },
     "execution_count": 37,
     "metadata": {},
     "output_type": "execute_result"
    }
   ],
   "source": [
    "vocab_transformer.vocabulary_"
   ]
  },
  {
   "cell_type": "markdown",
   "metadata": {},
   "source": [
    "We are now ready to train our first spam classifier! Let's transform the whole dataset:"
   ]
  },
  {
   "cell_type": "code",
   "execution_count": 38,
   "metadata": {},
   "outputs": [],
   "source": [
    "from sklearn.pipeline import Pipeline\n",
    "\n",
    "preprocess_pipeline = Pipeline([\n",
    "    (\"email_to_wordcount\", EmailToWordCounterTransformer()),\n",
    "    (\"wordcount_to_vector\", WordCounterToVectorTransformer()),\n",
    "])\n",
    "\n",
    "X_train_transformed = preprocess_pipeline.fit_transform(X_train)"
   ]
  },
  {
   "cell_type": "code",
   "execution_count": 39,
   "metadata": {},
   "outputs": [
    {
     "name": "stdout",
     "output_type": "stream",
     "text": [
      "[CV]  ................................................................\n"
     ]
    },
    {
     "name": "stderr",
     "output_type": "stream",
     "text": [
      "[Parallel(n_jobs=1)]: Using backend SequentialBackend with 1 concurrent workers.\n"
     ]
    },
    {
     "name": "stdout",
     "output_type": "stream",
     "text": [
      "[CV] .................................... , score=0.981, total=   0.9s\n",
      "[CV]  ................................................................\n"
     ]
    },
    {
     "name": "stderr",
     "output_type": "stream",
     "text": [
      "[Parallel(n_jobs=1)]: Done   1 out of   1 | elapsed:    0.9s remaining:    0.0s\n"
     ]
    },
    {
     "name": "stdout",
     "output_type": "stream",
     "text": [
      "[CV] .................................... , score=0.984, total=   0.4s\n",
      "[CV]  ................................................................\n",
      "[CV] .................................... , score=0.993, total=   0.1s\n"
     ]
    },
    {
     "name": "stderr",
     "output_type": "stream",
     "text": [
      "[Parallel(n_jobs=1)]: Done   2 out of   2 | elapsed:    1.3s remaining:    0.0s\n",
      "[Parallel(n_jobs=1)]: Done   3 out of   3 | elapsed:    1.4s finished\n"
     ]
    },
    {
     "data": {
      "text/plain": [
       "0.9858333333333333"
      ]
     },
     "execution_count": 39,
     "metadata": {},
     "output_type": "execute_result"
    }
   ],
   "source": [
    "from sklearn.linear_model import LogisticRegression\n",
    "from sklearn.model_selection import cross_val_score\n",
    "\n",
    "log_clf = LogisticRegression(solver=\"lbfgs\", random_state=42, n_jobs = -1)\n",
    "score = cross_val_score(log_clf, X_train_transformed, y_train, cv=3, verbose=3)\n",
    "score.mean()"
   ]
  },
  {
   "cell_type": "markdown",
   "metadata": {},
   "source": [
    "Over 98.5%, not bad for a first try! :) However, remember that we are using the \"easy\" dataset. You can try with the harder datasets, the results won't be so amazing. You would have to try multiple models, select the best ones and fine-tune them using cross-validation, and so on.\n",
    "\n",
    "But you get the picture, so let's stop now, and just print out the precision/recall we get on the test set:\n"
   ]
  },
  {
   "cell_type": "code",
   "execution_count": 42,
   "metadata": {},
   "outputs": [
    {
     "name": "stdout",
     "output_type": "stream",
     "text": [
      "Precision: 95.88%\n",
      "Recall: 97.89%\n"
     ]
    }
   ],
   "source": [
    "from sklearn.metrics import precision_score, recall_score\n",
    "\n",
    "X_test_transformed = preprocess_pipeline.transform(X_test)\n",
    "\n",
    "log_clf = LogisticRegression(solver=\"lbfgs\", random_state=42, max_iter = 5000)\n",
    "log_clf.fit(X_train_transformed, y_train)\n",
    "\n",
    "y_pred = log_clf.predict(X_test_transformed)\n",
    "\n",
    "print(\"Precision: {:.2f}%\".format(100 * precision_score(y_test, y_pred)))\n",
    "print(\"Recall: {:.2f}%\".format(100 * recall_score(y_test, y_pred)))"
   ]
  }
 ],
 "metadata": {
  "kernelspec": {
   "display_name": "Python 3",
   "language": "python",
   "name": "python3"
  },
  "language_info": {
   "codemirror_mode": {
    "name": "ipython",
    "version": 3
   },
   "file_extension": ".py",
   "mimetype": "text/x-python",
   "name": "python",
   "nbconvert_exporter": "python",
   "pygments_lexer": "ipython3",
   "version": "3.7.7"
  }
 },
 "nbformat": 4,
 "nbformat_minor": 4
}
