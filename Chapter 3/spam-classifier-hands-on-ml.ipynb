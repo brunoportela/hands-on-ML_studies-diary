{
 "cells": [
  {
   "cell_type": "markdown",
   "metadata": {},
   "source": [
    "Setup"
   ]
  },
  {
   "cell_type": "code",
   "execution_count": 1,
   "metadata": {},
   "outputs": [],
   "source": [
    "# Python ≥3.5 is required\n",
    "import sys\n",
    "assert sys.version_info >= (3, 5)\n",
    "\n",
    "# Scikit-Learn ≥0.20 is required\n",
    "import sklearn\n",
    "assert sklearn.__version__ >= \"0.20\"\n",
    "\n",
    "# Common imports\n",
    "import numpy as np\n",
    "import os\n",
    "\n",
    "# to make this notebook's output stable across runs\n",
    "np.random.seed(42)\n",
    "\n",
    "# To plot pretty figures\n",
    "%matplotlib inline\n",
    "import matplotlib as mpl\n",
    "import matplotlib.pyplot as plt\n",
    "mpl.rc('axes', labelsize=14)\n",
    "mpl.rc('xtick', labelsize=12)\n",
    "mpl.rc('ytick', labelsize=12)"
   ]
  },
  {
   "cell_type": "markdown",
   "metadata": {},
   "source": [
    "Fetch the data"
   ]
  },
  {
   "cell_type": "code",
   "execution_count": 2,
   "metadata": {},
   "outputs": [],
   "source": [
    "import os\n",
    "import tarfile\n",
    "import urllib\n",
    "\n",
    "DOWNLOAD_ROOT = \"http://spamassassin.apache.org/old/publiccorpus/\"\n",
    "HAM_URL = DOWNLOAD_ROOT + \"20030228_easy_ham.tar.bz2\"\n",
    "SPAM_URL = DOWNLOAD_ROOT + \"20030228_spam.tar.bz2\"\n",
    "SPAM_PATH = os.path.join(\"datasets\", \"spam\")\n",
    "\n",
    "def fetch_spam_data(spam_url=SPAM_URL, spam_path=SPAM_PATH):\n",
    "    if not os.path.isdir(spam_path):\n",
    "        os.makedirs(spam_path)\n",
    "    for filename, url in ((\"ham.tar.bz2\", HAM_URL), (\"spam.tar.bz2\", SPAM_URL)):\n",
    "        path = os.path.join(spam_path, filename)\n",
    "        if not os.path.isfile(path):\n",
    "            urllib.request.urlretrieve(url, path)\n",
    "        tar_bz2_file = tarfile.open(path)\n",
    "        tar_bz2_file.extractall(path=SPAM_PATH)\n",
    "        tar_bz2_file.close()"
   ]
  },
  {
   "cell_type": "code",
   "execution_count": 3,
   "metadata": {},
   "outputs": [],
   "source": [
    "fetch_spam_data()"
   ]
  },
  {
   "cell_type": "markdown",
   "metadata": {},
   "source": [
    "Load the emails"
   ]
  },
  {
   "cell_type": "code",
   "execution_count": 4,
   "metadata": {},
   "outputs": [],
   "source": [
    "HAM_DIR = os.path.join(SPAM_PATH, \"easy_ham\")\n",
    "SPAM_DIR = os.path.join(SPAM_PATH, \"spam\")\n",
    "ham_filenames = [name for name in sorted(os.listdir(HAM_DIR)) if len(name) > 20]\n",
    "spam_filenames = [name for name in sorted(os.listdir(SPAM_DIR)) if len(name) > 20]"
   ]
  },
  {
   "cell_type": "code",
   "execution_count": 5,
   "metadata": {},
   "outputs": [
    {
     "data": {
      "text/plain": [
       "2500"
      ]
     },
     "execution_count": 5,
     "metadata": {},
     "output_type": "execute_result"
    }
   ],
   "source": [
    "len(ham_filenames)"
   ]
  },
  {
   "cell_type": "code",
   "execution_count": 6,
   "metadata": {},
   "outputs": [
    {
     "data": {
      "text/plain": [
       "500"
      ]
     },
     "execution_count": 6,
     "metadata": {},
     "output_type": "execute_result"
    }
   ],
   "source": [
    "len(spam_filenames)"
   ]
  },
  {
   "cell_type": "markdown",
   "metadata": {},
   "source": [
    "Parse emails using python module"
   ]
  },
  {
   "cell_type": "code",
   "execution_count": 7,
   "metadata": {},
   "outputs": [],
   "source": [
    "import email\n",
    "import email.policy\n",
    "\n",
    "def load_email(is_spam, filename, spam_path=SPAM_PATH):\n",
    "    directory = \"spam\" if is_spam else \"easy_ham\"\n",
    "    with open(os.path.join(spam_path, directory, filename), \"rb\") as f:\n",
    "        return email.parser.BytesParser(policy=email.policy.default).parse(f)"
   ]
  },
  {
   "cell_type": "code",
   "execution_count": 8,
   "metadata": {},
   "outputs": [],
   "source": [
    "ham_emails = [load_email(is_spam=False, filename=name) for name in ham_filenames]\n",
    "spam_emails = [load_email(is_spam=True, filename=name) for name in spam_filenames]"
   ]
  },
  {
   "cell_type": "markdown",
   "metadata": {},
   "source": [
    "Explore on example of ham and one example of spam\n",
    "\n",
    "Ham:"
   ]
  },
  {
   "cell_type": "code",
   "execution_count": 9,
   "metadata": {},
   "outputs": [
    {
     "name": "stdout",
     "output_type": "stream",
     "text": [
      "Martin A posted:\n",
      "Tassos Papadopoulos, the Greek sculptor behind the plan, judged that the\n",
      " limestone of Mount Kerdylio, 70 miles east of Salonika and not far from the\n",
      " Mount Athos monastic community, was ideal for the patriotic sculpture. \n",
      " \n",
      " As well as Alexander's granite features, 240 ft high and 170 ft wide, a\n",
      " museum, a restored amphitheatre and car park for admiring crowds are\n",
      "planned\n",
      "---------------------\n",
      "So is this mountain limestone or granite?\n",
      "If it's limestone, it'll weather pretty fast.\n",
      "\n",
      "------------------------ Yahoo! Groups Sponsor ---------------------~-->\n",
      "4 DVDs Free +s&p Join Now\n",
      "http://us.click.yahoo.com/pt6YBB/NXiEAA/mG3HAA/7gSolB/TM\n",
      "---------------------------------------------------------------------~->\n",
      "\n",
      "To unsubscribe from this group, send an email to:\n",
      "forteana-unsubscribe@egroups.com\n",
      "\n",
      " \n",
      "\n",
      "Your use of Yahoo! Groups is subject to http://docs.yahoo.com/info/terms/\n"
     ]
    }
   ],
   "source": [
    "print(ham_emails[1].get_content().strip())"
   ]
  },
  {
   "cell_type": "markdown",
   "metadata": {},
   "source": [
    "Spam:"
   ]
  },
  {
   "cell_type": "code",
   "execution_count": 10,
   "metadata": {},
   "outputs": [
    {
     "name": "stdout",
     "output_type": "stream",
     "text": [
      "Help wanted.  We are a 14 year old fortune 500 company, that is\n",
      "growing at a tremendous rate.  We are looking for individuals who\n",
      "want to work from home.\n",
      "\n",
      "This is an opportunity to make an excellent income.  No experience\n",
      "is required.  We will train you.\n",
      "\n",
      "So if you are looking to be employed from home with a career that has\n",
      "vast opportunities, then go:\n",
      "\n",
      "http://www.basetel.com/wealthnow\n",
      "\n",
      "We are looking for energetic and self motivated people.  If that is you\n",
      "than click on the link and fill out the form, and one of our\n",
      "employement specialist will contact you.\n",
      "\n",
      "To be removed from our link simple go to:\n",
      "\n",
      "http://www.basetel.com/remove.html\n",
      "\n",
      "\n",
      "4139vOLW7-758DoDY1425FRhM1-764SMFc8513fCsLl40\n"
     ]
    }
   ],
   "source": [
    "print(spam_emails[6].get_content().strip())"
   ]
  },
  {
   "cell_type": "markdown",
   "metadata": {},
   "source": [
    "Some emails have multiple structures (images, attachments...)"
   ]
  },
  {
   "cell_type": "code",
   "execution_count": 11,
   "metadata": {},
   "outputs": [],
   "source": [
    "def get_email_structure(email):\n",
    "    if isinstance(email, str):\n",
    "        return email\n",
    "    payload = email.get_payload()\n",
    "    if isinstance(payload, list):\n",
    "        return \"multipart({})\".format(\", \".join([\n",
    "            get_email_structure(sub_email)\n",
    "            for sub_email in payload\n",
    "        ]))\n",
    "    else:\n",
    "        return email.get_content_type()"
   ]
  },
  {
   "cell_type": "code",
   "execution_count": 12,
   "metadata": {},
   "outputs": [],
   "source": [
    "from collections import Counter\n",
    "\n",
    "def structures_counter(emails):\n",
    "    structures = Counter()\n",
    "    for email in emails:\n",
    "        structure = get_email_structure(email)\n",
    "        structures[structure] += 1\n",
    "    return structures"
   ]
  },
  {
   "cell_type": "code",
   "execution_count": 13,
   "metadata": {},
   "outputs": [
    {
     "data": {
      "text/plain": [
       "[('text/plain', 2408),\n",
       " ('multipart(text/plain, application/pgp-signature)', 66),\n",
       " ('multipart(text/plain, text/html)', 8),\n",
       " ('multipart(text/plain, text/plain)', 4),\n",
       " ('multipart(text/plain)', 3),\n",
       " ('multipart(text/plain, application/octet-stream)', 2),\n",
       " ('multipart(text/plain, text/enriched)', 1),\n",
       " ('multipart(text/plain, application/ms-tnef, text/plain)', 1),\n",
       " ('multipart(multipart(text/plain, text/plain, text/plain), application/pgp-signature)',\n",
       "  1),\n",
       " ('multipart(text/plain, video/mng)', 1),\n",
       " ('multipart(text/plain, multipart(text/plain))', 1),\n",
       " ('multipart(text/plain, application/x-pkcs7-signature)', 1),\n",
       " ('multipart(text/plain, multipart(text/plain, text/plain), text/rfc822-headers)',\n",
       "  1),\n",
       " ('multipart(text/plain, multipart(text/plain, text/plain), multipart(multipart(text/plain, application/x-pkcs7-signature)))',\n",
       "  1),\n",
       " ('multipart(text/plain, application/x-java-applet)', 1)]"
      ]
     },
     "execution_count": 13,
     "metadata": {},
     "output_type": "execute_result"
    }
   ],
   "source": [
    "structures_counter(ham_emails).most_common()"
   ]
  },
  {
   "cell_type": "code",
   "execution_count": 14,
   "metadata": {},
   "outputs": [
    {
     "data": {
      "text/plain": [
       "[('text/plain', 218),\n",
       " ('text/html', 183),\n",
       " ('multipart(text/plain, text/html)', 45),\n",
       " ('multipart(text/html)', 20),\n",
       " ('multipart(text/plain)', 19),\n",
       " ('multipart(multipart(text/html))', 5),\n",
       " ('multipart(text/plain, image/jpeg)', 3),\n",
       " ('multipart(text/html, application/octet-stream)', 2),\n",
       " ('multipart(text/plain, application/octet-stream)', 1),\n",
       " ('multipart(text/html, text/plain)', 1),\n",
       " ('multipart(multipart(text/html), application/octet-stream, image/jpeg)', 1),\n",
       " ('multipart(multipart(text/plain, text/html), image/gif)', 1),\n",
       " ('multipart/alternative', 1)]"
      ]
     },
     "execution_count": 14,
     "metadata": {},
     "output_type": "execute_result"
    }
   ],
   "source": [
    "structures_counter(spam_emails).most_common()"
   ]
  },
  {
   "cell_type": "markdown",
   "metadata": {},
   "source": [
    "It seems that the ham emails are more often plain text, while spam has quite a lot of HTML. Moreover, quite a few ham emails are signed using PGP, while no spam is. In short, it seems that the email structure is useful information to have."
   ]
  },
  {
   "cell_type": "markdown",
   "metadata": {},
   "source": [
    "Now let's take a look at the email headers:"
   ]
  },
  {
   "cell_type": "code",
   "execution_count": 15,
   "metadata": {},
   "outputs": [
    {
     "name": "stdout",
     "output_type": "stream",
     "text": [
      "Return-Path : <12a1mailbot1@web.de>\n",
      "Delivered-To : zzzz@localhost.spamassassin.taint.org\n",
      "Received : from localhost (localhost [127.0.0.1])\tby phobos.labs.spamassassin.taint.org (Postfix) with ESMTP id 136B943C32\tfor <zzzz@localhost>; Thu, 22 Aug 2002 08:17:21 -0400 (EDT)\n",
      "Received : from mail.webnote.net [193.120.211.219]\tby localhost with POP3 (fetchmail-5.9.0)\tfor zzzz@localhost (single-drop); Thu, 22 Aug 2002 13:17:21 +0100 (IST)\n",
      "Received : from dd_it7 ([210.97.77.167])\tby webnote.net (8.9.3/8.9.3) with ESMTP id NAA04623\tfor <zzzz@spamassassin.taint.org>; Thu, 22 Aug 2002 13:09:41 +0100\n",
      "From : 12a1mailbot1@web.de\n",
      "Received : from r-smtp.korea.com - 203.122.2.197 by dd_it7  with Microsoft SMTPSVC(5.5.1775.675.6);\t Sat, 24 Aug 2002 09:42:10 +0900\n",
      "To : dcek1a1@netsgo.com\n",
      "Subject : Life Insurance - Why Pay More?\n",
      "Date : Wed, 21 Aug 2002 20:31:57 -1600\n",
      "MIME-Version : 1.0\n",
      "Message-ID : <0103c1042001882DD_IT7@dd_it7>\n",
      "Content-Type : text/html; charset=\"iso-8859-1\"\n",
      "Content-Transfer-Encoding : quoted-printable\n"
     ]
    }
   ],
   "source": [
    "for header, value in spam_emails[0].items():\n",
    "    print(header,\":\",value)"
   ]
  },
  {
   "cell_type": "code",
   "execution_count": 16,
   "metadata": {},
   "outputs": [
    {
     "data": {
      "text/plain": [
       "'Life Insurance - Why Pay More?'"
      ]
     },
     "execution_count": 16,
     "metadata": {},
     "output_type": "execute_result"
    }
   ],
   "source": [
    "spam_emails[0][\"Subject\"]"
   ]
  },
  {
   "cell_type": "markdown",
   "metadata": {},
   "source": [
    "Split the data"
   ]
  },
  {
   "cell_type": "code",
   "execution_count": 17,
   "metadata": {},
   "outputs": [
    {
     "name": "stderr",
     "output_type": "stream",
     "text": [
      "/Users/bruno/Desktop/hands-on-ML_studies-diary/my_env/lib/python3.7/site-packages/ipykernel_launcher.py:4: VisibleDeprecationWarning: Creating an ndarray from ragged nested sequences (which is a list-or-tuple of lists-or-tuples-or ndarrays with different lengths or shapes) is deprecated. If you meant to do this, you must specify 'dtype=object' when creating the ndarray\n",
      "  after removing the cwd from sys.path.\n"
     ]
    }
   ],
   "source": [
    "import numpy as np\n",
    "from sklearn.model_selection import train_test_split\n",
    "\n",
    "X = np.array(ham_emails + spam_emails)\n",
    "y = np.array([0] * len(ham_emails) + [1] * len(spam_emails))\n",
    "\n",
    "X_train, X_test, y_train, y_test = train_test_split(X, y, test_size=0.2, random_state=42)"
   ]
  },
  {
   "cell_type": "code",
   "execution_count": 18,
   "metadata": {},
   "outputs": [
    {
     "data": {
      "text/plain": [
       "array([<email.message.EmailMessage object at 0x12ec3ed10>,\n",
       "       <email.message.EmailMessage object at 0x12e7a7850>,\n",
       "       <email.message.EmailMessage object at 0x12ec532d0>,\n",
       "       <email.message.EmailMessage object at 0x12de40e10>,\n",
       "       <email.message.EmailMessage object at 0x12ef4ba10>,\n",
       "       <email.message.EmailMessage object at 0x12e6d2710>,\n",
       "       <email.message.EmailMessage object at 0x12e9c5750>,\n",
       "       <email.message.EmailMessage object at 0x12ed6c450>,\n",
       "       <email.message.EmailMessage object at 0x12dfb78d0>,\n",
       "       <email.message.EmailMessage object at 0x12efafe90>,\n",
       "       <email.message.EmailMessage object at 0x12ee00890>,\n",
       "       <email.message.EmailMessage object at 0x12dc9e790>,\n",
       "       <email.message.EmailMessage object at 0x12e1dd410>,\n",
       "       <email.message.EmailMessage object at 0x12ec176d0>,\n",
       "       <email.message.EmailMessage object at 0x12f111e10>,\n",
       "       <email.message.EmailMessage object at 0x12e45e7d0>,\n",
       "       <email.message.EmailMessage object at 0x12e65cd50>,\n",
       "       <email.message.EmailMessage object at 0x12e042e90>,\n",
       "       <email.message.EmailMessage object at 0x12f0c4b50>,\n",
       "       <email.message.EmailMessage object at 0x12ef88ad0>,\n",
       "       <email.message.EmailMessage object at 0x12dc8f5d0>,\n",
       "       <email.message.EmailMessage object at 0x12de9bad0>,\n",
       "       <email.message.EmailMessage object at 0x12e477bd0>,\n",
       "       <email.message.EmailMessage object at 0x12ed4c750>,\n",
       "       <email.message.EmailMessage object at 0x12e948b10>,\n",
       "       <email.message.EmailMessage object at 0x12f2b7e10>,\n",
       "       <email.message.EmailMessage object at 0x12eff3ad0>,\n",
       "       <email.message.EmailMessage object at 0x12e80a4d0>,\n",
       "       <email.message.EmailMessage object at 0x12deac710>,\n",
       "       <email.message.EmailMessage object at 0x12e81a810>,\n",
       "       <email.message.EmailMessage object at 0x12e5a6950>,\n",
       "       <email.message.EmailMessage object at 0x12ebe3090>,\n",
       "       <email.message.EmailMessage object at 0x12e2e6f10>,\n",
       "       <email.message.EmailMessage object at 0x12f23c490>,\n",
       "       <email.message.EmailMessage object at 0x12de9fc90>,\n",
       "       <email.message.EmailMessage object at 0x12e33cfd0>,\n",
       "       <email.message.EmailMessage object at 0x12ed97350>,\n",
       "       <email.message.EmailMessage object at 0x12dee6550>,\n",
       "       <email.message.EmailMessage object at 0x12deacdd0>,\n",
       "       <email.message.EmailMessage object at 0x12e8ba190>,\n",
       "       <email.message.EmailMessage object at 0x12ddcb150>,\n",
       "       <email.message.EmailMessage object at 0x12d732f90>,\n",
       "       <email.message.EmailMessage object at 0x12df90610>,\n",
       "       <email.message.EmailMessage object at 0x12e2c7790>,\n",
       "       <email.message.EmailMessage object at 0x12eb596d0>,\n",
       "       <email.message.EmailMessage object at 0x12eaf0a10>,\n",
       "       <email.message.EmailMessage object at 0x12eea6210>,\n",
       "       <email.message.EmailMessage object at 0x12d0c8350>,\n",
       "       <email.message.EmailMessage object at 0x12efa0d90>,\n",
       "       <email.message.EmailMessage object at 0x12eb7f690>,\n",
       "       <email.message.EmailMessage object at 0x12e684b50>,\n",
       "       <email.message.EmailMessage object at 0x12ed74e10>,\n",
       "       <email.message.EmailMessage object at 0x12dddcb10>,\n",
       "       <email.message.EmailMessage object at 0x12ee9bc90>,\n",
       "       <email.message.EmailMessage object at 0x12dd6c0d0>,\n",
       "       <email.message.EmailMessage object at 0x12f2bea90>,\n",
       "       <email.message.EmailMessage object at 0x12e948b50>,\n",
       "       <email.message.EmailMessage object at 0x12e32a750>,\n",
       "       <email.message.EmailMessage object at 0x12f062090>,\n",
       "       <email.message.EmailMessage object at 0x12e59d910>,\n",
       "       <email.message.EmailMessage object at 0x12e2b4a90>,\n",
       "       <email.message.EmailMessage object at 0x12e197890>,\n",
       "       <email.message.EmailMessage object at 0x12e3dc910>,\n",
       "       <email.message.EmailMessage object at 0x12de65910>,\n",
       "       <email.message.EmailMessage object at 0x12dc9ea10>,\n",
       "       <email.message.EmailMessage object at 0x12e7a7e10>,\n",
       "       <email.message.EmailMessage object at 0x12e872450>,\n",
       "       <email.message.EmailMessage object at 0x12ea62910>,\n",
       "       <email.message.EmailMessage object at 0x12eb4ef90>,\n",
       "       <email.message.EmailMessage object at 0x12e0b3fd0>,\n",
       "       <email.message.EmailMessage object at 0x12ebecf10>,\n",
       "       <email.message.EmailMessage object at 0x12f048910>,\n",
       "       <email.message.EmailMessage object at 0x12f0b0ed0>,\n",
       "       <email.message.EmailMessage object at 0x12ecc0910>,\n",
       "       <email.message.EmailMessage object at 0x12dd09e50>,\n",
       "       <email.message.EmailMessage object at 0x12e24ee90>,\n",
       "       <email.message.EmailMessage object at 0x12ee4b450>,\n",
       "       <email.message.EmailMessage object at 0x12f0ab4d0>,\n",
       "       <email.message.EmailMessage object at 0x12ee10f90>,\n",
       "       <email.message.EmailMessage object at 0x12ef19c50>,\n",
       "       <email.message.EmailMessage object at 0x12ec75250>,\n",
       "       <email.message.EmailMessage object at 0x12ec62f50>,\n",
       "       <email.message.EmailMessage object at 0x12e3704d0>,\n",
       "       <email.message.EmailMessage object at 0x12ec5b5d0>,\n",
       "       <email.message.EmailMessage object at 0x12ed15f10>,\n",
       "       <email.message.EmailMessage object at 0x12dd5e910>,\n",
       "       <email.message.EmailMessage object at 0x12ef66950>,\n",
       "       <email.message.EmailMessage object at 0x12e8fff90>,\n",
       "       <email.message.EmailMessage object at 0x12ef0c890>,\n",
       "       <email.message.EmailMessage object at 0x12f29fbd0>,\n",
       "       <email.message.EmailMessage object at 0x12ded4e90>,\n",
       "       <email.message.EmailMessage object at 0x12e856ad0>,\n",
       "       <email.message.EmailMessage object at 0x12ee95fd0>,\n",
       "       <email.message.EmailMessage object at 0x12e86cc50>,\n",
       "       <email.message.EmailMessage object at 0x12ec0de90>,\n",
       "       <email.message.EmailMessage object at 0x12dfc6cd0>,\n",
       "       <email.message.EmailMessage object at 0x12f017e90>,\n",
       "       <email.message.EmailMessage object at 0x12ee2a650>,\n",
       "       <email.message.EmailMessage object at 0x12dd96d50>,\n",
       "       <email.message.EmailMessage object at 0x12ec00210>,\n",
       "       <email.message.EmailMessage object at 0x12edb21d0>,\n",
       "       <email.message.EmailMessage object at 0x12d59a350>,\n",
       "       <email.message.EmailMessage object at 0x12e235a50>,\n",
       "       <email.message.EmailMessage object at 0x12eb86fd0>,\n",
       "       <email.message.EmailMessage object at 0x12e7ec7d0>,\n",
       "       <email.message.EmailMessage object at 0x12e40ad90>,\n",
       "       <email.message.EmailMessage object at 0x12ecefd90>,\n",
       "       <email.message.EmailMessage object at 0x12def8e50>,\n",
       "       <email.message.EmailMessage object at 0x12dcfabd0>,\n",
       "       <email.message.EmailMessage object at 0x12ebd6410>,\n",
       "       <email.message.EmailMessage object at 0x12f345110>,\n",
       "       <email.message.EmailMessage object at 0x12e091d10>,\n",
       "       <email.message.EmailMessage object at 0x12f2c0e50>,\n",
       "       <email.message.EmailMessage object at 0x12ed3f190>,\n",
       "       <email.message.EmailMessage object at 0x12e076c90>,\n",
       "       <email.message.EmailMessage object at 0x12ed8eb90>,\n",
       "       <email.message.EmailMessage object at 0x12dbc5690>,\n",
       "       <email.message.EmailMessage object at 0x12ded0f10>,\n",
       "       <email.message.EmailMessage object at 0x12e872390>,\n",
       "       <email.message.EmailMessage object at 0x12ecd5fd0>,\n",
       "       <email.message.EmailMessage object at 0x12f321590>,\n",
       "       <email.message.EmailMessage object at 0x12e8e1e50>,\n",
       "       <email.message.EmailMessage object at 0x12e303d10>,\n",
       "       <email.message.EmailMessage object at 0x12ec209d0>,\n",
       "       <email.message.EmailMessage object at 0x12e7bd910>,\n",
       "       <email.message.EmailMessage object at 0x12edb1f10>,\n",
       "       <email.message.EmailMessage object at 0x12ed07f50>,\n",
       "       <email.message.EmailMessage object at 0x12e42bb50>,\n",
       "       <email.message.EmailMessage object at 0x12e31ced0>,\n",
       "       <email.message.EmailMessage object at 0x12e4a4390>,\n",
       "       <email.message.EmailMessage object at 0x12ee79d90>,\n",
       "       <email.message.EmailMessage object at 0x12e9691d0>,\n",
       "       <email.message.EmailMessage object at 0x12ec49c10>,\n",
       "       <email.message.EmailMessage object at 0x12ec3ec90>,\n",
       "       <email.message.EmailMessage object at 0x12e4a48d0>,\n",
       "       <email.message.EmailMessage object at 0x12dff1fd0>,\n",
       "       <email.message.EmailMessage object at 0x12ddc4c90>,\n",
       "       <email.message.EmailMessage object at 0x12ec133d0>,\n",
       "       <email.message.EmailMessage object at 0x12e63dad0>,\n",
       "       <email.message.EmailMessage object at 0x12ee5a250>,\n",
       "       <email.message.EmailMessage object at 0x12ef6b5d0>,\n",
       "       <email.message.EmailMessage object at 0x12e86c1d0>,\n",
       "       <email.message.EmailMessage object at 0x12ee47c50>,\n",
       "       <email.message.EmailMessage object at 0x12f11a9d0>,\n",
       "       <email.message.EmailMessage object at 0x12ede5b90>,\n",
       "       <email.message.EmailMessage object at 0x12e0137d0>,\n",
       "       <email.message.EmailMessage object at 0x12eda9fd0>,\n",
       "       <email.message.EmailMessage object at 0x12ee6fe90>,\n",
       "       <email.message.EmailMessage object at 0x12ed19f10>,\n",
       "       <email.message.EmailMessage object at 0x12de71e10>,\n",
       "       <email.message.EmailMessage object at 0x12ec72cd0>,\n",
       "       <email.message.EmailMessage object at 0x12f2f1110>,\n",
       "       <email.message.EmailMessage object at 0x12e55d550>,\n",
       "       <email.message.EmailMessage object at 0x12edae690>,\n",
       "       <email.message.EmailMessage object at 0x12d6b0b50>,\n",
       "       <email.message.EmailMessage object at 0x12ec8cb10>,\n",
       "       <email.message.EmailMessage object at 0x12dda8410>,\n",
       "       <email.message.EmailMessage object at 0x12f0bb590>,\n",
       "       <email.message.EmailMessage object at 0x12eba5f10>,\n",
       "       <email.message.EmailMessage object at 0x12f0f4a50>,\n",
       "       <email.message.EmailMessage object at 0x12ebf4310>,\n",
       "       <email.message.EmailMessage object at 0x12ec8eb90>,\n",
       "       <email.message.EmailMessage object at 0x12de3b1d0>,\n",
       "       <email.message.EmailMessage object at 0x12e100f50>,\n",
       "       <email.message.EmailMessage object at 0x12ec0d7d0>,\n",
       "       <email.message.EmailMessage object at 0x12e942cd0>,\n",
       "       <email.message.EmailMessage object at 0x12dc99f50>,\n",
       "       <email.message.EmailMessage object at 0x12f0078d0>,\n",
       "       <email.message.EmailMessage object at 0x12ee202d0>,\n",
       "       <email.message.EmailMessage object at 0x12e0cb350>,\n",
       "       <email.message.EmailMessage object at 0x12f299850>,\n",
       "       <email.message.EmailMessage object at 0x12f087fd0>,\n",
       "       <email.message.EmailMessage object at 0x12ea90190>,\n",
       "       <email.message.EmailMessage object at 0x12e300a90>,\n",
       "       <email.message.EmailMessage object at 0x12f0c1a50>,\n",
       "       <email.message.EmailMessage object at 0x12e7dda50>,\n",
       "       <email.message.EmailMessage object at 0x12edf51d0>,\n",
       "       <email.message.EmailMessage object at 0x12ec35d90>,\n",
       "       <email.message.EmailMessage object at 0x12e0d2cd0>,\n",
       "       <email.message.EmailMessage object at 0x12ec0d390>,\n",
       "       <email.message.EmailMessage object at 0x12e01c710>,\n",
       "       <email.message.EmailMessage object at 0x12f05e150>,\n",
       "       <email.message.EmailMessage object at 0x12ec72d10>,\n",
       "       <email.message.EmailMessage object at 0x12f24afd0>,\n",
       "       <email.message.EmailMessage object at 0x12dd3a2d0>,\n",
       "       <email.message.EmailMessage object at 0x12dd99250>,\n",
       "       <email.message.EmailMessage object at 0x12ddc6f90>,\n",
       "       <email.message.EmailMessage object at 0x12ee33790>,\n",
       "       <email.message.EmailMessage object at 0x12e9d9e90>,\n",
       "       <email.message.EmailMessage object at 0x12ebecad0>,\n",
       "       <email.message.EmailMessage object at 0x12e2e28d0>,\n",
       "       <email.message.EmailMessage object at 0x12e5fc290>,\n",
       "       <email.message.EmailMessage object at 0x12eceff50>,\n",
       "       <email.message.EmailMessage object at 0x12e04d1d0>,\n",
       "       <email.message.EmailMessage object at 0x12e5e6f10>,\n",
       "       <email.message.EmailMessage object at 0x12eff3150>,\n",
       "       <email.message.EmailMessage object at 0x12df4b310>,\n",
       "       <email.message.EmailMessage object at 0x12ef66610>,\n",
       "       <email.message.EmailMessage object at 0x12e3e2910>,\n",
       "       <email.message.EmailMessage object at 0x12de51f50>,\n",
       "       <email.message.EmailMessage object at 0x12e7f8e50>,\n",
       "       <email.message.EmailMessage object at 0x12ed07fd0>,\n",
       "       <email.message.EmailMessage object at 0x12ddeccd0>,\n",
       "       <email.message.EmailMessage object at 0x12f068810>,\n",
       "       <email.message.EmailMessage object at 0x12ecddc10>,\n",
       "       <email.message.EmailMessage object at 0x12e942bd0>,\n",
       "       <email.message.EmailMessage object at 0x12ed9e890>,\n",
       "       <email.message.EmailMessage object at 0x12ed9ee90>,\n",
       "       <email.message.EmailMessage object at 0x12e11e390>,\n",
       "       <email.message.EmailMessage object at 0x12eddb0d0>,\n",
       "       <email.message.EmailMessage object at 0x12ed68790>,\n",
       "       <email.message.EmailMessage object at 0x12ebe5f10>,\n",
       "       <email.message.EmailMessage object at 0x12e85f4d0>,\n",
       "       <email.message.EmailMessage object at 0x12ed7ef90>,\n",
       "       <email.message.EmailMessage object at 0x12e37a2d0>,\n",
       "       <email.message.EmailMessage object at 0x12dcdfcd0>,\n",
       "       <email.message.EmailMessage object at 0x12dc7ba10>,\n",
       "       <email.message.EmailMessage object at 0x12dfbea90>,\n",
       "       <email.message.EmailMessage object at 0x12ec44690>,\n",
       "       <email.message.EmailMessage object at 0x12ede2a90>,\n",
       "       <email.message.EmailMessage object at 0x12e8eb850>,\n",
       "       <email.message.EmailMessage object at 0x12eb2bf90>,\n",
       "       <email.message.EmailMessage object at 0x12e342f90>,\n",
       "       <email.message.EmailMessage object at 0x12f3475d0>,\n",
       "       <email.message.EmailMessage object at 0x12e9c57d0>,\n",
       "       <email.message.EmailMessage object at 0x12e0251d0>,\n",
       "       <email.message.EmailMessage object at 0x12dd57a50>,\n",
       "       <email.message.EmailMessage object at 0x12edece50>,\n",
       "       <email.message.EmailMessage object at 0x12e5dd990>,\n",
       "       <email.message.EmailMessage object at 0x12dcf1510>,\n",
       "       <email.message.EmailMessage object at 0x12ea00710>,\n",
       "       <email.message.EmailMessage object at 0x12ec62fd0>,\n",
       "       <email.message.EmailMessage object at 0x12efa8dd0>,\n",
       "       <email.message.EmailMessage object at 0x12de49790>,\n",
       "       <email.message.EmailMessage object at 0x12e183dd0>,\n",
       "       <email.message.EmailMessage object at 0x12e61a310>,\n",
       "       <email.message.EmailMessage object at 0x12e11b910>,\n",
       "       <email.message.EmailMessage object at 0x12ec05090>,\n",
       "       <email.message.EmailMessage object at 0x12ef7be10>,\n",
       "       <email.message.EmailMessage object at 0x12e400110>,\n",
       "       <email.message.EmailMessage object at 0x12eefdc50>,\n",
       "       <email.message.EmailMessage object at 0x12e3a5dd0>,\n",
       "       <email.message.EmailMessage object at 0x12ed23550>,\n",
       "       <email.message.EmailMessage object at 0x12ec8ce10>,\n",
       "       <email.message.EmailMessage object at 0x12dd57f10>,\n",
       "       <email.message.EmailMessage object at 0x12dffdd50>,\n",
       "       <email.message.EmailMessage object at 0x12e77cad0>,\n",
       "       <email.message.EmailMessage object at 0x12e066110>,\n",
       "       <email.message.EmailMessage object at 0x12e42bb10>,\n",
       "       <email.message.EmailMessage object at 0x12efa0810>,\n",
       "       <email.message.EmailMessage object at 0x12e679e50>,\n",
       "       <email.message.EmailMessage object at 0x12e8afd10>,\n",
       "       <email.message.EmailMessage object at 0x12dd7e0d0>,\n",
       "       <email.message.EmailMessage object at 0x12e693090>,\n",
       "       <email.message.EmailMessage object at 0x12f087b10>,\n",
       "       <email.message.EmailMessage object at 0x12f232a90>,\n",
       "       <email.message.EmailMessage object at 0x12ecefad0>,\n",
       "       <email.message.EmailMessage object at 0x12f05ef90>,\n",
       "       <email.message.EmailMessage object at 0x12ed6e2d0>,\n",
       "       <email.message.EmailMessage object at 0x12eda5910>,\n",
       "       <email.message.EmailMessage object at 0x12eb09dd0>,\n",
       "       <email.message.EmailMessage object at 0x12ebe3dd0>,\n",
       "       <email.message.EmailMessage object at 0x12dd99310>,\n",
       "       <email.message.EmailMessage object at 0x12e668b50>,\n",
       "       <email.message.EmailMessage object at 0x12e175a90>,\n",
       "       <email.message.EmailMessage object at 0x12edc6f10>,\n",
       "       <email.message.EmailMessage object at 0x12ef6abd0>,\n",
       "       <email.message.EmailMessage object at 0x12f048d10>,\n",
       "       <email.message.EmailMessage object at 0x12f10d990>,\n",
       "       <email.message.EmailMessage object at 0x12e055090>,\n",
       "       <email.message.EmailMessage object at 0x12ecf3350>,\n",
       "       <email.message.EmailMessage object at 0x12e63aa50>,\n",
       "       <email.message.EmailMessage object at 0x12ee12c90>,\n",
       "       <email.message.EmailMessage object at 0x12e0d2290>,\n",
       "       <email.message.EmailMessage object at 0x12e6af750>,\n",
       "       <email.message.EmailMessage object at 0x12e6af7d0>,\n",
       "       <email.message.EmailMessage object at 0x12f2e0690>,\n",
       "       <email.message.EmailMessage object at 0x12e6d27d0>,\n",
       "       <email.message.EmailMessage object at 0x12e4c7450>,\n",
       "       <email.message.EmailMessage object at 0x12dd86d10>,\n",
       "       <email.message.EmailMessage object at 0x12eaff0d0>,\n",
       "       <email.message.EmailMessage object at 0x12e52d710>,\n",
       "       <email.message.EmailMessage object at 0x12e042590>,\n",
       "       <email.message.EmailMessage object at 0x12e3e2e10>,\n",
       "       <email.message.EmailMessage object at 0x12e599350>,\n",
       "       <email.message.EmailMessage object at 0x12ecb3190>,\n",
       "       <email.message.EmailMessage object at 0x12dc776d0>,\n",
       "       <email.message.EmailMessage object at 0x12f2ac810>,\n",
       "       <email.message.EmailMessage object at 0x12dfd3fd0>,\n",
       "       <email.message.EmailMessage object at 0x12e09b7d0>,\n",
       "       <email.message.EmailMessage object at 0x12f0f4bd0>,\n",
       "       <email.message.EmailMessage object at 0x12f0d14d0>,\n",
       "       <email.message.EmailMessage object at 0x12e99a2d0>,\n",
       "       <email.message.EmailMessage object at 0x12eb59710>,\n",
       "       <email.message.EmailMessage object at 0x12eccabd0>,\n",
       "       <email.message.EmailMessage object at 0x12ef33e50>,\n",
       "       <email.message.EmailMessage object at 0x12e346e10>,\n",
       "       <email.message.EmailMessage object at 0x12f02ca90>,\n",
       "       <email.message.EmailMessage object at 0x12ef6ae90>,\n",
       "       <email.message.EmailMessage object at 0x12dfa8550>,\n",
       "       <email.message.EmailMessage object at 0x12dfea6d0>,\n",
       "       <email.message.EmailMessage object at 0x12e73e950>,\n",
       "       <email.message.EmailMessage object at 0x12dcc8cd0>,\n",
       "       <email.message.EmailMessage object at 0x12ead5250>,\n",
       "       <email.message.EmailMessage object at 0x12f080490>,\n",
       "       <email.message.EmailMessage object at 0x12e19c350>,\n",
       "       <email.message.EmailMessage object at 0x12e9eaad0>,\n",
       "       <email.message.EmailMessage object at 0x12eb14210>,\n",
       "       <email.message.EmailMessage object at 0x12eb25650>,\n",
       "       <email.message.EmailMessage object at 0x12deeb790>,\n",
       "       <email.message.EmailMessage object at 0x12def8890>,\n",
       "       <email.message.EmailMessage object at 0x12e995410>,\n",
       "       <email.message.EmailMessage object at 0x12e1dfc50>,\n",
       "       <email.message.EmailMessage object at 0x12ededf10>,\n",
       "       <email.message.EmailMessage object at 0x12eac8b50>,\n",
       "       <email.message.EmailMessage object at 0x12eda9f50>,\n",
       "       <email.message.EmailMessage object at 0x12e0e8190>,\n",
       "       <email.message.EmailMessage object at 0x12f304790>,\n",
       "       <email.message.EmailMessage object at 0x12ec59450>,\n",
       "       <email.message.EmailMessage object at 0x12ebb7c90>,\n",
       "       <email.message.EmailMessage object at 0x12e786150>,\n",
       "       <email.message.EmailMessage object at 0x12e226fd0>,\n",
       "       <email.message.EmailMessage object at 0x12ed68fd0>,\n",
       "       <email.message.EmailMessage object at 0x12ed2dfd0>,\n",
       "       <email.message.EmailMessage object at 0x12ebe0050>,\n",
       "       <email.message.EmailMessage object at 0x12ebd2b10>,\n",
       "       <email.message.EmailMessage object at 0x12de21e50>,\n",
       "       <email.message.EmailMessage object at 0x12ed85750>,\n",
       "       <email.message.EmailMessage object at 0x12f007790>,\n",
       "       <email.message.EmailMessage object at 0x12ee2a350>,\n",
       "       <email.message.EmailMessage object at 0x12e31cf10>,\n",
       "       <email.message.EmailMessage object at 0x12e6ebd50>,\n",
       "       <email.message.EmailMessage object at 0x12eca5ad0>,\n",
       "       <email.message.EmailMessage object at 0x12e6cbf50>,\n",
       "       <email.message.EmailMessage object at 0x12e68ff90>,\n",
       "       <email.message.EmailMessage object at 0x12f232ed0>,\n",
       "       <email.message.EmailMessage object at 0x12ee44e10>,\n",
       "       <email.message.EmailMessage object at 0x12e942910>,\n",
       "       <email.message.EmailMessage object at 0x12ee43310>,\n",
       "       <email.message.EmailMessage object at 0x12e9bb4d0>,\n",
       "       <email.message.EmailMessage object at 0x12ef6bed0>,\n",
       "       <email.message.EmailMessage object at 0x12d732d50>,\n",
       "       <email.message.EmailMessage object at 0x12e6b4b10>,\n",
       "       <email.message.EmailMessage object at 0x12efe3b50>,\n",
       "       <email.message.EmailMessage object at 0x12e103f10>,\n",
       "       <email.message.EmailMessage object at 0x12ea55ed0>,\n",
       "       <email.message.EmailMessage object at 0x12f087ed0>,\n",
       "       <email.message.EmailMessage object at 0x12e16ded0>,\n",
       "       <email.message.EmailMessage object at 0x12eb04090>,\n",
       "       <email.message.EmailMessage object at 0x12dfbb890>,\n",
       "       <email.message.EmailMessage object at 0x12e6365d0>,\n",
       "       <email.message.EmailMessage object at 0x12ef05550>,\n",
       "       <email.message.EmailMessage object at 0x12dd1a9d0>,\n",
       "       <email.message.EmailMessage object at 0x12ed2d910>,\n",
       "       <email.message.EmailMessage object at 0x12f08c590>,\n",
       "       <email.message.EmailMessage object at 0x12dedb950>,\n",
       "       <email.message.EmailMessage object at 0x12f092750>,\n",
       "       <email.message.EmailMessage object at 0x12e3da910>,\n",
       "       <email.message.EmailMessage object at 0x12f304e90>,\n",
       "       <email.message.EmailMessage object at 0x12e92c410>,\n",
       "       <email.message.EmailMessage object at 0x12f19be90>,\n",
       "       <email.message.EmailMessage object at 0x12ee6ae10>,\n",
       "       <email.message.EmailMessage object at 0x12ec9cd90>,\n",
       "       <email.message.EmailMessage object at 0x12e22b850>,\n",
       "       <email.message.EmailMessage object at 0x12e2bd890>,\n",
       "       <email.message.EmailMessage object at 0x12e35de90>,\n",
       "       <email.message.EmailMessage object at 0x12ec4ebd0>,\n",
       "       <email.message.EmailMessage object at 0x12e925d50>,\n",
       "       <email.message.EmailMessage object at 0x12ec98250>,\n",
       "       <email.message.EmailMessage object at 0x12ed4fe50>,\n",
       "       <email.message.EmailMessage object at 0x12dfe6510>,\n",
       "       <email.message.EmailMessage object at 0x12e116a50>,\n",
       "       <email.message.EmailMessage object at 0x12ec0d990>,\n",
       "       <email.message.EmailMessage object at 0x12ec28450>,\n",
       "       <email.message.EmailMessage object at 0x12dcc8b90>,\n",
       "       <email.message.EmailMessage object at 0x12ec315d0>,\n",
       "       <email.message.EmailMessage object at 0x12e8085d0>,\n",
       "       <email.message.EmailMessage object at 0x12ea9eb10>,\n",
       "       <email.message.EmailMessage object at 0x12d73f1d0>,\n",
       "       <email.message.EmailMessage object at 0x12eb7ff90>,\n",
       "       <email.message.EmailMessage object at 0x12e1dd4d0>,\n",
       "       <email.message.EmailMessage object at 0x12edb2550>,\n",
       "       <email.message.EmailMessage object at 0x12e453fd0>,\n",
       "       <email.message.EmailMessage object at 0x12e33cf90>,\n",
       "       <email.message.EmailMessage object at 0x12dec72d0>,\n",
       "       <email.message.EmailMessage object at 0x12ee91d90>,\n",
       "       <email.message.EmailMessage object at 0x12ec09710>,\n",
       "       <email.message.EmailMessage object at 0x12e470e90>,\n",
       "       <email.message.EmailMessage object at 0x12e17be50>,\n",
       "       <email.message.EmailMessage object at 0x12e786c50>,\n",
       "       <email.message.EmailMessage object at 0x12ee2d9d0>,\n",
       "       <email.message.EmailMessage object at 0x12ec09250>,\n",
       "       <email.message.EmailMessage object at 0x12e75c290>,\n",
       "       <email.message.EmailMessage object at 0x12ea9e590>,\n",
       "       <email.message.EmailMessage object at 0x12ed68f90>,\n",
       "       <email.message.EmailMessage object at 0x12eb44d90>,\n",
       "       <email.message.EmailMessage object at 0x12e128d50>,\n",
       "       <email.message.EmailMessage object at 0x12e0f2c50>,\n",
       "       <email.message.EmailMessage object at 0x12e4bebd0>,\n",
       "       <email.message.EmailMessage object at 0x12f34b850>,\n",
       "       <email.message.EmailMessage object at 0x12e423d10>,\n",
       "       <email.message.EmailMessage object at 0x12f342850>,\n",
       "       <email.message.EmailMessage object at 0x12eb32c50>,\n",
       "       <email.message.EmailMessage object at 0x12f048b90>,\n",
       "       <email.message.EmailMessage object at 0x12f011550>,\n",
       "       <email.message.EmailMessage object at 0x12eb04150>,\n",
       "       <email.message.EmailMessage object at 0x12dd2ea10>,\n",
       "       <email.message.EmailMessage object at 0x12f040b90>,\n",
       "       <email.message.EmailMessage object at 0x12e38f090>,\n",
       "       <email.message.EmailMessage object at 0x12edc6350>,\n",
       "       <email.message.EmailMessage object at 0x12ebb11d0>,\n",
       "       <email.message.EmailMessage object at 0x12ded0650>,\n",
       "       <email.message.EmailMessage object at 0x12eb1e950>,\n",
       "       <email.message.EmailMessage object at 0x12ddece10>,\n",
       "       <email.message.EmailMessage object at 0x12e091cd0>,\n",
       "       <email.message.EmailMessage object at 0x12e909c50>,\n",
       "       <email.message.EmailMessage object at 0x12e982110>,\n",
       "       <email.message.EmailMessage object at 0x12dd225d0>,\n",
       "       <email.message.EmailMessage object at 0x12eb48690>,\n",
       "       <email.message.EmailMessage object at 0x12dfbb9d0>,\n",
       "       <email.message.EmailMessage object at 0x12ddefe50>,\n",
       "       <email.message.EmailMessage object at 0x12ed6c750>,\n",
       "       <email.message.EmailMessage object at 0x12e8c9ad0>,\n",
       "       <email.message.EmailMessage object at 0x12e6753d0>,\n",
       "       <email.message.EmailMessage object at 0x12e30ce90>,\n",
       "       <email.message.EmailMessage object at 0x12e47f1d0>,\n",
       "       <email.message.EmailMessage object at 0x12e38f1d0>,\n",
       "       <email.message.EmailMessage object at 0x12dff5e90>,\n",
       "       <email.message.EmailMessage object at 0x12e0e8490>,\n",
       "       <email.message.EmailMessage object at 0x12e05a550>,\n",
       "       <email.message.EmailMessage object at 0x12eefd8d0>,\n",
       "       <email.message.EmailMessage object at 0x12df785d0>,\n",
       "       <email.message.EmailMessage object at 0x12f2d1c50>,\n",
       "       <email.message.EmailMessage object at 0x12e7aba50>,\n",
       "       <email.message.EmailMessage object at 0x12e80e8d0>,\n",
       "       <email.message.EmailMessage object at 0x12e7dd090>,\n",
       "       <email.message.EmailMessage object at 0x12e872350>,\n",
       "       <email.message.EmailMessage object at 0x12ecd5f10>,\n",
       "       <email.message.EmailMessage object at 0x12ee2fb10>,\n",
       "       <email.message.EmailMessage object at 0x12e4a7910>,\n",
       "       <email.message.EmailMessage object at 0x12dd4fa50>,\n",
       "       <email.message.EmailMessage object at 0x12ec28c90>,\n",
       "       <email.message.EmailMessage object at 0x12edaed10>,\n",
       "       <email.message.EmailMessage object at 0x12ea86cd0>,\n",
       "       <email.message.EmailMessage object at 0x12ee00b10>,\n",
       "       <email.message.EmailMessage object at 0x12df45710>,\n",
       "       <email.message.EmailMessage object at 0x12ed2d550>,\n",
       "       <email.message.EmailMessage object at 0x12f2b7410>,\n",
       "       <email.message.EmailMessage object at 0x12dc77590>,\n",
       "       <email.message.EmailMessage object at 0x12ef31e90>,\n",
       "       <email.message.EmailMessage object at 0x12f3212d0>,\n",
       "       <email.message.EmailMessage object at 0x12e612f50>,\n",
       "       <email.message.EmailMessage object at 0x12f2a1550>,\n",
       "       <email.message.EmailMessage object at 0x12e9d1250>,\n",
       "       <email.message.EmailMessage object at 0x12ea73850>,\n",
       "       <email.message.EmailMessage object at 0x12dd99c10>,\n",
       "       <email.message.EmailMessage object at 0x12e6eb8d0>,\n",
       "       <email.message.EmailMessage object at 0x12ddb9750>,\n",
       "       <email.message.EmailMessage object at 0x12dfce810>,\n",
       "       <email.message.EmailMessage object at 0x12dd96490>,\n",
       "       <email.message.EmailMessage object at 0x12e96ff10>,\n",
       "       <email.message.EmailMessage object at 0x12e028f10>,\n",
       "       <email.message.EmailMessage object at 0x12dc8f190>,\n",
       "       <email.message.EmailMessage object at 0x12dce9f90>,\n",
       "       <email.message.EmailMessage object at 0x12e8e6890>,\n",
       "       <email.message.EmailMessage object at 0x12ec099d0>,\n",
       "       <email.message.EmailMessage object at 0x12e290b90>,\n",
       "       <email.message.EmailMessage object at 0x12e468ad0>,\n",
       "       <email.message.EmailMessage object at 0x12c441e10>,\n",
       "       <email.message.EmailMessage object at 0x12eee4c10>,\n",
       "       <email.message.EmailMessage object at 0x12e248dd0>,\n",
       "       <email.message.EmailMessage object at 0x12ed60e10>,\n",
       "       <email.message.EmailMessage object at 0x12ed4f290>,\n",
       "       <email.message.EmailMessage object at 0x12de4b8d0>,\n",
       "       <email.message.EmailMessage object at 0x12f030710>,\n",
       "       <email.message.EmailMessage object at 0x12efe3e10>,\n",
       "       <email.message.EmailMessage object at 0x12eebee10>,\n",
       "       <email.message.EmailMessage object at 0x12f2a1ad0>,\n",
       "       <email.message.EmailMessage object at 0x12e7ec710>,\n",
       "       <email.message.EmailMessage object at 0x12e60ab10>,\n",
       "       <email.message.EmailMessage object at 0x12eed6f90>,\n",
       "       <email.message.EmailMessage object at 0x12dd62b50>,\n",
       "       <email.message.EmailMessage object at 0x12ec05d10>,\n",
       "       <email.message.EmailMessage object at 0x12ee66410>,\n",
       "       <email.message.EmailMessage object at 0x12ee82bd0>,\n",
       "       <email.message.EmailMessage object at 0x12eeaab50>,\n",
       "       <email.message.EmailMessage object at 0x12ed6c0d0>,\n",
       "       <email.message.EmailMessage object at 0x12ee9b990>,\n",
       "       <email.message.EmailMessage object at 0x12dd52450>,\n",
       "       <email.message.EmailMessage object at 0x12f2e7a50>,\n",
       "       <email.message.EmailMessage object at 0x12e3c0d90>,\n",
       "       <email.message.EmailMessage object at 0x12ec42590>,\n",
       "       <email.message.EmailMessage object at 0x12f2e7ed0>,\n",
       "       <email.message.EmailMessage object at 0x12f334f50>,\n",
       "       <email.message.EmailMessage object at 0x12ecac190>,\n",
       "       <email.message.EmailMessage object at 0x12e3f9790>,\n",
       "       <email.message.EmailMessage object at 0x12e0c3a10>,\n",
       "       <email.message.EmailMessage object at 0x12eddecd0>,\n",
       "       <email.message.EmailMessage object at 0x12dfce890>,\n",
       "       <email.message.EmailMessage object at 0x12f0bbcd0>,\n",
       "       <email.message.EmailMessage object at 0x12ec0e790>,\n",
       "       <email.message.EmailMessage object at 0x12e193450>,\n",
       "       <email.message.EmailMessage object at 0x12e50b5d0>,\n",
       "       <email.message.EmailMessage object at 0x12f18e0d0>,\n",
       "       <email.message.EmailMessage object at 0x12de01890>,\n",
       "       <email.message.EmailMessage object at 0x12ecc3750>,\n",
       "       <email.message.EmailMessage object at 0x12ee95710>,\n",
       "       <email.message.EmailMessage object at 0x12e5eced0>,\n",
       "       <email.message.EmailMessage object at 0x12f034890>,\n",
       "       <email.message.EmailMessage object at 0x12e4a7f90>,\n",
       "       <email.message.EmailMessage object at 0x12ef8d910>,\n",
       "       <email.message.EmailMessage object at 0x12dd9d7d0>,\n",
       "       <email.message.EmailMessage object at 0x12e116fd0>,\n",
       "       <email.message.EmailMessage object at 0x12ece9fd0>,\n",
       "       <email.message.EmailMessage object at 0x12e399e10>,\n",
       "       <email.message.EmailMessage object at 0x12f06d490>,\n",
       "       <email.message.EmailMessage object at 0x12e51ad10>,\n",
       "       <email.message.EmailMessage object at 0x12e0b3cd0>,\n",
       "       <email.message.EmailMessage object at 0x12e9bb350>,\n",
       "       <email.message.EmailMessage object at 0x12eb96650>,\n",
       "       <email.message.EmailMessage object at 0x12de658d0>,\n",
       "       <email.message.EmailMessage object at 0x12e49bdd0>,\n",
       "       <email.message.EmailMessage object at 0x12ec09690>,\n",
       "       <email.message.EmailMessage object at 0x12e3e5cd0>,\n",
       "       <email.message.EmailMessage object at 0x12e510110>,\n",
       "       <email.message.EmailMessage object at 0x12ebb1c10>,\n",
       "       <email.message.EmailMessage object at 0x12f355b10>,\n",
       "       <email.message.EmailMessage object at 0x12ee3cfd0>,\n",
       "       <email.message.EmailMessage object at 0x12ecb5e10>,\n",
       "       <email.message.EmailMessage object at 0x12efe7050>,\n",
       "       <email.message.EmailMessage object at 0x12ed23750>,\n",
       "       <email.message.EmailMessage object at 0x12e6a4a10>,\n",
       "       <email.message.EmailMessage object at 0x12e8a3f90>,\n",
       "       <email.message.EmailMessage object at 0x12f298410>,\n",
       "       <email.message.EmailMessage object at 0x12dd8e890>,\n",
       "       <email.message.EmailMessage object at 0x12ee79d50>,\n",
       "       <email.message.EmailMessage object at 0x12ea41850>,\n",
       "       <email.message.EmailMessage object at 0x12f0e1d50>,\n",
       "       <email.message.EmailMessage object at 0x12e9a7750>,\n",
       "       <email.message.EmailMessage object at 0x12e8086d0>,\n",
       "       <email.message.EmailMessage object at 0x12eded710>,\n",
       "       <email.message.EmailMessage object at 0x12ec05a10>,\n",
       "       <email.message.EmailMessage object at 0x12df4b6d0>,\n",
       "       <email.message.EmailMessage object at 0x12ee16990>,\n",
       "       <email.message.EmailMessage object at 0x12e3f9f50>,\n",
       "       <email.message.EmailMessage object at 0x12e8c2310>,\n",
       "       <email.message.EmailMessage object at 0x12df23210>,\n",
       "       <email.message.EmailMessage object at 0x12ee82f10>,\n",
       "       <email.message.EmailMessage object at 0x12ef42cd0>,\n",
       "       <email.message.EmailMessage object at 0x12e558750>,\n",
       "       <email.message.EmailMessage object at 0x12ec77150>,\n",
       "       <email.message.EmailMessage object at 0x12ee6fcd0>,\n",
       "       <email.message.EmailMessage object at 0x12e07f590>,\n",
       "       <email.message.EmailMessage object at 0x12ebc5710>,\n",
       "       <email.message.EmailMessage object at 0x12dde7dd0>,\n",
       "       <email.message.EmailMessage object at 0x12eefdbd0>,\n",
       "       <email.message.EmailMessage object at 0x12e17b510>,\n",
       "       <email.message.EmailMessage object at 0x12de0aa50>,\n",
       "       <email.message.EmailMessage object at 0x12df409d0>,\n",
       "       <email.message.EmailMessage object at 0x12e137e50>,\n",
       "       <email.message.EmailMessage object at 0x12f238f10>,\n",
       "       <email.message.EmailMessage object at 0x12edb2b50>,\n",
       "       <email.message.EmailMessage object at 0x12ed20f50>,\n",
       "       <email.message.EmailMessage object at 0x12e407310>,\n",
       "       <email.message.EmailMessage object at 0x12dfaff90>,\n",
       "       <email.message.EmailMessage object at 0x12ecc0290>,\n",
       "       <email.message.EmailMessage object at 0x12eb96850>,\n",
       "       <email.message.EmailMessage object at 0x12e2269d0>,\n",
       "       <email.message.EmailMessage object at 0x12e85fa50>,\n",
       "       <email.message.EmailMessage object at 0x12ee94ed0>,\n",
       "       <email.message.EmailMessage object at 0x12e245ad0>,\n",
       "       <email.message.EmailMessage object at 0x12dc33550>,\n",
       "       <email.message.EmailMessage object at 0x12f254950>,\n",
       "       <email.message.EmailMessage object at 0x12e7caf50>,\n",
       "       <email.message.EmailMessage object at 0x12eded850>,\n",
       "       <email.message.EmailMessage object at 0x12dfc0f10>,\n",
       "       <email.message.EmailMessage object at 0x12e209c50>,\n",
       "       <email.message.EmailMessage object at 0x12e398c50>,\n",
       "       <email.message.EmailMessage object at 0x12e682a50>,\n",
       "       <email.message.EmailMessage object at 0x12ddc6fd0>,\n",
       "       <email.message.EmailMessage object at 0x12de91410>,\n",
       "       <email.message.EmailMessage object at 0x12de0c350>,\n",
       "       <email.message.EmailMessage object at 0x12f0b5910>,\n",
       "       <email.message.EmailMessage object at 0x12f24d0d0>,\n",
       "       <email.message.EmailMessage object at 0x12d6b0ed0>,\n",
       "       <email.message.EmailMessage object at 0x12eb649d0>,\n",
       "       <email.message.EmailMessage object at 0x12efa0a10>,\n",
       "       <email.message.EmailMessage object at 0x12eb89ed0>,\n",
       "       <email.message.EmailMessage object at 0x12e223a90>,\n",
       "       <email.message.EmailMessage object at 0x12ec8ecd0>,\n",
       "       <email.message.EmailMessage object at 0x12f0eb890>,\n",
       "       <email.message.EmailMessage object at 0x12f238750>,\n",
       "       <email.message.EmailMessage object at 0x12efe1290>,\n",
       "       <email.message.EmailMessage object at 0x12e9a7fd0>,\n",
       "       <email.message.EmailMessage object at 0x12e95fb90>,\n",
       "       <email.message.EmailMessage object at 0x12dbfd450>,\n",
       "       <email.message.EmailMessage object at 0x12ed60450>,\n",
       "       <email.message.EmailMessage object at 0x12e1798d0>,\n",
       "       <email.message.EmailMessage object at 0x12ec0ee50>,\n",
       "       <email.message.EmailMessage object at 0x12e8ee910>], dtype=object)"
      ]
     },
     "execution_count": 18,
     "metadata": {},
     "output_type": "execute_result"
    }
   ],
   "source": [
    "X_test"
   ]
  },
  {
   "cell_type": "markdown",
   "metadata": {},
   "source": [
    "Okay, let's start writing the preprocessing functions. First, we will need a function to convert HTML to plain text. Arguably the best way to do this would be to use the great BeautifulSoup library, but I would like to avoid adding another dependency to this project, so let's hack a quick & dirty solution using regular expressions.\n",
    "\n",
    "The following function first drops the <.head.> section, then converts all <.a.> tags to the word HYPERLINK, then it gets rid of all HTML tags, leaving only the plain text. For readability, it also replaces multiple newlines with single newlines, and finally it unescapes html entities (such as &gt; or &nbsp;):"
   ]
  },
  {
   "cell_type": "code",
   "execution_count": 19,
   "metadata": {},
   "outputs": [],
   "source": [
    "import re\n",
    "from html import unescape\n",
    "\n",
    "def html_to_plain_text(html):\n",
    "    text = re.sub('<head.*?>.*?</head>', '', html, flags=re.M | re.S | re.I)\n",
    "    text = re.sub('<a\\s.*?>', ' HYPERLINK ', text, flags=re.M | re.S | re.I)\n",
    "    text = re.sub('<.*?>', '', text, flags=re.M | re.S)\n",
    "    text = re.sub(r'(\\s*\\n)+', '\\n', text, flags=re.M | re.S)\n",
    "    return unescape(text)"
   ]
  },
  {
   "cell_type": "markdown",
   "metadata": {},
   "source": [
    "Let's see if it works. This is HTML spam:"
   ]
  },
  {
   "cell_type": "code",
   "execution_count": 20,
   "metadata": {},
   "outputs": [
    {
     "name": "stdout",
     "output_type": "stream",
     "text": [
      "<HTML><HEAD><TITLE></TITLE><META http-equiv=\"Content-Type\" content=\"text/html; charset=windows-1252\"><STYLE>A:link {TEX-DECORATION: none}A:active {TEXT-DECORATION: none}A:visited {TEXT-DECORATION: none}A:hover {COLOR: #0033ff; TEXT-DECORATION: underline}</STYLE><META content=\"MSHTML 6.00.2713.1100\" name=\"GENERATOR\"></HEAD>\n",
      "<BODY text=\"#000000\" vLink=\"#0033ff\" link=\"#0033ff\" bgColor=\"#CCCC99\"><TABLE borderColor=\"#660000\" cellSpacing=\"0\" cellPadding=\"0\" border=\"0\" width=\"100%\"><TR><TD bgColor=\"#CCCC99\" valign=\"top\" colspan=\"2\" height=\"27\">\n",
      "<font size=\"6\" face=\"Arial, Helvetica, sans-serif\" color=\"#660000\">\n",
      "<b>OTC</b></font></TD></TR><TR><TD height=\"2\" bgcolor=\"#6a694f\">\n",
      "<font size=\"5\" face=\"Times New Roman, Times, serif\" color=\"#FFFFFF\">\n",
      "<b>&nbsp;Newsletter</b></font></TD><TD height=\"2\" bgcolor=\"#6a694f\"><div align=\"right\"><font color=\"#FFFFFF\">\n",
      "<b>Discover Tomorrow's Winners&nbsp;</b></font></div></TD></TR><TR><TD height=\"25\" colspan=\"2\" bgcolor=\"#CCCC99\"><table width=\"100%\" border=\"0\"  ...\n"
     ]
    }
   ],
   "source": [
    "html_spam_emails = [email for email in X_train[y_train==1]\n",
    "                    if get_email_structure(email) == \"text/html\"]\n",
    "sample_html_spam = html_spam_emails[7]\n",
    "print(sample_html_spam.get_content().strip()[:1000], \"...\")"
   ]
  },
  {
   "cell_type": "markdown",
   "metadata": {},
   "source": [
    "And this is the resulting plain text:"
   ]
  },
  {
   "cell_type": "code",
   "execution_count": 21,
   "metadata": {},
   "outputs": [
    {
     "name": "stdout",
     "output_type": "stream",
     "text": [
      "\n",
      "OTC\n",
      " Newsletter\n",
      "Discover Tomorrow's Winners \n",
      "For Immediate Release\n",
      "Cal-Bay (Stock Symbol: CBYI)\n",
      "Watch for analyst \"Strong Buy Recommendations\" and several advisory newsletters picking CBYI.  CBYI has filed to be traded on the OTCBB, share prices historically INCREASE when companies get listed on this larger trading exchange. CBYI is trading around 25 cents and should skyrocket to $2.66 - $3.25 a share in the near future.\n",
      "Put CBYI on your watch list, acquire a position TODAY.\n",
      "REASONS TO INVEST IN CBYI\n",
      "A profitable company and is on track to beat ALL earnings estimates!\n",
      "One of the FASTEST growing distributors in environmental & safety equipment instruments.\n",
      "Excellent management team, several EXCLUSIVE contracts.  IMPRESSIVE client list including the U.S. Air Force, Anheuser-Busch, Chevron Refining and Mitsubishi Heavy Industries, GE-Energy & Environmental Research.\n",
      "RAPIDLY GROWING INDUSTRY\n",
      "Industry revenues exceed $900 million, estimates indicate that there could be as much as $25 billi ...\n"
     ]
    }
   ],
   "source": [
    "print(html_to_plain_text(sample_html_spam.get_content())[:1000], \"...\")"
   ]
  },
  {
   "cell_type": "markdown",
   "metadata": {},
   "source": [
    "Great! Now let's write a function that takes an email as input and returns its content as plain text, whatever its format is:"
   ]
  },
  {
   "cell_type": "code",
   "execution_count": 22,
   "metadata": {},
   "outputs": [],
   "source": [
    "def email_to_text(email):\n",
    "    html = None\n",
    "    for part in email.walk():\n",
    "        ctype = part.get_content_type()\n",
    "        if not ctype in (\"text/plain\", \"text/html\"):\n",
    "            continue\n",
    "        try:\n",
    "            content = part.get_content()\n",
    "        except: # in case of encoding issues\n",
    "            content = str(part.get_payload())\n",
    "        if ctype == \"text/plain\":\n",
    "            return content\n",
    "        else:\n",
    "            html = content\n",
    "    if html:\n",
    "        return html_to_plain_text(html)"
   ]
  },
  {
   "cell_type": "code",
   "execution_count": 23,
   "metadata": {},
   "outputs": [
    {
     "name": "stdout",
     "output_type": "stream",
     "text": [
      "\n",
      "OTC\n",
      " Newsletter\n",
      "Discover Tomorrow's Winners \n",
      "For Immediate Release\n",
      "Cal-Bay (Stock Symbol: CBYI)\n",
      "Watch for analyst \"Strong Buy Recommendations\" and several advisory newsletters picking CBYI.  CBYI has filed to be traded on the OTCBB, share prices historically INCREASE when companies get listed on this larger trading exchange. CBYI is trading around 25 cents and should skyrocket to $2.66 - $3.25 a share in the near future.\n",
      "Put CBYI on your watch list, acquire a position TODAY.\n",
      "REASONS TO INVEST IN CBYI\n",
      "A profitable company and is on track to beat ALL earnings estimates!\n",
      "One of the FASTEST growing distributors in environmental & safety equipment instruments.\n",
      "Excellent management team, several EXCLUSIVE contracts.  IMPRESSIVE client list including the U.S. Air Force, Anheuser-Busch, Chevron Refining and Mitsubishi Heavy Industries, GE-Energy & Environmental Research.\n",
      "RAPIDLY GROWING INDUSTRY\n",
      "Industry revenues exceed $900 million, estimates indicate that there could be as much as $25 billion from \"smell technology\" by the end of 2003.\n",
      "!!!!!CONGRATULATIONS!!!!!Our last recommendation to buy ORBT at $1.29 rallied and is holding steady at $3.50! Congratulations to all our subscribers that took advantage of this recommendation.\n",
      "ALL removes HONORED. Please allow 7 days to be removed and send ALL addresses to:\n",
      " HYPERLINK GoneForGood@btamail.net.cn\n",
      " \n",
      "Certain statements contained in this news release may be forward-looking statements within the meaning of The Private Securities Litigation Reform Act of 1995. These statements may be identified by such terms as \"expect\", \"believe\", \"may\", \"will\", and \"intend\" or similar terms. We are NOT a registered investment advisor or a broker dealer. This is NOT an offer to buy or sell securities. No recommendation that the securities of the companies profiled should be purchased, sold or held by individuals or entities that learn of the profiled companies. We were paid $27,000 in cash by a third party to publish this report. Investing in companies profiled is high-risk and use of this information is for reading purposes only. If anyone decides to act as an investor, then it will be that investor's sole risk. Investors are advised NOT to invest without the proper advisement from an attorney or a registered financial broker. Do not rely solely on the information presented, do additional independent research to form your own opinion and decision regarding investing in the profiled companies. Be advised that the purchase of such high-risk securities may result in the loss of your entire investment.  Not intended for recipients or residents of CA,CO,CT,DE,ID, IL,IA,LA,MO,NV,NC,OK,OH,PA,RI,TN,VA,WA,WV,WI. Void where prohibited.  The owners of this publication may already own free trading shares in CBYI and may immediately sell all or a portion of these shares into the open market at or about the time this report is published.  Factual statements are made as of the date stated and are subject to change without notice.\n",
      "Copyright c 2001\n",
      "≡\n",
      "OTC\n",
      "≡\n",
      "***\n",
      "\n"
     ]
    }
   ],
   "source": [
    "print(email_to_text(sample_html_spam))"
   ]
  },
  {
   "cell_type": "markdown",
   "metadata": {},
   "source": [
    "Let's use Natural Language Toolkit (NLTK)"
   ]
  },
  {
   "cell_type": "code",
   "execution_count": 24,
   "metadata": {},
   "outputs": [
    {
     "name": "stdout",
     "output_type": "stream",
     "text": [
      "Computations => comput\n",
      "Computation => comput\n",
      "Computing => comput\n",
      "Computed => comput\n",
      "Compute => comput\n",
      "Compulsive => compuls\n"
     ]
    }
   ],
   "source": [
    "try:\n",
    "    import nltk\n",
    "\n",
    "    stemmer = nltk.PorterStemmer()\n",
    "    for word in (\"Computations\", \"Computation\", \"Computing\", \"Computed\", \"Compute\", \"Compulsive\"):\n",
    "        print(word, \"=>\", stemmer.stem(word))\n",
    "except ImportError:\n",
    "    print(\"Error: stemming requires the NLTK module.\")\n",
    "    stemmer = None"
   ]
  },
  {
   "cell_type": "code",
   "execution_count": 25,
   "metadata": {},
   "outputs": [],
   "source": [
    "# Install a pip package in the current Jupyter kernel\n",
    "import sys\n",
    "!{sys.executable} -m pip install -q -U urlextract"
   ]
  },
  {
   "cell_type": "code",
   "execution_count": 26,
   "metadata": {},
   "outputs": [
    {
     "name": "stdout",
     "output_type": "stream",
     "text": [
      "['github.com', 'https://youtu.be/7Pq-S557XQU?t=3m32s']\n"
     ]
    }
   ],
   "source": [
    "try:\n",
    "    import urlextract # may require an Internet connection to download root domain names\n",
    "    \n",
    "    url_extractor = urlextract.URLExtract()\n",
    "    print(url_extractor.find_urls(\"Will it detect github.com and https://youtu.be/7Pq-S557XQU?t=3m32s\"))\n",
    "except ImportError:\n",
    "    print(\"Error: replacing URLs requires the urlextract module.\")\n",
    "    url_extractor = None"
   ]
  },
  {
   "cell_type": "markdown",
   "metadata": {},
   "source": [
    "We are ready to put all this together into a transformer that we will use to convert emails to word counters. Note that we split sentences into words using Python's split() method, which uses whitespaces for word boundaries. This works for many written languages, but not all. For example, Chinese and Japanese scripts generally don't use spaces between words, and Vietnamese often uses spaces even between syllables. It's okay here, because the dataset is (mostly) in English.\n"
   ]
  },
  {
   "cell_type": "code",
   "execution_count": 27,
   "metadata": {},
   "outputs": [],
   "source": [
    "from sklearn.base import BaseEstimator, TransformerMixin\n",
    "\n",
    "class EmailToWordCounterTransformer(BaseEstimator, TransformerMixin):\n",
    "    def __init__(self, strip_headers=True, lower_case=True, remove_punctuation=True,\n",
    "                 replace_urls=True, replace_numbers=True, stemming=True):\n",
    "        self.strip_headers = strip_headers\n",
    "        self.lower_case = lower_case\n",
    "        self.remove_punctuation = remove_punctuation\n",
    "        self.replace_urls = replace_urls\n",
    "        self.replace_numbers = replace_numbers\n",
    "        self.stemming = stemming\n",
    "    def fit(self, X, y=None):\n",
    "        return self\n",
    "    def transform(self, X, y=None):\n",
    "        X_transformed = []\n",
    "        for email in X:\n",
    "            text = email_to_text(email) or \"\"\n",
    "            if self.lower_case:\n",
    "                text = text.lower()\n",
    "            if self.replace_urls and url_extractor is not None:\n",
    "                urls = list(set(url_extractor.find_urls(text)))\n",
    "                urls.sort(key=lambda url: len(url), reverse=True)\n",
    "                for url in urls:\n",
    "                    text = text.replace(url, \" URL \")\n",
    "            if self.replace_numbers:\n",
    "                text = re.sub(r'\\d+(?:\\.\\d*(?:[eE]\\d+))?', 'NUMBER', text)\n",
    "            if self.remove_punctuation:\n",
    "                text = re.sub(r'\\W+', ' ', text, flags=re.M)\n",
    "            word_counts = Counter(text.split())\n",
    "            if self.stemming and stemmer is not None:\n",
    "                stemmed_word_counts = Counter()\n",
    "                for word, count in word_counts.items():\n",
    "                    stemmed_word = stemmer.stem(word)\n",
    "                    stemmed_word_counts[stemmed_word] += count\n",
    "                word_counts = stemmed_word_counts\n",
    "            X_transformed.append(word_counts)\n",
    "        return np.array(X_transformed)"
   ]
  },
  {
   "cell_type": "markdown",
   "metadata": {},
   "source": [
    "Let's try this transformer on a few emails:\n"
   ]
  },
  {
   "cell_type": "code",
   "execution_count": 28,
   "metadata": {},
   "outputs": [
    {
     "data": {
      "text/plain": [
       "array([Counter({'chuck': 1, 'murcko': 1, 'wrote': 1, 'stuff': 1, 'yawn': 1, 'r': 1}),\n",
       "       Counter({'the': 11, 'of': 9, 'and': 8, 'all': 3, 'christian': 3, 'to': 3, 'by': 3, 'jefferson': 2, 'i': 2, 'have': 2, 'superstit': 2, 'one': 2, 'on': 2, 'been': 2, 'ha': 2, 'half': 2, 'rogueri': 2, 'teach': 2, 'jesu': 2, 'some': 1, 'interest': 1, 'quot': 1, 'url': 1, 'thoma': 1, 'examin': 1, 'known': 1, 'word': 1, 'do': 1, 'not': 1, 'find': 1, 'in': 1, 'our': 1, 'particular': 1, 'redeem': 1, 'featur': 1, 'they': 1, 'are': 1, 'alik': 1, 'found': 1, 'fabl': 1, 'mytholog': 1, 'million': 1, 'innoc': 1, 'men': 1, 'women': 1, 'children': 1, 'sinc': 1, 'introduct': 1, 'burnt': 1, 'tortur': 1, 'fine': 1, 'imprison': 1, 'what': 1, 'effect': 1, 'thi': 1, 'coercion': 1, 'make': 1, 'world': 1, 'fool': 1, 'other': 1, 'hypocrit': 1, 'support': 1, 'error': 1, 'over': 1, 'earth': 1, 'six': 1, 'histor': 1, 'american': 1, 'john': 1, 'e': 1, 'remsburg': 1, 'letter': 1, 'william': 1, 'short': 1, 'again': 1, 'becom': 1, 'most': 1, 'pervert': 1, 'system': 1, 'that': 1, 'ever': 1, 'shone': 1, 'man': 1, 'absurd': 1, 'untruth': 1, 'were': 1, 'perpetr': 1, 'upon': 1, 'a': 1, 'larg': 1, 'band': 1, 'dupe': 1, 'import': 1, 'led': 1, 'paul': 1, 'first': 1, 'great': 1, 'corrupt': 1}),\n",
       "       Counter({'url': 4, 's': 3, 'group': 3, 'to': 3, 'in': 2, 'forteana': 2, 'martin': 2, 'an': 2, 'and': 2, 'we': 2, 'is': 2, 'yahoo': 2, 'unsubscrib': 2, 'y': 1, 'adamson': 1, 'wrote': 1, 'for': 1, 'altern': 1, 'rather': 1, 'more': 1, 'factual': 1, 'base': 1, 'rundown': 1, 'on': 1, 'hamza': 1, 'career': 1, 'includ': 1, 'hi': 1, 'belief': 1, 'that': 1, 'all': 1, 'non': 1, 'muslim': 1, 'yemen': 1, 'should': 1, 'be': 1, 'murder': 1, 'outright': 1, 'know': 1, 'how': 1, 'unbias': 1, 'memri': 1, 'don': 1, 't': 1, 'html': 1, 'rob': 1, 'sponsor': 1, 'number': 1, 'dvd': 1, 'free': 1, 'p': 1, 'join': 1, 'now': 1, 'from': 1, 'thi': 1, 'send': 1, 'email': 1, 'egroup': 1, 'com': 1, 'your': 1, 'use': 1, 'of': 1, 'subject': 1})],\n",
       "      dtype=object)"
      ]
     },
     "execution_count": 28,
     "metadata": {},
     "output_type": "execute_result"
    }
   ],
   "source": [
    "X_few = X_train[:3]\n",
    "X_few_wordcounts = EmailToWordCounterTransformer().fit_transform(X_few)\n",
    "X_few_wordcounts"
   ]
  },
  {
   "cell_type": "markdown",
   "metadata": {},
   "source": [
    "This looks about right!\n",
    "\n",
    "Now we have the word counts, and we need to convert them to vectors. For this, we will build another transformer whose fit() method will build the vocabulary (an ordered list of the most common words) and whose transform() method will use the vocabulary to convert word counts to vectors. The output is a sparse matrix."
   ]
  },
  {
   "cell_type": "code",
   "execution_count": 29,
   "metadata": {},
   "outputs": [],
   "source": [
    "from scipy.sparse import csr_matrix\n",
    "\n",
    "class WordCounterToVectorTransformer(BaseEstimator, TransformerMixin):\n",
    "    def __init__(self, vocabulary_size=1000):\n",
    "        self.vocabulary_size = vocabulary_size\n",
    "    def fit(self, X, y=None):\n",
    "        total_count = Counter()\n",
    "        for word_count in X:\n",
    "            for word, count in word_count.items():\n",
    "                total_count[word] += min(count, 10)\n",
    "        most_common = total_count.most_common()[:self.vocabulary_size]\n",
    "        self.most_common_ = most_common\n",
    "        self.vocabulary_ = {word: index + 1 for index, (word, count) in enumerate(most_common)}\n",
    "        return self\n",
    "    def transform(self, X, y=None):\n",
    "        rows = []\n",
    "        cols = []\n",
    "        data = []\n",
    "        for row, word_count in enumerate(X):\n",
    "            for word, count in word_count.items():\n",
    "                rows.append(row)\n",
    "                cols.append(self.vocabulary_.get(word, 0))\n",
    "                data.append(count)\n",
    "        return csr_matrix((data, (rows, cols)), shape=(len(X), self.vocabulary_size + 1))"
   ]
  },
  {
   "cell_type": "code",
   "execution_count": 30,
   "metadata": {},
   "outputs": [
    {
     "data": {
      "text/plain": [
       "<3x11 sparse matrix of type '<class 'numpy.int64'>'\n",
       "\twith 20 stored elements in Compressed Sparse Row format>"
      ]
     },
     "execution_count": 30,
     "metadata": {},
     "output_type": "execute_result"
    }
   ],
   "source": [
    "vocab_transformer = WordCounterToVectorTransformer(vocabulary_size=10)\n",
    "X_few_vectors = vocab_transformer.fit_transform(X_few_wordcounts)\n",
    "X_few_vectors"
   ]
  },
  {
   "cell_type": "code",
   "execution_count": 31,
   "metadata": {},
   "outputs": [
    {
     "data": {
      "text/plain": [
       "array([[ 6,  0,  0,  0,  0,  0,  0,  0,  0,  0,  0],\n",
       "       [99, 11,  9,  8,  3,  1,  3,  1,  3,  2,  3],\n",
       "       [67,  0,  1,  2,  3,  4,  1,  2,  0,  1,  0]])"
      ]
     },
     "execution_count": 31,
     "metadata": {},
     "output_type": "execute_result"
    }
   ],
   "source": [
    "X_few_vectors.toarray()"
   ]
  },
  {
   "cell_type": "markdown",
   "metadata": {},
   "source": [
    "What does this matrix mean? Well, the 99 in the second row, first column, means that the second email contains 99 words that are not part of the vocabulary. The 11 next to it means that the first word in the vocabulary is present 11 times in this email. The 9 next to it means that the second word is present 9 times, and so on. You can look at the vocabulary to know which words we are talking about. The first word is \"the\", the second word is \"of\", etc."
   ]
  },
  {
   "cell_type": "code",
   "execution_count": 32,
   "metadata": {},
   "outputs": [
    {
     "data": {
      "text/plain": [
       "{'the': 1,\n",
       " 'of': 2,\n",
       " 'and': 3,\n",
       " 'to': 4,\n",
       " 'url': 5,\n",
       " 'all': 6,\n",
       " 'in': 7,\n",
       " 'christian': 8,\n",
       " 'on': 9,\n",
       " 'by': 10}"
      ]
     },
     "execution_count": 32,
     "metadata": {},
     "output_type": "execute_result"
    }
   ],
   "source": [
    "vocab_transformer.vocabulary_"
   ]
  },
  {
   "cell_type": "markdown",
   "metadata": {},
   "source": [
    "We are now ready to train our first spam classifier! Let's transform the whole dataset:"
   ]
  },
  {
   "cell_type": "code",
   "execution_count": 33,
   "metadata": {},
   "outputs": [],
   "source": [
    "from sklearn.pipeline import Pipeline\n",
    "\n",
    "preprocess_pipeline = Pipeline([\n",
    "    (\"email_to_wordcount\", EmailToWordCounterTransformer()),\n",
    "    (\"wordcount_to_vector\", WordCounterToVectorTransformer()),\n",
    "])\n",
    "\n",
    "X_train_transformed = preprocess_pipeline.fit_transform(X_train)"
   ]
  },
  {
   "cell_type": "code",
   "execution_count": 34,
   "metadata": {},
   "outputs": [
    {
     "name": "stdout",
     "output_type": "stream",
     "text": [
      "[CV]  ................................................................\n"
     ]
    },
    {
     "name": "stderr",
     "output_type": "stream",
     "text": [
      "[Parallel(n_jobs=1)]: Using backend SequentialBackend with 1 concurrent workers.\n"
     ]
    },
    {
     "name": "stdout",
     "output_type": "stream",
     "text": [
      "[CV] .................................... , score=0.981, total=   1.0s\n",
      "[CV]  ................................................................\n"
     ]
    },
    {
     "name": "stderr",
     "output_type": "stream",
     "text": [
      "[Parallel(n_jobs=1)]: Done   1 out of   1 | elapsed:    1.0s remaining:    0.0s\n"
     ]
    },
    {
     "name": "stdout",
     "output_type": "stream",
     "text": [
      "[CV] .................................... , score=0.984, total=   0.4s\n",
      "[CV]  ................................................................\n",
      "[CV] .................................... , score=0.993, total=   0.1s\n"
     ]
    },
    {
     "name": "stderr",
     "output_type": "stream",
     "text": [
      "[Parallel(n_jobs=1)]: Done   2 out of   2 | elapsed:    1.4s remaining:    0.0s\n",
      "[Parallel(n_jobs=1)]: Done   3 out of   3 | elapsed:    1.6s finished\n"
     ]
    },
    {
     "data": {
      "text/plain": [
       "0.9858333333333333"
      ]
     },
     "execution_count": 34,
     "metadata": {},
     "output_type": "execute_result"
    }
   ],
   "source": [
    "from sklearn.linear_model import LogisticRegression\n",
    "from sklearn.model_selection import cross_val_score\n",
    "\n",
    "log_clf = LogisticRegression(solver=\"lbfgs\", random_state=42, n_jobs = -1)\n",
    "score = cross_val_score(log_clf, X_train_transformed, y_train, cv=3, verbose=3)\n",
    "score.mean()"
   ]
  },
  {
   "cell_type": "markdown",
   "metadata": {},
   "source": [
    "Over 98.5%, not bad for a first try! :) However, remember that we are using the \"easy\" dataset. You can try with the harder datasets, the results won't be so amazing. You would have to try multiple models, select the best ones and fine-tune them using cross-validation, and so on.\n",
    "\n",
    "But you get the picture, so let's stop now, and just print out the precision/recall we get on the test set:\n"
   ]
  },
  {
   "cell_type": "code",
   "execution_count": 35,
   "metadata": {},
   "outputs": [
    {
     "name": "stdout",
     "output_type": "stream",
     "text": [
      "Precision: 95.88%\n",
      "Recall: 97.89%\n"
     ]
    }
   ],
   "source": [
    "from sklearn.metrics import precision_score, recall_score\n",
    "\n",
    "X_test_transformed = preprocess_pipeline.transform(X_test)\n",
    "\n",
    "log_clf = LogisticRegression(solver=\"lbfgs\", random_state=42, max_iter = 5000)\n",
    "log_clf.fit(X_train_transformed, y_train)\n",
    "\n",
    "y_pred = log_clf.predict(X_test_transformed)\n",
    "\n",
    "print(\"Precision: {:.2f}%\".format(100 * precision_score(y_test, y_pred)))\n",
    "print(\"Recall: {:.2f}%\".format(100 * recall_score(y_test, y_pred)))"
   ]
  },
  {
   "cell_type": "markdown",
   "metadata": {},
   "source": [
    ".\n",
    "\n",
    "\n",
    "Let's try with a \"hard ham\"\n",
    "\n",
    "\n",
    "."
   ]
  },
  {
   "cell_type": "code",
   "execution_count": 41,
   "metadata": {},
   "outputs": [],
   "source": [
    "HAM_URL = DOWNLOAD_ROOT + \"20030228_hard_ham.tar.bz2\"\n",
    "\n",
    "fetch_spam_data()"
   ]
  },
  {
   "cell_type": "code",
   "execution_count": 42,
   "metadata": {},
   "outputs": [],
   "source": [
    "# load emails\n",
    "\n",
    "HAM_DIR = os.path.join(SPAM_PATH, \"hard_ham\")\n",
    "SPAM_DIR = os.path.join(SPAM_PATH, \"spam\")\n",
    "ham_filenames = [name for name in sorted(os.listdir(HAM_DIR)) if len(name) > 20]\n",
    "spam_filenames = [name for name in sorted(os.listdir(SPAM_DIR)) if len(name) > 20]"
   ]
  },
  {
   "cell_type": "code",
   "execution_count": 43,
   "metadata": {},
   "outputs": [
    {
     "data": {
      "text/plain": [
       "250"
      ]
     },
     "execution_count": 43,
     "metadata": {},
     "output_type": "execute_result"
    }
   ],
   "source": [
    "len(ham_filenames)"
   ]
  },
  {
   "cell_type": "code",
   "execution_count": 44,
   "metadata": {},
   "outputs": [
    {
     "data": {
      "text/plain": [
       "500"
      ]
     },
     "execution_count": 44,
     "metadata": {},
     "output_type": "execute_result"
    }
   ],
   "source": [
    "len(spam_filenames)"
   ]
  },
  {
   "cell_type": "markdown",
   "metadata": {},
   "source": [
    "There are 10 times less data on the \"hard ham\" dataset. That, by itself, makes things harder.\n",
    "\n",
    "Let's reproduce the same pipeline as previously and see how it performs against the new dataset."
   ]
  },
  {
   "cell_type": "code",
   "execution_count": 45,
   "metadata": {},
   "outputs": [
    {
     "name": "stderr",
     "output_type": "stream",
     "text": [
      "/Users/bruno/Desktop/hands-on-ML_studies-diary/my_env/lib/python3.7/site-packages/ipykernel_launcher.py:9: VisibleDeprecationWarning: Creating an ndarray from ragged nested sequences (which is a list-or-tuple of lists-or-tuples-or ndarrays with different lengths or shapes) is deprecated. If you meant to do this, you must specify 'dtype=object' when creating the ndarray\n",
      "  if __name__ == '__main__':\n"
     ]
    }
   ],
   "source": [
    "import email\n",
    "import email.policy\n",
    "\n",
    "def load_email(is_spam, filename, spam_path=SPAM_PATH):\n",
    "    directory = \"spam\" if is_spam else \"hard_ham\"\n",
    "    with open(os.path.join(spam_path, directory, filename), \"rb\") as f:\n",
    "        return email.parser.BytesParser(policy=email.policy.default).parse(f)\n",
    "\n",
    "X = np.array(ham_emails + spam_emails)\n",
    "y = np.array([0] * len(ham_emails) + [1] * len(spam_emails))\n",
    "\n",
    "X_train, X_test, y_train, y_test = train_test_split(X, y, test_size=0.2, random_state=42)"
   ]
  },
  {
   "cell_type": "code",
   "execution_count": 47,
   "metadata": {},
   "outputs": [],
   "source": [
    "ham_emails = [load_email(is_spam=False, filename=name) for name in ham_filenames]\n",
    "spam_emails = [load_email(is_spam=True, filename=name) for name in spam_filenames]"
   ]
  },
  {
   "cell_type": "code",
   "execution_count": 53,
   "metadata": {},
   "outputs": [
    {
     "name": "stderr",
     "output_type": "stream",
     "text": [
      "/Users/bruno/Desktop/hands-on-ML_studies-diary/my_env/lib/python3.7/site-packages/ipykernel_launcher.py:3: VisibleDeprecationWarning: Creating an ndarray from ragged nested sequences (which is a list-or-tuple of lists-or-tuples-or ndarrays with different lengths or shapes) is deprecated. If you meant to do this, you must specify 'dtype=object' when creating the ndarray\n",
      "  This is separate from the ipykernel package so we can avoid doing imports until\n"
     ]
    }
   ],
   "source": [
    "# Split the data \n",
    "\n",
    "X = np.array(ham_emails + spam_emails)\n",
    "y = np.array([0] * len(ham_emails) + [1] * len(spam_emails))\n",
    "\n",
    "X_train, X_test, y_train, y_test = train_test_split(X, y, test_size=0.2, random_state=42)"
   ]
  },
  {
   "cell_type": "code",
   "execution_count": 59,
   "metadata": {},
   "outputs": [],
   "source": [
    "# Reusing functions created above:\n",
    "\n",
    "from sklearn.pipeline import Pipeline\n",
    "\n",
    "preprocess_pipeline = Pipeline([\n",
    "    (\"email_to_wordcount\", EmailToWordCounterTransformer()),\n",
    "    (\"wordcount_to_vector\", WordCounterToVectorTransformer()),\n",
    "])\n",
    "\n",
    "X_train_transformed = preprocess_pipeline.fit_transform(X_train)"
   ]
  },
  {
   "cell_type": "code",
   "execution_count": 60,
   "metadata": {},
   "outputs": [
    {
     "name": "stdout",
     "output_type": "stream",
     "text": [
      "[CV]  ................................................................\n"
     ]
    },
    {
     "name": "stderr",
     "output_type": "stream",
     "text": [
      "[Parallel(n_jobs=1)]: Using backend SequentialBackend with 1 concurrent workers.\n"
     ]
    },
    {
     "name": "stdout",
     "output_type": "stream",
     "text": [
      "[CV] .................................... , score=0.915, total=   0.7s\n",
      "[CV]  ................................................................\n"
     ]
    },
    {
     "name": "stderr",
     "output_type": "stream",
     "text": [
      "[Parallel(n_jobs=1)]: Done   1 out of   1 | elapsed:    0.7s remaining:    0.0s\n"
     ]
    },
    {
     "name": "stdout",
     "output_type": "stream",
     "text": [
      "[CV] .................................... , score=0.935, total=   0.4s\n",
      "[CV]  ................................................................\n",
      "[CV] .................................... , score=0.935, total=   0.1s\n"
     ]
    },
    {
     "name": "stderr",
     "output_type": "stream",
     "text": [
      "[Parallel(n_jobs=1)]: Done   2 out of   2 | elapsed:    1.1s remaining:    0.0s\n",
      "[Parallel(n_jobs=1)]: Done   3 out of   3 | elapsed:    1.2s finished\n"
     ]
    },
    {
     "data": {
      "text/plain": [
       "0.9283333333333333"
      ]
     },
     "execution_count": 60,
     "metadata": {},
     "output_type": "execute_result"
    }
   ],
   "source": [
    "log_clf = LogisticRegression(solver=\"lbfgs\", random_state=42, n_jobs = -1)\n",
    "score = cross_val_score(log_clf, X_train_transformed, y_train, cv=3, verbose=3)\n",
    "score.mean()"
   ]
  },
  {
   "cell_type": "markdown",
   "metadata": {},
   "source": [
    "We dropped 5% with this new dataset"
   ]
  },
  {
   "cell_type": "code",
   "execution_count": 61,
   "metadata": {},
   "outputs": [
    {
     "name": "stdout",
     "output_type": "stream",
     "text": [
      "Precision: 95.00%\n",
      "Recall: 96.94%\n"
     ]
    }
   ],
   "source": [
    "X_test_transformed = preprocess_pipeline.transform(X_test)\n",
    "\n",
    "log_clf = LogisticRegression(solver=\"lbfgs\", random_state=42, max_iter = 5000)\n",
    "log_clf.fit(X_train_transformed, y_train)\n",
    "\n",
    "y_pred = log_clf.predict(X_test_transformed)\n",
    "\n",
    "print(\"Precision: {:.2f}%\".format(100 * precision_score(y_test, y_pred)))\n",
    "print(\"Recall: {:.2f}%\".format(100 * recall_score(y_test, y_pred)))"
   ]
  }
 ],
 "metadata": {
  "kernelspec": {
   "display_name": "Python 3",
   "language": "python",
   "name": "python3"
  },
  "language_info": {
   "codemirror_mode": {
    "name": "ipython",
    "version": 3
   },
   "file_extension": ".py",
   "mimetype": "text/x-python",
   "name": "python",
   "nbconvert_exporter": "python",
   "pygments_lexer": "ipython3",
   "version": "3.7.7"
  }
 },
 "nbformat": 4,
 "nbformat_minor": 4
}
