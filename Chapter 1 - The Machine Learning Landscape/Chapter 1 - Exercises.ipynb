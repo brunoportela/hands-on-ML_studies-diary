{
 "cells": [
  {
   "cell_type": "markdown",
   "metadata": {},
   "source": [
    "## Chapter 1 - Exercises\n",
    "Note: I used a few answers provided on book. I chose to do so because some concepts were better explained in the book's answers, when comparing to my own aswers (which could be confusing or unnecessarily lengthy)."
   ]
  },
  {
   "cell_type": "markdown",
   "metadata": {},
   "source": [
    "### 1. How would you define Machine Learning?\n",
    "\n",
    "Is the science and art of programming a computer so they can learn from data, by getting better at some task, according to some performance measure."
   ]
  },
  {
   "cell_type": "markdown",
   "metadata": {},
   "source": [
    "### 2. Can you name four types of problems where it shines?\n",
    "\n",
    "Complex problems with no algorithmic solution<br>\n",
    "Replace long list of hardcoded requirements<br>\n",
    "Build systems that adapt to fluctuating environments<br>\n",
    "Help humans to learn (data mining)"
   ]
  },
  {
   "cell_type": "markdown",
   "metadata": {},
   "source": [
    "### 3. What is a labeled training set?\n",
    "\n",
    "Is a training set that contains the expected outcome for each instance.<br>\n",
    "For example, when trying to estimate a car price, the values on price column would be the labels. With this information, the model will have a guide and will be able to learn what features drives the prices up or down."
   ]
  },
  {
   "cell_type": "markdown",
   "metadata": {},
   "source": [
    "### 4. What are the two most common supervised tasks?\n",
    "Regression and Classification"
   ]
  },
  {
   "cell_type": "markdown",
   "metadata": {},
   "source": [
    "### 5. Can you name four common unsupervised tasks?\n",
    "\n",
    "Clustering, visualization, dimensionality reduction and association rule learning."
   ]
  },
  {
   "cell_type": "markdown",
   "metadata": {},
   "source": [
    "### 6. What type of Machine Learning algorithm would you use to allow a robot to walk in various unknown terrains?\n",
    "\n",
    "Reinforcement Learning."
   ]
  },
  {
   "cell_type": "markdown",
   "metadata": {},
   "source": [
    "### 7. What type of algorithm would you use to segment your customers into multiple groups?\n",
    "\n",
    "Clustering - if you don't know how to define the groups\n",
    "Classification - if you have examples of each group you would like to have. feed examples of each group to the model, so it can classify the customers."
   ]
  },
  {
   "cell_type": "markdown",
   "metadata": {},
   "source": [
    "### 8. Would you frame the problem of spam detection as a supervised learning prob‐ lem or an unsupervised learning problem?\n",
    "\n",
    "Supervised. The algorithm learns with labelled data."
   ]
  },
  {
   "cell_type": "markdown",
   "metadata": {},
   "source": [
    "### 9. What is an online learning system?\n",
    "\n",
    "An online learning system can learn incrementally, as opposed to a batch learning system. This makes it capable of adapting rapidly to both changing data and autonomous systems, and of training on very large quantities of data."
   ]
  },
  {
   "cell_type": "markdown",
   "metadata": {},
   "source": [
    "### 10. What is out-of-core learning?\n",
    "\n",
    "It is an algorithm that handles big quantities of data that cannot fit in a computer's main memory. It divided the data in smaller batches and learns from it incrementally (using online learning techniques)."
   ]
  },
  {
   "cell_type": "markdown",
   "metadata": {},
   "source": [
    "### 11. What type of learning algorithm relies on a similarity measure to make predictions?\n",
    "\n",
    "Instance-based. As it learns by memorizes the training data, it tries to find similarities with test data thought similarity measures, and according to these measures, it makes the prediction."
   ]
  },
  {
   "cell_type": "markdown",
   "metadata": {},
   "source": [
    "### 12. What is the difference between a model parameter and a learning algorithm’s hyperparameter?\n",
    "\n",
    "A model has one or more model parameters that determine what it will predict given a new instance (e.g., the slope of a linear model).<br>\n",
    "A learning algorithm tries to find optimal values for these parameters such that the model generalizes well to new instances. A hyperparameter is a parameter of the learning algorithm itself, not of the model (e.g., the amount of regularization to apply)."
   ]
  },
  {
   "cell_type": "markdown",
   "metadata": {},
   "source": [
    "### 13. What do model-based learning algorithms search for? What is the most common strategy they use to succeed? How do they make predictions?\n",
    "\n",
    "Model-based learning algorithms search for an optimal value for the model parameters such that the model will generalize well to new instances.<br>\n",
    "We usually train such systems by minimizing a cost function that measures how bad the system is at making predictions on the training data, plus a penalty for model complexity if the model is regularized.<br>\n",
    "To make predictions, we feed the new instance’s features into the model’s prediction function, using the parameter values found by the learning algorithm.\n"
   ]
  },
  {
   "cell_type": "markdown",
   "metadata": {},
   "source": [
    "### 14. Name four of the main challenges in Machine Learning?\n",
    "\n",
    "Lack of data<br>\n",
    "Nonrepresentative data<br>\n",
    "Uninformative features<br>\n",
    "Complex models that **overfit** the data<br>\n",
    "Excessively simple models taht **underfit** the data"
   ]
  },
  {
   "cell_type": "markdown",
   "metadata": {},
   "source": [
    "### 15. If your model performs great on the training data but generalizes poorly to new instances, what is happening? Can you name three possible solutions?\n",
    "\n",
    "Overfitting.<br>\n",
    "Collect more data, simplify the model (select a simpler algorithm, use less parameters or features, regularize the model), reduce the noise in the training data (fix data errors and remove outliers)."
   ]
  },
  {
   "cell_type": "markdown",
   "metadata": {},
   "source": [
    "### 16. What is a test set, and why would you want to use it?\n",
    "\n",
    "Is a set that is used to simulate the production environment. It will estimate the generalization error that the model will produce to new instances. It is useful because you can have an idea on how the model will perform when deployed, so you can make adjustments before lauching to production."
   ]
  },
  {
   "cell_type": "markdown",
   "metadata": {},
   "source": [
    "### 17. What is the purpose of a validation set?\n",
    "\n",
    "A validation set is used to compare models. It makes it possible to select the best model and tune the hyperparameters."
   ]
  },
  {
   "cell_type": "markdown",
   "metadata": {},
   "source": [
    "### 18. What is the train-dev set, when do you need it, and how do you use it?\n",
    "\n",
    "The train-dev set is used when there is a risk of mismatch between the training data and the data used in the validation and test datasets (which should always be as close as possible to the data used once the model is in production).<br>\n",
    "The train-dev set is a part of the training set that’s held out (the model is not trained on it). The model is trained on the rest of the training set, and evaluated on both the train-dev set and the validation set. If the model performs well on the training set but not on the train-dev set, then the model is likely overfitting the training set. If it performs well on both the training set and the train-dev set, but not on the validation set, then there is probably a significant data mismatch between the training data and the validation + test data, and you should try to improve the training data to make it look more like the validation + test data."
   ]
  },
  {
   "cell_type": "markdown",
   "metadata": {},
   "source": [
    "### 19. What can go wrong if you tune hyperparameters using the test set?\n",
    "\n",
    "If you tune hyperparameters using the test set, you risk overfitting the test set, and the generalization error you measure will be optimistic (you may launch a model that performs worse than you expect).<br>\n",
    "What will happen is that you will be adjusting the model enterily based on the assumption that the real world will reflect precisely on what is present on the test set, but, in reality, any deviation from that will make your model to perform poorly."
   ]
  }
 ],
 "metadata": {
  "kernelspec": {
   "display_name": "Python 3",
   "language": "python",
   "name": "python3"
  },
  "language_info": {
   "codemirror_mode": {
    "name": "ipython",
    "version": 3
   },
   "file_extension": ".py",
   "mimetype": "text/x-python",
   "name": "python",
   "nbconvert_exporter": "python",
   "pygments_lexer": "ipython3",
   "version": "3.8.3"
  }
 },
 "nbformat": 4,
 "nbformat_minor": 4
}
