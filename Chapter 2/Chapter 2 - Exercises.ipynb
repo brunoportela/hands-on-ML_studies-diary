{
 "cells": [
  {
   "cell_type": "markdown",
   "metadata": {},
   "source": [
    "## Chapter 2 - Exercises"
   ]
  },
  {
   "cell_type": "markdown",
   "metadata": {},
   "source": [
    "1. Try a Support Vector Machine regressor (sklearn.svm.SVR) with various hyperparameters, such as kernel=\"linear\" (with various values for the C hyperparameter) or kernel=\"rbf\" (with various values for the C and gamma hyperparameters). Don’t worry about what these hyperparameters mean for now. How does the best SVR predictor perform?"
   ]
  },
  {
   "cell_type": "code",
   "execution_count": 35,
   "metadata": {},
   "outputs": [],
   "source": [
    "import pandas as pd\n",
    "\n",
    "housing = pd.read_csv('datasets/housing/housing.csv')"
   ]
  },
  {
   "cell_type": "code",
   "execution_count": 36,
   "metadata": {},
   "outputs": [],
   "source": [
    "# create a column for 5 income groups\n",
    "import numpy as np\n",
    "\n",
    "housing[\"income_cat\"] = pd.cut(housing[\"median_income\"],\n",
    "                               bins=[0., 1.5, 3.0, 4.5, 6., np.inf],\n",
    "                               labels=[1, 2, 3, 4, 5])"
   ]
  },
  {
   "cell_type": "code",
   "execution_count": 37,
   "metadata": {},
   "outputs": [],
   "source": [
    "# Create stratified sampling based on the income category\n",
    "from sklearn.model_selection import StratifiedShuffleSplit\n",
    "\n",
    "split = StratifiedShuffleSplit(n_splits=1, test_size=0.2, random_state=42) \n",
    "for train_index, test_index in split.split(housing, housing[\"income_cat\"]):\n",
    "    strat_train_set = housing.loc[train_index]\n",
    "    strat_test_set = housing.loc[test_index]\n",
    "    \n",
    "housing = strat_train_set.drop(\"median_house_value\", axis=1) # predictions\n",
    "housing_labels = strat_train_set[\"median_house_value\"].copy() # labels"
   ]
  },
  {
   "cell_type": "code",
   "execution_count": 38,
   "metadata": {},
   "outputs": [],
   "source": [
    "# Now that we've separated the train and test sets, \n",
    "# drop column created to turn the data back to its original state\n",
    "for set_ in (strat_train_set, strat_test_set): \n",
    "    set_.drop(\"income_cat\", axis=1, inplace=True)"
   ]
  },
  {
   "cell_type": "code",
   "execution_count": 39,
   "metadata": {},
   "outputs": [],
   "source": [
    "# preparing a tranformer class:\n",
    "\n",
    "from sklearn.base import BaseEstimator, TransformerMixin\n",
    "\n",
    "rooms_ix, bedrooms_ix, population_ix, households_ix = 3, 4, 5, 6\n",
    "\n",
    "class CombinedAttributesAdder(BaseEstimator, TransformerMixin):\n",
    "    def __init__(self, add_bedrooms_per_room = True): # no *args or **kargs\n",
    "        self.add_bedrooms_per_room = add_bedrooms_per_room \n",
    "    \n",
    "    def fit(self, X, y=None):\n",
    "        return self # nothing else to do\n",
    "    \n",
    "    def transform(self, X):\n",
    "        rooms_per_household = X[:, rooms_ix] / X[:, households_ix] \n",
    "        population_per_household = X[:, population_ix] / X[:, households_ix] \n",
    "        if self.add_bedrooms_per_room:\n",
    "            bedrooms_per_room = X[:, bedrooms_ix] / X[:, rooms_ix]\n",
    "            return np.c_[X, rooms_per_household, population_per_household, bedrooms_per_room]\n",
    "        else:\n",
    "            return np.c_[X, rooms_per_household, population_per_household]"
   ]
  },
  {
   "cell_type": "code",
   "execution_count": 40,
   "metadata": {},
   "outputs": [],
   "source": [
    "from sklearn.pipeline import Pipeline\n",
    "from sklearn.impute import SimpleImputer\n",
    "from sklearn.preprocessing import StandardScaler\n",
    "\n",
    "num_pipeline = Pipeline([('imputer', SimpleImputer(strategy=\"median\")), \n",
    "                         ('attribs_adder', CombinedAttributesAdder()), \n",
    "                         ('std_scaler', StandardScaler())])"
   ]
  },
  {
   "cell_type": "code",
   "execution_count": 41,
   "metadata": {},
   "outputs": [],
   "source": [
    "from sklearn.compose import ColumnTransformer\n",
    "from sklearn.preprocessing import OneHotEncoder\n",
    "\n",
    "housing_num = housing.drop('ocean_proximity', axis=1)\n",
    "num_attribs = list(housing_num)\n",
    "\n",
    "cat_attribs = ['ocean_proximity']\n",
    "\n",
    "full_pipeline = ColumnTransformer([('num', num_pipeline, num_attribs),\n",
    "                                   ('cat', OneHotEncoder(), cat_attribs)])\n",
    "\n",
    "housing_prepared = full_pipeline.fit_transform(housing)"
   ]
  },
  {
   "cell_type": "code",
   "execution_count": 55,
   "metadata": {},
   "outputs": [
    {
     "data": {
      "text/plain": [
       "SVR(kernel='linear')"
      ]
     },
     "execution_count": 55,
     "metadata": {},
     "output_type": "execute_result"
    }
   ],
   "source": [
    "from sklearn.svm import SVR\n",
    "\n",
    "svr_reg = SVR()\n",
    "svr_reg.fit(housing_prepared, housing_labels)"
   ]
  },
  {
   "cell_type": "code",
   "execution_count": 56,
   "metadata": {},
   "outputs": [
    {
     "data": {
      "text/plain": [
       "106874.50415237377"
      ]
     },
     "execution_count": 56,
     "metadata": {},
     "output_type": "execute_result"
    }
   ],
   "source": [
    "from sklearn.metrics import mean_squared_error\n",
    "\n",
    "housing_prediction = svr_reg.predict(housing_prepared)\n",
    "svr_mse = mean_squared_error(housing_labels, housing_prediction)\n",
    "svr_rmse = np.sqrt(svr_mse)\n",
    "svr_rmse"
   ]
  },
  {
   "cell_type": "code",
   "execution_count": 66,
   "metadata": {},
   "outputs": [
    {
     "name": "stdout",
     "output_type": "stream",
     "text": [
      "Fitting 5 folds for each of 50 candidates, totalling 250 fits\n"
     ]
    },
    {
     "name": "stderr",
     "output_type": "stream",
     "text": [
      "[Parallel(n_jobs=4)]: Using backend LokyBackend with 4 concurrent workers.\n",
      "[Parallel(n_jobs=4)]: Done  33 tasks      | elapsed:  3.6min\n",
      "[Parallel(n_jobs=4)]: Done 154 tasks      | elapsed: 15.3min\n",
      "[Parallel(n_jobs=4)]: Done 250 out of 250 | elapsed: 23.3min finished\n"
     ]
    },
    {
     "data": {
      "text/plain": [
       "GridSearchCV(cv=5, estimator=SVR(), n_jobs=4,\n",
       "             param_grid=[{'C': [10.0, 30.0, 100.0, 300.0, 1000.0, 3000.0,\n",
       "                                10000.0, 30000.0],\n",
       "                          'kernel': ['linear']},\n",
       "                         {'C': [1.0, 3.0, 10.0, 30.0, 100.0, 300.0, 1000.0],\n",
       "                          'gamma': [0.01, 0.03, 0.1, 0.3, 1.0, 3.0],\n",
       "                          'kernel': ['rbf']}],\n",
       "             scoring='neg_mean_squared_error', verbose=2)"
      ]
     },
     "execution_count": 66,
     "metadata": {},
     "output_type": "execute_result"
    }
   ],
   "source": [
    "from sklearn.model_selection import GridSearchCV\n",
    "from sklearn.svm import SVR\n",
    "\n",
    "svr_reg = SVR()\n",
    "\n",
    "param_grid = [\n",
    "  {\n",
    "      'C': [10., 30., 100., 300., 1000., 3000., 10000., 30000.0], 'kernel': ['linear']\n",
    "  },\n",
    "  {\n",
    "      'C': [1.0, 3.0, 10., 30., 100., 300., 1000.0], \n",
    "      'gamma': [0.01, 0.03, 0.1, 0.3, 1.0, 3.0], \n",
    "      'kernel': ['rbf']}\n",
    "      ]\n",
    "\n",
    "grid = GridSearchCV(svr_reg, param_grid=param_grid, cv=5, n_jobs=4, \n",
    "                    scoring='neg_mean_squared_error', verbose=2)\n",
    "\n",
    "grid.fit(housing_prepared, housing_labels)"
   ]
  },
  {
   "cell_type": "code",
   "execution_count": 75,
   "metadata": {},
   "outputs": [
    {
     "data": {
      "text/plain": [
       "70338.36756805143"
      ]
     },
     "execution_count": 75,
     "metadata": {},
     "output_type": "execute_result"
    }
   ],
   "source": [
    "negative_mse = grid.best_score_\n",
    "rmse = np.sqrt(-negative_mse)\n",
    "rmse"
   ]
  },
  {
   "cell_type": "code",
   "execution_count": 67,
   "metadata": {},
   "outputs": [
    {
     "data": {
      "text/plain": [
       "{'C': 1000.0, 'kernel': 'linear'}"
      ]
     },
     "execution_count": 67,
     "metadata": {},
     "output_type": "execute_result"
    }
   ],
   "source": [
    "grid.best_params_"
   ]
  },
  {
   "cell_type": "code",
   "execution_count": 68,
   "metadata": {},
   "outputs": [
    {
     "name": "stdout",
     "output_type": "stream",
     "text": [
      "81649.4933206491 {'C': 10.0, 'kernel': 'linear'}\n",
      "74344.25372740348 {'C': 30.0, 'kernel': 'linear'}\n",
      "71235.18700401639 {'C': 100.0, 'kernel': 'linear'}\n",
      "70485.58977342138 {'C': 300.0, 'kernel': 'linear'}\n",
      "70338.36756805143 {'C': 1000.0, 'kernel': 'linear'}\n",
      "70346.3175689201 {'C': 3000.0, 'kernel': 'linear'}\n",
      "70366.12439508669 {'C': 10000.0, 'kernel': 'linear'}\n",
      "70361.65894739094 {'C': 30000.0, 'kernel': 'linear'}\n",
      "118743.74833054295 {'C': 1.0, 'gamma': 0.01, 'kernel': 'rbf'}\n",
      "118581.24055475516 {'C': 1.0, 'gamma': 0.03, 'kernel': 'rbf'}\n",
      "118556.82411885096 {'C': 1.0, 'gamma': 0.1, 'kernel': 'rbf'}\n",
      "118764.37910427665 {'C': 1.0, 'gamma': 0.3, 'kernel': 'rbf'}\n",
      "118894.65726808914 {'C': 1.0, 'gamma': 1.0, 'kernel': 'rbf'}\n",
      "118918.06616121177 {'C': 1.0, 'gamma': 3.0, 'kernel': 'rbf'}\n",
      "118398.06973905365 {'C': 3.0, 'gamma': 0.01, 'kernel': 'rbf'}\n",
      "117911.51997815768 {'C': 3.0, 'gamma': 0.03, 'kernel': 'rbf'}\n",
      "117816.57261693868 {'C': 3.0, 'gamma': 0.1, 'kernel': 'rbf'}\n",
      "118441.34978932199 {'C': 3.0, 'gamma': 0.3, 'kernel': 'rbf'}\n",
      "118849.65264498336 {'C': 3.0, 'gamma': 1.0, 'kernel': 'rbf'}\n",
      "118909.91758842356 {'C': 3.0, 'gamma': 3.0, 'kernel': 'rbf'}\n",
      "117186.1192387479 {'C': 10.0, 'gamma': 0.01, 'kernel': 'rbf'}\n",
      "115587.24585064931 {'C': 10.0, 'gamma': 0.03, 'kernel': 'rbf'}\n",
      "115419.67531992932 {'C': 10.0, 'gamma': 0.1, 'kernel': 'rbf'}\n",
      "117373.76707118018 {'C': 10.0, 'gamma': 0.3, 'kernel': 'rbf'}\n",
      "118658.95230678072 {'C': 10.0, 'gamma': 1.0, 'kernel': 'rbf'}\n",
      "118894.27145221626 {'C': 10.0, 'gamma': 3.0, 'kernel': 'rbf'}\n",
      "113891.39651979167 {'C': 30.0, 'gamma': 0.01, 'kernel': 'rbf'}\n",
      "109753.25075273986 {'C': 30.0, 'gamma': 0.03, 'kernel': 'rbf'}\n",
      "109310.38565409077 {'C': 30.0, 'gamma': 0.1, 'kernel': 'rbf'}\n",
      "114571.00798626235 {'C': 30.0, 'gamma': 0.3, 'kernel': 'rbf'}\n",
      "118123.48297707527 {'C': 30.0, 'gamma': 1.0, 'kernel': 'rbf'}\n",
      "118813.13183577433 {'C': 30.0, 'gamma': 3.0, 'kernel': 'rbf'}\n",
      "104508.42391765259 {'C': 100.0, 'gamma': 0.01, 'kernel': 'rbf'}\n",
      "96076.28020132355 {'C': 100.0, 'gamma': 0.03, 'kernel': 'rbf'}\n",
      "96702.19467707397 {'C': 100.0, 'gamma': 0.1, 'kernel': 'rbf'}\n",
      "106654.49059069897 {'C': 100.0, 'gamma': 0.3, 'kernel': 'rbf'}\n",
      "116468.66172562062 {'C': 100.0, 'gamma': 1.0, 'kernel': 'rbf'}\n",
      "118518.83873781106 {'C': 100.0, 'gamma': 3.0, 'kernel': 'rbf'}\n",
      "90079.51496119903 {'C': 300.0, 'gamma': 0.01, 'kernel': 'rbf'}\n",
      "82503.22779931655 {'C': 300.0, 'gamma': 0.03, 'kernel': 'rbf'}\n",
      "84249.56938411361 {'C': 300.0, 'gamma': 0.1, 'kernel': 'rbf'}\n",
      "95788.4763571527 {'C': 300.0, 'gamma': 0.3, 'kernel': 'rbf'}\n",
      "112158.41710655265 {'C': 300.0, 'gamma': 1.0, 'kernel': 'rbf'}\n",
      "117806.58297104186 {'C': 300.0, 'gamma': 3.0, 'kernel': 'rbf'}\n",
      "76708.31026940662 {'C': 1000.0, 'gamma': 0.01, 'kernel': 'rbf'}\n",
      "71682.71712521858 {'C': 1000.0, 'gamma': 0.03, 'kernel': 'rbf'}\n",
      "72104.08507199411 {'C': 1000.0, 'gamma': 0.1, 'kernel': 'rbf'}\n",
      "82409.00279979226 {'C': 1000.0, 'gamma': 0.3, 'kernel': 'rbf'}\n",
      "103107.70899178713 {'C': 1000.0, 'gamma': 1.0, 'kernel': 'rbf'}\n",
      "115438.30817836129 {'C': 1000.0, 'gamma': 3.0, 'kernel': 'rbf'}\n"
     ]
    }
   ],
   "source": [
    "# evaluation scores\n",
    "cvres = grid.cv_results_\n",
    "for mean_score, params in zip(cvres[\"mean_test_score\"], cvres[\"params\"]):\n",
    "    print(np.sqrt(-mean_score), params)"
   ]
  },
  {
   "cell_type": "markdown",
   "metadata": {},
   "source": [
    "Best perfomance: 70338.36756805143 {'C': 1000.0, 'kernel': 'linear'}"
   ]
  },
  {
   "cell_type": "markdown",
   "metadata": {},
   "source": [
    "2. Try replacingGridSearchCV with RandomizedSearchCV."
   ]
  },
  {
   "cell_type": "code",
   "execution_count": 82,
   "metadata": {},
   "outputs": [
    {
     "name": "stdout",
     "output_type": "stream",
     "text": [
      "Fitting 5 folds for each of 50 candidates, totalling 250 fits\n"
     ]
    },
    {
     "name": "stderr",
     "output_type": "stream",
     "text": [
      "[Parallel(n_jobs=-1)]: Using backend LokyBackend with 4 concurrent workers.\n",
      "[Parallel(n_jobs=-1)]: Done  33 tasks      | elapsed:  3.0min\n",
      "[Parallel(n_jobs=-1)]: Done 154 tasks      | elapsed: 20.1min\n",
      "[Parallel(n_jobs=-1)]: Done 250 out of 250 | elapsed: 31.8min finished\n"
     ]
    },
    {
     "data": {
      "text/plain": [
       "RandomizedSearchCV(cv=5, estimator=SVR(), n_iter=50, n_jobs=-1,\n",
       "                   param_distributions={'C': <scipy.stats._distn_infrastructure.rv_frozen object at 0x120abfe80>,\n",
       "                                        'gamma': <scipy.stats._distn_infrastructure.rv_frozen object at 0x120abf128>,\n",
       "                                        'kernel': ['linear', 'rbf']},\n",
       "                   random_state=42, scoring='neg_mean_squared_error',\n",
       "                   verbose=2)"
      ]
     },
     "execution_count": 82,
     "metadata": {},
     "output_type": "execute_result"
    }
   ],
   "source": [
    "from sklearn.model_selection import RandomizedSearchCV\n",
    "from scipy.stats import expon, reciprocal\n",
    "\n",
    "# After running my own version, and getting not so good results,\n",
    "# I took a look at the book's answers to see what parameters the author used.\n",
    "\n",
    "param_distribs = {\n",
    "        'kernel': ['linear', 'rbf'],\n",
    "        'C': reciprocal(20, 200000),\n",
    "        'gamma': expon(scale=1.0),\n",
    "    }\n",
    "\n",
    "svm_reg = SVR()\n",
    "\n",
    "grid_rand = RandomizedSearchCV(svm_reg, param_distributions=param_distribs, cv=5, \n",
    "                               n_jobs=-1, n_iter=50, scoring='neg_mean_squared_error', \n",
    "                               verbose=2, random_state=42)\n",
    "\n",
    "grid_rand.fit(housing_prepared, housing_labels)"
   ]
  },
  {
   "cell_type": "code",
   "execution_count": 83,
   "metadata": {},
   "outputs": [
    {
     "data": {
      "text/plain": [
       "55215.341404932245"
      ]
     },
     "execution_count": 83,
     "metadata": {},
     "output_type": "execute_result"
    }
   ],
   "source": [
    "negative_mse = grid_rand.best_score_\n",
    "rmse = np.sqrt(-negative_mse)\n",
    "rmse"
   ]
  },
  {
   "cell_type": "code",
   "execution_count": 84,
   "metadata": {},
   "outputs": [
    {
     "data": {
      "text/plain": [
       "{'C': 157055.10989448498, 'gamma': 0.26497040005002437, 'kernel': 'rbf'}"
      ]
     },
     "execution_count": 84,
     "metadata": {},
     "output_type": "execute_result"
    }
   ],
   "source": [
    "grid_rand.best_params_"
   ]
  },
  {
   "cell_type": "markdown",
   "metadata": {},
   "source": [
    "3. Try adding a transformer in the preparation pipeline to select only the most important attributes."
   ]
  },
  {
   "cell_type": "markdown",
   "metadata": {},
   "source": [
    "...will continue tomorrow"
   ]
  },
  {
   "cell_type": "code",
   "execution_count": null,
   "metadata": {},
   "outputs": [],
   "source": []
  }
 ],
 "metadata": {
  "kernelspec": {
   "display_name": "Python 3",
   "language": "python",
   "name": "python3"
  },
  "language_info": {
   "codemirror_mode": {
    "name": "ipython",
    "version": 3
   },
   "file_extension": ".py",
   "mimetype": "text/x-python",
   "name": "python",
   "nbconvert_exporter": "python",
   "pygments_lexer": "ipython3",
   "version": "3.7.3"
  }
 },
 "nbformat": 4,
 "nbformat_minor": 4
}
